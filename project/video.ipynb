{
 "cells": [
  {
   "cell_type": "code",
   "execution_count": 1,
   "metadata": {},
   "outputs": [],
   "source": [
    "import time\r\n",
    "import math\r\n",
    "import cv2\r\n",
    "import numpy as np"
   ]
  },
  {
   "cell_type": "code",
   "execution_count": null,
   "metadata": {},
   "outputs": [],
   "source": [
    "confid = 0.5\r\n",
    "thresh = 0.5\r\n",
    "# vname=\"\"\r\n",
    "vname=input(\"Video name in videos folder:  \")\r\n",
    "if(vname==\"\"):\r\n",
    "    vname=\"Town.mp4\"\r\n",
    "vid_path = \"./videos/\"+vname\r\n",
    "angle_factor = 0.8\r\n",
    "H_zoom_factor = 1.2\r\n",
    "# Calibration needed for each video\r\n",
    "\r\n",
    "def dist(c1, c2):\r\n",
    "    return ((c1[0] - c2[0]) ** 2 + (c1[1] - c2[1]) ** 2) ** 0.5\r\n",
    "\r\n",
    "def T2S(T):\r\n",
    "    S = abs(T/((1+T**2)**0.5))\r\n",
    "    return S\r\n",
    "\r\n",
    "def T2C(T):\r\n",
    "    C = abs(1/((1+T**2)**0.5))\r\n",
    "    return C\r\n",
    "\r\n",
    "def isclose(p1,p2):\r\n",
    "\r\n",
    "    c_d = dist(p1[2], p2[2])\r\n",
    "    if(p1[1]<p2[1]):\r\n",
    "        a_w = p1[0]\r\n",
    "        a_h = p1[1]\r\n",
    "    else:\r\n",
    "        a_w = p2[0]\r\n",
    "        a_h = p2[1]\r\n",
    "\r\n",
    "    T = 0\r\n",
    "    try:\r\n",
    "        T=(p2[2][1]-p1[2][1])/(p2[2][0]-p1[2][0])\r\n",
    "    except ZeroDivisionError:\r\n",
    "        T = 1.633123935319537e+16\r\n",
    "    S = T2S(T)\r\n",
    "    C = T2C(T)\r\n",
    "    d_hor = C*c_d\r\n",
    "    d_ver = S*c_d\r\n",
    "    vc_calib_hor = a_w*1.3\r\n",
    "    vc_calib_ver = a_h*0.4*angle_factor\r\n",
    "    c_calib_hor = a_w *1.7\r\n",
    "    c_calib_ver = a_h*0.2*angle_factor\r\n",
    "    # print(p1[2], p2[2],(vc_calib_hor,d_hor),(vc_calib_ver,d_ver))\r\n",
    "    if (0<d_hor<vc_calib_hor and 0<d_ver<vc_calib_ver):\r\n",
    "        return 1\r\n",
    "    elif 0<d_hor<c_calib_hor and 0<d_ver<c_calib_ver:\r\n",
    "        return 2\r\n",
    "    else:\r\n",
    "        return 0"
   ]
  }
 ],
 "metadata": {
  "interpreter": {
   "hash": "8c1eae21719a0790335dcb83aad72b63b602cfe5cdb2bda0f60bc11d4f154e4b"
  },
  "kernelspec": {
   "display_name": "Python 3.8.5 64-bit ('base': conda)",
   "name": "python3"
  },
  "language_info": {
   "codemirror_mode": {
    "name": "ipython",
    "version": 3
   },
   "file_extension": ".py",
   "mimetype": "text/x-python",
   "name": "python",
   "nbconvert_exporter": "python",
   "pygments_lexer": "ipython3",
   "version": "3.8.5"
  },
  "orig_nbformat": 4
 },
 "nbformat": 4,
 "nbformat_minor": 2
}