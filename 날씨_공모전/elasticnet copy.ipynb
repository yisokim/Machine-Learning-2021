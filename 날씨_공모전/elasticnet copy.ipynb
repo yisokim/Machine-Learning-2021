{
 "cells": [
  {
   "cell_type": "code",
   "execution_count": 1,
   "source": [
    "# 경고무시\r\n",
    "import warnings\r\n",
    "warnings.filterwarnings(action='ignore', category=DeprecationWarning)"
   ],
   "outputs": [],
   "metadata": {}
  },
  {
   "cell_type": "code",
   "execution_count": 2,
   "source": [
    "# load library\r\n",
    "import pandas as pd \r\n",
    "import numpy as np\r\n",
    "from sklearn.linear_model import ElasticNet # 엘라스틱넷\r\n",
    "import matplotlib.pyplot as plt\r\n",
    "%matplotlib inline\r\n",
    "from sklearn.model_selection import train_test_split\r\n",
    "from sklearn.model_selection import GridSearchCV, cross_val_score\r\n",
    "from sklearn.metrics import r2_score, mean_squared_error\r\n",
    "from sklearn.metrics import accuracy_score"
   ],
   "outputs": [],
   "metadata": {}
  },
  {
   "cell_type": "code",
   "execution_count": 3,
   "source": [
    "# load data\r\n",
    "감말랭이 = pd.read_csv(\"C:/ken/elasticnet/감말랭이_new.csv\")\r\n",
    "감말랭이.head()"
   ],
   "outputs": [
    {
     "output_type": "execute_result",
     "data": {
      "text/plain": [
       "                   date       PC1       PC2      감말랭이\n",
       "0  2018-01-01T00:00:00Z -3.719474  0.965108  2.862813\n",
       "1  2018-01-02T00:00:00Z -3.741912  0.888377  4.328310\n",
       "2  2018-01-03T00:00:00Z -4.074829  0.748572  5.545913\n",
       "3  2018-01-04T00:00:00Z -4.325838  0.235772  5.867105\n",
       "4  2018-01-05T00:00:00Z -3.772842  0.246325  4.414783"
      ],
      "text/html": [
       "<div>\n",
       "<style scoped>\n",
       "    .dataframe tbody tr th:only-of-type {\n",
       "        vertical-align: middle;\n",
       "    }\n",
       "\n",
       "    .dataframe tbody tr th {\n",
       "        vertical-align: top;\n",
       "    }\n",
       "\n",
       "    .dataframe thead th {\n",
       "        text-align: right;\n",
       "    }\n",
       "</style>\n",
       "<table border=\"1\" class=\"dataframe\">\n",
       "  <thead>\n",
       "    <tr style=\"text-align: right;\">\n",
       "      <th></th>\n",
       "      <th>date</th>\n",
       "      <th>PC1</th>\n",
       "      <th>PC2</th>\n",
       "      <th>감말랭이</th>\n",
       "    </tr>\n",
       "  </thead>\n",
       "  <tbody>\n",
       "    <tr>\n",
       "      <th>0</th>\n",
       "      <td>2018-01-01T00:00:00Z</td>\n",
       "      <td>-3.719474</td>\n",
       "      <td>0.965108</td>\n",
       "      <td>2.862813</td>\n",
       "    </tr>\n",
       "    <tr>\n",
       "      <th>1</th>\n",
       "      <td>2018-01-02T00:00:00Z</td>\n",
       "      <td>-3.741912</td>\n",
       "      <td>0.888377</td>\n",
       "      <td>4.328310</td>\n",
       "    </tr>\n",
       "    <tr>\n",
       "      <th>2</th>\n",
       "      <td>2018-01-03T00:00:00Z</td>\n",
       "      <td>-4.074829</td>\n",
       "      <td>0.748572</td>\n",
       "      <td>5.545913</td>\n",
       "    </tr>\n",
       "    <tr>\n",
       "      <th>3</th>\n",
       "      <td>2018-01-04T00:00:00Z</td>\n",
       "      <td>-4.325838</td>\n",
       "      <td>0.235772</td>\n",
       "      <td>5.867105</td>\n",
       "    </tr>\n",
       "    <tr>\n",
       "      <th>4</th>\n",
       "      <td>2018-01-05T00:00:00Z</td>\n",
       "      <td>-3.772842</td>\n",
       "      <td>0.246325</td>\n",
       "      <td>4.414783</td>\n",
       "    </tr>\n",
       "  </tbody>\n",
       "</table>\n",
       "</div>"
      ]
     },
     "metadata": {},
     "execution_count": 3
    }
   ],
   "metadata": {}
  },
  {
   "cell_type": "code",
   "execution_count": 4,
   "source": [
    "# 날짜 컬럼 인덱스로 지정하기. \r\n",
    "감말랭이 = 감말랭이.set_index('date')\r\n",
    "감말랭이 = 감말랭이.loc['2018-01-01' : '2019-12-31']"
   ],
   "outputs": [],
   "metadata": {}
  },
  {
   "cell_type": "code",
   "execution_count": 5,
   "source": [
    "# 데이터셋의 target 변수 스케일링\r\n",
    "from sklearn.preprocessing import MinMaxScaler\r\n",
    "감말랭이['감말랭이_scaling'] = MinMaxScaler().fit_transform(감말랭이[['감말랭이']])\r\n",
    "\r\n",
    "X = 감말랭이[['PC1','PC2']]\r\n",
    "y = 감말랭이[['감말랭이']]"
   ],
   "outputs": [],
   "metadata": {}
  },
  {
   "cell_type": "code",
   "execution_count": 6,
   "source": [
    "x_train, x_test, y_train, y_test = train_test_split(\r\n",
    "                    X, y, test_size = 0.5, shuffle=False, random_state=2021) \r\n",
    "#test_size = 0.5로 하면 트레인, 테스트 반반으로 나뉘는 거니까"
   ],
   "outputs": [],
   "metadata": {}
  },
  {
   "cell_type": "code",
   "execution_count": 7,
   "source": [
    "x_train.shape, x_test.shape"
   ],
   "outputs": [
    {
     "output_type": "execute_result",
     "data": {
      "text/plain": [
       "((364, 2), (365, 2))"
      ]
     },
     "metadata": {},
     "execution_count": 7
    }
   ],
   "metadata": {}
  },
  {
   "cell_type": "code",
   "execution_count": 9,
   "source": [
    "alphas = [0.0001, 0.001, 0.01, 0.1, 0.3, 0.5, 0.7, 1]\r\n",
    "\r\n",
    "for a in alphas:\r\n",
    "    model = ElasticNet(alpha=a).fit(X, y)\r\n",
    "    score = model.score(X, y)\r\n",
    "    pred_y = model.predict(X)\r\n",
    "    mse = mean_squared_error(y, pred_y)\r\n",
    "    print(\"Alpha:{0:.4f}, R2:{1:.2f},MSE:{2:.2f}, RMSE:{3:.2f}\".format(a, score, mse, np.sqrt(mse)))"
   ],
   "outputs": [
    {
     "output_type": "stream",
     "name": "stdout",
     "text": [
      "Alpha:0.0001, R2:0.38,MSE:2.59, RMSE:1.61\n",
      "Alpha:0.0010, R2:0.38,MSE:2.59, RMSE:1.61\n",
      "Alpha:0.0100, R2:0.38,MSE:2.59, RMSE:1.61\n",
      "Alpha:0.1000, R2:0.38,MSE:2.59, RMSE:1.61\n",
      "Alpha:0.3000, R2:0.38,MSE:2.60, RMSE:1.61\n",
      "Alpha:0.5000, R2:0.38,MSE:2.61, RMSE:1.62\n",
      "Alpha:0.7000, R2:0.37,MSE:2.63, RMSE:1.62\n",
      "Alpha:1.0000, R2:0.36,MSE:2.66, RMSE:1.63\n"
     ]
    }
   ],
   "metadata": {}
  },
  {
   "cell_type": "markdown",
   "source": [
    "R2(설명력) 높고 MSE와 RMSE 낮은 alpha = 0.0001, 0.001, 0.01, 0.1"
   ],
   "metadata": {}
  },
  {
   "cell_type": "code",
   "execution_count": 18,
   "source": [
    "# 애매하기 때문에 cross validation 돌려서 최적의 alpha 출력\r\n",
    "from sklearn.linear_model import ElasticNetCV\r\n",
    "\r\n",
    "elasticnet_cv=ElasticNetCV(alphas=alphas, cv=100)\r\n",
    "model = elasticnet_cv.fit(x_train, y_train)\r\n",
    "print(model.alpha_)"
   ],
   "outputs": [
    {
     "output_type": "stream",
     "name": "stdout",
     "text": [
      "0.1\n"
     ]
    },
    {
     "output_type": "stream",
     "name": "stderr",
     "text": [
      "C:\\Users\\CPB06GameN\\miniconda3\\lib\\site-packages\\sklearn\\utils\\validation.py:63: DataConversionWarning: A column-vector y was passed when a 1d array was expected. Please change the shape of y to (n_samples, ), for example using ravel().\n",
      "  return f(*args, **kwargs)\n"
     ]
    }
   ],
   "metadata": {}
  },
  {
   "cell_type": "markdown",
   "source": [
    "alpha값이 0.1로 출력됐음 -> alpha가 0.1일 때, 테스트 세트에 대한 예측 확률이 좋았음"
   ],
   "metadata": {}
  },
  {
   "cell_type": "code",
   "execution_count": 20,
   "source": [
    "# calculate elasticnet R2, MSE, RMSE from test data\r\n",
    "elasticnet=ElasticNet(alpha=0.1).fit(x_train, y_train)\r\n",
    "ypred_elasticnet = elasticnet.predict(x_test)\r\n",
    "score_elasticnet = elasticnet.score(x_test, y_test)\r\n",
    "mse_elasticnet = mean_squared_error(y_test, ypred_elasticnet)\r\n",
    "print(\"Final Result: Elasticnet R2:{0:.3f}, MSE:{1:.2f}, RMSE:{2:.2f}\"\r\n",
    ".format(score_elasticnet, mse_elasticnet, np.sqrt(mse_elasticnet)))"
   ],
   "outputs": [
    {
     "output_type": "stream",
     "name": "stdout",
     "text": [
      "Final Result: Elasticnet R2:0.270, MSE:2.28, RMSE:1.51\n"
     ]
    }
   ],
   "metadata": {}
  },
  {
   "cell_type": "code",
   "execution_count": 22,
   "source": [
    "# y_true vs y_pred (시각화해서 비교)\r\n",
    "\r\n",
    "fig = plt.figure( figsize = (12, 4) )\r\n",
    "chart = fig.add_subplot(1,1,1)\r\n",
    "chart.plot(y_test, marker='o', color='blue', label='real value')\r\n",
    "chart.plot(ypred_elasticnet, marker='^', color='red', label='predict value')\r\n",
    "chart.set_title('real value vs predict value')\r\n",
    "plt.xlabel('index')\r\n",
    "plt.ylabel('real vs predict')\r\n",
    "plt.legend(loc = 'best') "
   ],
   "outputs": [
    {
     "output_type": "execute_result",
     "data": {
      "text/plain": [
       "<matplotlib.legend.Legend at 0x1fb66bd4ac0>"
      ]
     },
     "metadata": {},
     "execution_count": 22
    },
    {
     "output_type": "display_data",
     "data": {
      "text/plain": [
       "<Figure size 864x288 with 1 Axes>"
      ],
      "image/png": "[encoded data removed]"
     },
     "metadata": {
      "needs_background": "light"
     }
    }
   ],
   "metadata": {}
  }
 ],
 "metadata": {
  "orig_nbformat": 4,
  "language_info": {
   "name": "python"
  }
 },
 "nbformat": 4,
 "nbformat_minor": 2
}