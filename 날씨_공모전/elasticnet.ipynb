{
 "cells": [
  {
   "cell_type": "code",
   "execution_count": 1,
   "source": [
    "# 경고무시\r\n",
    "import warnings\r\n",
    "warnings.filterwarnings(action='ignore', category=DeprecationWarning)"
   ],
   "outputs": [],
   "metadata": {}
  },
  {
   "cell_type": "code",
   "execution_count": 2,
   "source": [
    "# load library\r\n",
    "import pandas as pd \r\n",
    "import numpy as np\r\n",
    "from sklearn.linear_model import ElasticNet # 엘라스틱넷\r\n",
    "import matplotlib.pyplot as plt\r\n",
    "%matplotlib inline\r\n",
    "# from sklearn.model_selection import train_test_split\r\n",
    "from sklearn.model_selection import GridSearchCV, cross_val_score\r\n",
    "from sklearn.metrics import r2_score, mean_squared_error\r\n",
    "from sklearn.metrics import accuracy_score\r\n",
    "\r\n",
    "# 난수씨드값 지정하기.\r\n",
    "np.random.seed(seed=2021)"
   ],
   "outputs": [],
   "metadata": {}
  },
  {
   "cell_type": "code",
   "execution_count": 3,
   "source": [
    "# load data\r\n",
    "감말랭이 = pd.read_csv(\"C:/ken/elasticnet/감말랭이_new.csv\")\r\n",
    "감말랭이.head()"
   ],
   "outputs": [
    {
     "output_type": "execute_result",
     "data": {
      "text/plain": [
       "                   date       PC1       PC2      감말랭이\n",
       "0  2018-01-01T00:00:00Z -3.719474  0.965108  2.862813\n",
       "1  2018-01-02T00:00:00Z -3.741912  0.888377  4.328310\n",
       "2  2018-01-03T00:00:00Z -4.074829  0.748572  5.545913\n",
       "3  2018-01-04T00:00:00Z -4.325838  0.235772  5.867105\n",
       "4  2018-01-05T00:00:00Z -3.772842  0.246325  4.414783"
      ],
      "text/html": [
       "<div>\n",
       "<style scoped>\n",
       "    .dataframe tbody tr th:only-of-type {\n",
       "        vertical-align: middle;\n",
       "    }\n",
       "\n",
       "    .dataframe tbody tr th {\n",
       "        vertical-align: top;\n",
       "    }\n",
       "\n",
       "    .dataframe thead th {\n",
       "        text-align: right;\n",
       "    }\n",
       "</style>\n",
       "<table border=\"1\" class=\"dataframe\">\n",
       "  <thead>\n",
       "    <tr style=\"text-align: right;\">\n",
       "      <th></th>\n",
       "      <th>date</th>\n",
       "      <th>PC1</th>\n",
       "      <th>PC2</th>\n",
       "      <th>감말랭이</th>\n",
       "    </tr>\n",
       "  </thead>\n",
       "  <tbody>\n",
       "    <tr>\n",
       "      <th>0</th>\n",
       "      <td>2018-01-01T00:00:00Z</td>\n",
       "      <td>-3.719474</td>\n",
       "      <td>0.965108</td>\n",
       "      <td>2.862813</td>\n",
       "    </tr>\n",
       "    <tr>\n",
       "      <th>1</th>\n",
       "      <td>2018-01-02T00:00:00Z</td>\n",
       "      <td>-3.741912</td>\n",
       "      <td>0.888377</td>\n",
       "      <td>4.328310</td>\n",
       "    </tr>\n",
       "    <tr>\n",
       "      <th>2</th>\n",
       "      <td>2018-01-03T00:00:00Z</td>\n",
       "      <td>-4.074829</td>\n",
       "      <td>0.748572</td>\n",
       "      <td>5.545913</td>\n",
       "    </tr>\n",
       "    <tr>\n",
       "      <th>3</th>\n",
       "      <td>2018-01-04T00:00:00Z</td>\n",
       "      <td>-4.325838</td>\n",
       "      <td>0.235772</td>\n",
       "      <td>5.867105</td>\n",
       "    </tr>\n",
       "    <tr>\n",
       "      <th>4</th>\n",
       "      <td>2018-01-05T00:00:00Z</td>\n",
       "      <td>-3.772842</td>\n",
       "      <td>0.246325</td>\n",
       "      <td>4.414783</td>\n",
       "    </tr>\n",
       "  </tbody>\n",
       "</table>\n",
       "</div>"
      ]
     },
     "metadata": {},
     "execution_count": 3
    }
   ],
   "metadata": {}
  },
  {
   "cell_type": "code",
   "execution_count": 4,
   "source": [
    "# 날짜 컬럼 인덱스로 지정하기. \r\n",
    "감말랭이 = 감말랭이.set_index('date')\r\n",
    "\r\n",
    "# 데이터셋의 target 변수 스케일링\r\n",
    "from sklearn.preprocessing import MinMaxScaler\r\n",
    "감말랭이['감말랭이_scaling'] = MinMaxScaler().fit_transform(감말랭이[['감말랭이']])\r\n",
    "\r\n",
    "# 기존 target 변수 삭제\r\n",
    "del 감말랭이['감말랭이']\r\n",
    "\r\n",
    "# train, test 데이터셋을 연속적으로 분할하기. \r\n",
    "X_train = 감말랭이.iloc[0:365,:-1]\r\n",
    "y_train = 감말랭이.iloc[0:365,-1]\r\n",
    "X_test  = 감말랭이.iloc[365:730,:-1]\r\n",
    "y_test  = 감말랭이.iloc[365:730,-1]\r\n",
    "\r\n",
    "# 데이터셋 차원 확인하기.\r\n",
    "X_train.shape, y_train.shape, X_test.shape, y_test.shape"
   ],
   "outputs": [
    {
     "output_type": "execute_result",
     "data": {
      "text/plain": [
       "((365, 2), (365,), (365, 2), (365,))"
      ]
     },
     "metadata": {},
     "execution_count": 4
    }
   ],
   "metadata": {}
  },
  {
   "cell_type": "code",
   "execution_count": 9,
   "source": [
    "alphas = [0.0001, 0.001, 0.01, 0.1, 0.3, 0.5, 0.7, 1]\r\n",
    "\r\n",
    "for a in alphas:\r\n",
    "    model = ElasticNet(alpha=a).fit(X_train,y_train)\r\n",
    "    score = model.score(X_test,y_test)\r\n",
    "    pred_y = model.predict(X_test)\r\n",
    "    mse = mean_squared_error(y_test, pred_y)\r\n",
    "    \r\n",
    "print(\"Alpha:{0:.4f}, R2:{1:.2f}, MSE:{2:.2f}, RMSE:{3:.2f}\".format(a, score, mse, np.sqrt(mse)))"
   ],
   "outputs": [
    {
     "output_type": "stream",
     "name": "stdout",
     "text": [
      "Alpha:1.0000, R2:-0.07, MSE:0.03, RMSE:0.17\n"
     ]
    }
   ],
   "metadata": {}
  },
  {
   "cell_type": "code",
   "execution_count": 5,
   "source": [
    "# 회귀모델의 alpha값에 따라 RMSE 출력 후 회귀계수값을 DataFrame으로 반환하는 함수\r\n",
    "def get_linear_reg_eval(\r\n",
    "    model_name, params=None, X_train_n=None, y_test_n=None, verbose=True):\r\n",
    "    coeff_df = pd.DataFrame()\r\n",
    "    if verbose : print('######', model_name, '######')\r\n",
    "\r\n",
    "    # 알파값마다 for 문을 돌면서 RMSE 계산\r\n",
    "    for param in params:\r\n",
    "\r\n",
    "        # 입력된 규제 선형회귀(ElasticNet) 조건에 맞게 객체 생성\r\n",
    "        if model_name == 'ElasticNet' : model = ElasticNet(alpha=param, l1_ratio=0.7)\r\n",
    "\r\n",
    "        # 학습 및 평가(cross_val_score:MSE를 리스트 형태로 반환해줌)\r\n",
    "        neg_mse_scores = cross_val_score(model, X_train_n, y_test_n,\r\n",
    "                                         scoring=\"neg_mean_squared_error\", cv=5)\r\n",
    "        avg_rmse = np.mean(np.sqrt(-1 * neg_mse_scores))\r\n",
    "        print('alpha {0}일 때 5 폴드 세트의 평균 RMSE:{1:.3f}', format(param, avg_rmse))\r\n",
    "\r\n",
    "        # 모델을 다시 학습해 변수 별 회귀계수 추출(cross_val_score는 evaluation metric만 반환하므로)\r\n",
    "        model.fit(x_train, y_test)\r\n",
    "        # alpha에 따른 피쳐별 회귀계수를 series로 변환하고 이를 dataframe의 칼럼으로 추가\r\n",
    "        coeff = pd.Series(data=model.coef_, index=x_train.columns)\r\n",
    "        colname='alpha:' + str(param)\r\n",
    "        coeff_df[colname] = coeff\r\n",
    "    return coeff_df"
   ],
   "outputs": [],
   "metadata": {}
  },
  {
   "cell_type": "code",
   "execution_count": 6,
   "source": [
    "# 엘라스틱넷에 사용될 alpha 파라미터의 값들 정의\r\n",
    "# get_linear_reg_eval() 함수 호출, l1_ratio=0.7로 고정\r\n",
    "alphas = [0.0001, 0.001, 0.01, 0.1, 0.3, 0.5, 0.7, 1]\r\n",
    "coeff_elastic_df = get_linear_reg_eval(\r\n",
    "    'ElasticNet',\r\n",
    "    params=alphas,\r\n",
    "    X_train_n=X_train,\r\n",
    "    y_test_n=y_test)"
   ],
   "outputs": [
    {
     "output_type": "stream",
     "name": "stdout",
     "text": [
      "###### ElasticNet ######\n"
     ]
    },
    {
     "output_type": "error",
     "ename": "TypeError",
     "evalue": "format() argument 2 must be str, not numpy.float64",
     "traceback": [
      "\u001b[1;31m---------------------------------------------------------------------------\u001b[0m",
      "\u001b[1;31mTypeError\u001b[0m                                 Traceback (most recent call last)",
      "\u001b[1;32m<ipython-input-6-7d600bfea280>\u001b[0m in \u001b[0;36m<module>\u001b[1;34m\u001b[0m\n\u001b[0;32m      2\u001b[0m \u001b[1;31m# get_linear_reg_eval() 함수 호출, l1_ratio=0.7로 고정\u001b[0m\u001b[1;33m\u001b[0m\u001b[1;33m\u001b[0m\u001b[1;33m\u001b[0m\u001b[0m\n\u001b[0;32m      3\u001b[0m \u001b[0malphas\u001b[0m \u001b[1;33m=\u001b[0m \u001b[1;33m[\u001b[0m\u001b[1;36m0.0001\u001b[0m\u001b[1;33m,\u001b[0m \u001b[1;36m0.001\u001b[0m\u001b[1;33m,\u001b[0m \u001b[1;36m0.01\u001b[0m\u001b[1;33m,\u001b[0m \u001b[1;36m0.1\u001b[0m\u001b[1;33m,\u001b[0m \u001b[1;36m0.3\u001b[0m\u001b[1;33m,\u001b[0m \u001b[1;36m0.5\u001b[0m\u001b[1;33m,\u001b[0m \u001b[1;36m0.7\u001b[0m\u001b[1;33m,\u001b[0m \u001b[1;36m1\u001b[0m\u001b[1;33m]\u001b[0m\u001b[1;33m\u001b[0m\u001b[1;33m\u001b[0m\u001b[0m\n\u001b[1;32m----> 4\u001b[1;33m elastic_df = get_linear_reg_eval(\n\u001b[0m\u001b[0;32m      5\u001b[0m     \u001b[1;34m'ElasticNet'\u001b[0m\u001b[1;33m,\u001b[0m\u001b[1;33m\u001b[0m\u001b[1;33m\u001b[0m\u001b[0m\n\u001b[0;32m      6\u001b[0m     \u001b[0mparams\u001b[0m\u001b[1;33m=\u001b[0m\u001b[0malphas\u001b[0m\u001b[1;33m,\u001b[0m\u001b[1;33m\u001b[0m\u001b[1;33m\u001b[0m\u001b[0m\n",
      "\u001b[1;32m<ipython-input-5-0d821780efab>\u001b[0m in \u001b[0;36mget_linear_reg_eval\u001b[1;34m(model_name, params, X_train_n, y_test_n, verbose)\u001b[0m\n\u001b[0;32m     15\u001b[0m                                          scoring=\"neg_mean_squared_error\", cv=5)\n\u001b[0;32m     16\u001b[0m         \u001b[0mavg_rmse\u001b[0m \u001b[1;33m=\u001b[0m \u001b[0mnp\u001b[0m\u001b[1;33m.\u001b[0m\u001b[0mmean\u001b[0m\u001b[1;33m(\u001b[0m\u001b[0mnp\u001b[0m\u001b[1;33m.\u001b[0m\u001b[0msqrt\u001b[0m\u001b[1;33m(\u001b[0m\u001b[1;33m-\u001b[0m\u001b[1;36m1\u001b[0m \u001b[1;33m*\u001b[0m \u001b[0mneg_mse_scores\u001b[0m\u001b[1;33m)\u001b[0m\u001b[1;33m)\u001b[0m\u001b[1;33m\u001b[0m\u001b[1;33m\u001b[0m\u001b[0m\n\u001b[1;32m---> 17\u001b[1;33m         \u001b[0mprint\u001b[0m\u001b[1;33m(\u001b[0m\u001b[1;34m'alpha {0}일 때 5 폴드 세트의 평균 RMSE:{1:.3f}'\u001b[0m\u001b[1;33m,\u001b[0m \u001b[0mformat\u001b[0m\u001b[1;33m(\u001b[0m\u001b[0mparam\u001b[0m\u001b[1;33m,\u001b[0m \u001b[0mavg_rmse\u001b[0m\u001b[1;33m)\u001b[0m\u001b[1;33m)\u001b[0m\u001b[1;33m\u001b[0m\u001b[1;33m\u001b[0m\u001b[0m\n\u001b[0m\u001b[0;32m     18\u001b[0m \u001b[1;33m\u001b[0m\u001b[0m\n\u001b[0;32m     19\u001b[0m         \u001b[1;31m# 모델을 다시 학습해 변수 별 회귀계수 추출(cross_val_score는 evaluation metric만 반환하므로)\u001b[0m\u001b[1;33m\u001b[0m\u001b[1;33m\u001b[0m\u001b[1;33m\u001b[0m\u001b[0m\n",
      "\u001b[1;31mTypeError\u001b[0m: format() argument 2 must be str, not numpy.float64"
     ]
    }
   ],
   "metadata": {}
  },
  {
   "cell_type": "code",
   "execution_count": null,
   "source": [],
   "outputs": [],
   "metadata": {}
  }
 ],
 "metadata": {
  "orig_nbformat": 4,
  "language_info": {
   "name": "python"
  }
 },
 "nbformat": 4,
 "nbformat_minor": 2
}