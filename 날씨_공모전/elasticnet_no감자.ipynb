{
 "cells": [
  {
   "cell_type": "code",
   "execution_count": 1,
   "source": [
    "# 경고무시\r\n",
    "import warnings\r\n",
    "warnings.filterwarnings(action='ignore', category=DeprecationWarning)"
   ],
   "outputs": [],
   "metadata": {}
  },
  {
   "cell_type": "code",
   "execution_count": 2,
   "source": [
    "# load library\r\n",
    "import pandas as pd \r\n",
    "import numpy as np\r\n",
    "from sklearn.linear_model import ElasticNet # 엘라스틱넷\r\n",
    "import matplotlib.pyplot as plt\r\n",
    "%matplotlib inline\r\n",
    "from sklearn.model_selection import train_test_split\r\n",
    "from sklearn.model_selection import GridSearchCV, cross_val_score\r\n",
    "from sklearn.metrics import r2_score, mean_squared_error\r\n",
    "from sklearn.metrics import accuracy_score"
   ],
   "outputs": [],
   "metadata": {}
  },
  {
   "cell_type": "code",
   "execution_count": 3,
   "source": [
    "# load data\r\n",
    "감자 = pd.read_csv(\"C:/ken/elasticnet/감자_u.csv\")\r\n",
    "감자.head()"
   ],
   "outputs": [
    {
     "output_type": "execute_result",
     "data": {
      "text/plain": [
       "                   date       PC1       PC2          감자\n",
       "0  2018-01-01T00:00:00Z -3.719474  0.965108  155.474491\n",
       "1  2018-01-02T00:00:00Z -3.741912  0.888377  187.012187\n",
       "2  2018-01-03T00:00:00Z -4.074829  0.748572  198.857517\n",
       "3  2018-01-04T00:00:00Z -4.325838  0.235772  201.311370\n",
       "4  2018-01-05T00:00:00Z -3.772842  0.246325  192.594032"
      ],
      "text/html": [
       "<div>\n",
       "<style scoped>\n",
       "    .dataframe tbody tr th:only-of-type {\n",
       "        vertical-align: middle;\n",
       "    }\n",
       "\n",
       "    .dataframe tbody tr th {\n",
       "        vertical-align: top;\n",
       "    }\n",
       "\n",
       "    .dataframe thead th {\n",
       "        text-align: right;\n",
       "    }\n",
       "</style>\n",
       "<table border=\"1\" class=\"dataframe\">\n",
       "  <thead>\n",
       "    <tr style=\"text-align: right;\">\n",
       "      <th></th>\n",
       "      <th>date</th>\n",
       "      <th>PC1</th>\n",
       "      <th>PC2</th>\n",
       "      <th>감자</th>\n",
       "    </tr>\n",
       "  </thead>\n",
       "  <tbody>\n",
       "    <tr>\n",
       "      <th>0</th>\n",
       "      <td>2018-01-01T00:00:00Z</td>\n",
       "      <td>-3.719474</td>\n",
       "      <td>0.965108</td>\n",
       "      <td>155.474491</td>\n",
       "    </tr>\n",
       "    <tr>\n",
       "      <th>1</th>\n",
       "      <td>2018-01-02T00:00:00Z</td>\n",
       "      <td>-3.741912</td>\n",
       "      <td>0.888377</td>\n",
       "      <td>187.012187</td>\n",
       "    </tr>\n",
       "    <tr>\n",
       "      <th>2</th>\n",
       "      <td>2018-01-03T00:00:00Z</td>\n",
       "      <td>-4.074829</td>\n",
       "      <td>0.748572</td>\n",
       "      <td>198.857517</td>\n",
       "    </tr>\n",
       "    <tr>\n",
       "      <th>3</th>\n",
       "      <td>2018-01-04T00:00:00Z</td>\n",
       "      <td>-4.325838</td>\n",
       "      <td>0.235772</td>\n",
       "      <td>201.311370</td>\n",
       "    </tr>\n",
       "    <tr>\n",
       "      <th>4</th>\n",
       "      <td>2018-01-05T00:00:00Z</td>\n",
       "      <td>-3.772842</td>\n",
       "      <td>0.246325</td>\n",
       "      <td>192.594032</td>\n",
       "    </tr>\n",
       "  </tbody>\n",
       "</table>\n",
       "</div>"
      ]
     },
     "metadata": {},
     "execution_count": 3
    }
   ],
   "metadata": {}
  },
  {
   "cell_type": "code",
   "execution_count": 4,
   "source": [
    "감자.tail()"
   ],
   "outputs": [
    {
     "output_type": "execute_result",
     "data": {
      "text/plain": [
       "                     date       PC1       PC2          감자\n",
       "725  2019-12-27T00:00:00Z -3.280702  1.070884  168.457130\n",
       "726  2019-12-28T00:00:00Z -3.036702  0.091263  164.817618\n",
       "727  2019-12-29T00:00:00Z -2.978009 -1.269522  189.946225\n",
       "728  2019-12-30T00:00:00Z -3.011497 -1.995486  171.678150\n",
       "729  2019-12-31T00:00:00Z -4.444109  1.307838  160.040030"
      ],
      "text/html": [
       "<div>\n",
       "<style scoped>\n",
       "    .dataframe tbody tr th:only-of-type {\n",
       "        vertical-align: middle;\n",
       "    }\n",
       "\n",
       "    .dataframe tbody tr th {\n",
       "        vertical-align: top;\n",
       "    }\n",
       "\n",
       "    .dataframe thead th {\n",
       "        text-align: right;\n",
       "    }\n",
       "</style>\n",
       "<table border=\"1\" class=\"dataframe\">\n",
       "  <thead>\n",
       "    <tr style=\"text-align: right;\">\n",
       "      <th></th>\n",
       "      <th>date</th>\n",
       "      <th>PC1</th>\n",
       "      <th>PC2</th>\n",
       "      <th>감자</th>\n",
       "    </tr>\n",
       "  </thead>\n",
       "  <tbody>\n",
       "    <tr>\n",
       "      <th>725</th>\n",
       "      <td>2019-12-27T00:00:00Z</td>\n",
       "      <td>-3.280702</td>\n",
       "      <td>1.070884</td>\n",
       "      <td>168.457130</td>\n",
       "    </tr>\n",
       "    <tr>\n",
       "      <th>726</th>\n",
       "      <td>2019-12-28T00:00:00Z</td>\n",
       "      <td>-3.036702</td>\n",
       "      <td>0.091263</td>\n",
       "      <td>164.817618</td>\n",
       "    </tr>\n",
       "    <tr>\n",
       "      <th>727</th>\n",
       "      <td>2019-12-29T00:00:00Z</td>\n",
       "      <td>-2.978009</td>\n",
       "      <td>-1.269522</td>\n",
       "      <td>189.946225</td>\n",
       "    </tr>\n",
       "    <tr>\n",
       "      <th>728</th>\n",
       "      <td>2019-12-30T00:00:00Z</td>\n",
       "      <td>-3.011497</td>\n",
       "      <td>-1.995486</td>\n",
       "      <td>171.678150</td>\n",
       "    </tr>\n",
       "    <tr>\n",
       "      <th>729</th>\n",
       "      <td>2019-12-31T00:00:00Z</td>\n",
       "      <td>-4.444109</td>\n",
       "      <td>1.307838</td>\n",
       "      <td>160.040030</td>\n",
       "    </tr>\n",
       "  </tbody>\n",
       "</table>\n",
       "</div>"
      ]
     },
     "metadata": {},
     "execution_count": 4
    }
   ],
   "metadata": {}
  },
  {
   "cell_type": "code",
   "execution_count": 5,
   "source": [
    "# 날짜 컬럼 인덱스로 지정하기. \r\n",
    "감자 = 감자.set_index('date')\r\n",
    "감자 = 감자.loc['2018-01-01' : '2019-12-32']"
   ],
   "outputs": [],
   "metadata": {}
  },
  {
   "cell_type": "code",
   "execution_count": 6,
   "source": [
    "# 데이터셋의 target 변수 스케일링\r\n",
    "# from sklearn.preprocessing import MinMaxScaler\r\n",
    "# 감말랭이['감말랭이_scaling'] = MinMaxScaler().fit_transform(감말랭이[['감말랭이']])\r\n",
    "\r\n",
    "X = 감자[['PC1','PC2']]\r\n",
    "y = 감자[['감자']]"
   ],
   "outputs": [],
   "metadata": {}
  },
  {
   "cell_type": "code",
   "execution_count": 7,
   "source": [
    "x_train, x_test, y_train, y_test = train_test_split(\r\n",
    "                    X, y, test_size = 0.5, shuffle=False, random_state=2021) \r\n",
    "#test_size = 0.5로 하면 트레인, 테스트 반반으로 나뉘는 거니까"
   ],
   "outputs": [],
   "metadata": {}
  },
  {
   "cell_type": "code",
   "execution_count": 8,
   "source": [
    "x_train.shape, x_test.shape"
   ],
   "outputs": [
    {
     "output_type": "execute_result",
     "data": {
      "text/plain": [
       "((365, 2), (365, 2))"
      ]
     },
     "metadata": {},
     "execution_count": 8
    }
   ],
   "metadata": {}
  },
  {
   "cell_type": "code",
   "execution_count": 9,
   "source": [
    "alphas = [0.0001, 0.001, 0.01, 0.1, 0.3, 0.5, 0.7, 1]\r\n",
    "\r\n",
    "for a in alphas:\r\n",
    "    model = ElasticNet(alpha=a).fit(X, y)\r\n",
    "    score = model.score(X, y)\r\n",
    "    pred_y = model.predict(X)\r\n",
    "    mse = mean_squared_error(y, pred_y)\r\n",
    "    print(\"Alpha:{0:.4f}, R2:{1:.2f},MSE:{2:.2f}, RMSE:{3:.2f}\".format(a, score, mse, np.sqrt(mse)))"
   ],
   "outputs": [
    {
     "output_type": "stream",
     "name": "stdout",
     "text": [
      "Alpha:0.0001, R2:0.29,MSE:1090.49, RMSE:33.02\n",
      "Alpha:0.0010, R2:0.29,MSE:1090.49, RMSE:33.02\n",
      "Alpha:0.0100, R2:0.29,MSE:1090.49, RMSE:33.02\n",
      "Alpha:0.1000, R2:0.29,MSE:1090.53, RMSE:33.02\n",
      "Alpha:0.3000, R2:0.29,MSE:1090.87, RMSE:33.03\n",
      "Alpha:0.5000, R2:0.29,MSE:1091.51, RMSE:33.04\n",
      "Alpha:0.7000, R2:0.28,MSE:1092.42, RMSE:33.05\n",
      "Alpha:1.0000, R2:0.28,MSE:1094.24, RMSE:33.08\n"
     ]
    }
   ],
   "metadata": {}
  },
  {
   "cell_type": "markdown",
   "source": [
    "R2(설명력) 높고 MSE와 RMSE 낮은 alpha = 0.0001, 0.001, 0.01, 0.1"
   ],
   "metadata": {}
  },
  {
   "cell_type": "code",
   "execution_count": 10,
   "source": [
    "# 애매하기 때문에 cross validation 돌려서 최적의 alpha 출력\r\n",
    "from sklearn.linear_model import ElasticNetCV\r\n",
    "\r\n",
    "elasticnet_cv=ElasticNetCV(alphas=alphas, cv=100)\r\n",
    "model = elasticnet_cv.fit(x_train, y_train)\r\n",
    "print(model.alpha_)"
   ],
   "outputs": [
    {
     "output_type": "stream",
     "name": "stdout",
     "text": [
      "0.7\n"
     ]
    },
    {
     "output_type": "stream",
     "name": "stderr",
     "text": [
      "C:\\Users\\CPB06GameN\\miniconda3\\lib\\site-packages\\sklearn\\utils\\validation.py:63: DataConversionWarning: A column-vector y was passed when a 1d array was expected. Please change the shape of y to (n_samples, ), for example using ravel().\n",
      "  return f(*args, **kwargs)\n"
     ]
    }
   ],
   "metadata": {}
  },
  {
   "cell_type": "markdown",
   "source": [
    "alpha값이 0.1로 출력됐음 -> alpha가 0.1일 때, 테스트 세트에 대한 예측 확률이 좋았음"
   ],
   "metadata": {}
  },
  {
   "cell_type": "code",
   "execution_count": 11,
   "source": [
    "# calculate elasticnet R2, MSE, RMSE from test data\r\n",
    "elasticnet=ElasticNet(alpha=0.1).fit(x_train, y_train)\r\n",
    "ypred_elasticnet = elasticnet.predict(x_test)\r\n",
    "score_elasticnet = elasticnet.score(x_test, y_test)\r\n",
    "mse_elasticnet = mean_squared_error(y_test, ypred_elasticnet)\r\n",
    "print(\"Final Result: Elasticnet R2:{0:.3f}, MSE:{1:.2f}, RMSE:{2:.2f}\"\r\n",
    ".format(score_elasticnet, mse_elasticnet, np.sqrt(mse_elasticnet)))"
   ],
   "outputs": [
    {
     "output_type": "stream",
     "name": "stdout",
     "text": [
      "Final Result: Elasticnet R2:0.171, MSE:1268.41, RMSE:35.61\n"
     ]
    }
   ],
   "metadata": {}
  },
  {
   "cell_type": "code",
   "execution_count": 12,
   "source": [
    "# y_true vs y_pred (시각화해서 비교)\r\n",
    "\r\n",
    "fig = plt.figure( figsize = (12, 4) )\r\n",
    "chart = fig.add_subplot(1,1,1)\r\n",
    "chart.plot(y_test, marker='o', color='blue', label='real value')\r\n",
    "chart.plot(ypred_elasticnet, marker='^', color='red', label='predict value')\r\n",
    "chart.set_title('real value vs predict value')\r\n",
    "plt.xlabel('index')\r\n",
    "plt.ylabel('real vs predict')\r\n",
    "plt.legend(loc = 'best') "
   ],
   "outputs": [
    {
     "output_type": "execute_result",
     "data": {
      "text/plain": [
       "<matplotlib.legend.Legend at 0x1ca4dd406d0>"
      ]
     },
     "metadata": {},
     "execution_count": 12
    },
    {
     "output_type": "display_data",
     "data": {
      "text/plain": [
       "<Figure size 864x288 with 1 Axes>"
      ],
      "image/png": "[encoded data removed]"
     },
     "metadata": {
      "needs_background": "light"
     }
    }
   ],
   "metadata": {}
  }
 ],
 "metadata": {
  "orig_nbformat": 4,
  "language_info": {
   "name": "python",
   "version": "3.8.5",
   "mimetype": "text/x-python",
   "codemirror_mode": {
    "name": "ipython",
    "version": 3
   },
   "pygments_lexer": "ipython3",
   "nbconvert_exporter": "python",
   "file_extension": ".py"
  },
  "kernelspec": {
   "name": "python3",
   "display_name": "Python 3.8.5 64-bit ('base': conda)"
  },
  "interpreter": {
   "hash": "8c1eae21719a0790335dcb83aad72b63b602cfe5cdb2bda0f60bc11d4f154e4b"
  }
 },
 "nbformat": 4,
 "nbformat_minor": 2
}