{
 "cells": [
  {
   "cell_type": "code",
   "execution_count": 1,
   "source": [
    "#00. 패키지 호출\r\n",
    "import pandas as pd \r\n",
    "import numpy as np \r\n",
    "import warnings \r\n",
    "import datetime\r\n",
    "import matplotlib as mpl\r\n",
    "import matplotlib.pylab as plt\r\n",
    "from sklearn.linear_model import ElasticNet # 엘라스틱넷\r\n",
    "from sklearn.model_selection import GridSearchCV, cross_val_score\r\n",
    "from sklearn.metrics import r2_score, mean_squared_error,accuracy_score\r\n",
    "\r\n",
    "#00-1. warning message ignore \r\n",
    "warnings.filterwarnings(action='ignore')\r\n",
    "\r\n",
    "#00-2. 난수씨드값 지정하기.\r\n",
    "np.random.seed(2021)\r\n",
    "\r\n",
    "#00-3. 시각화 옵션 설정하기. \r\n",
    "%matplotlib inline"
   ],
   "outputs": [],
   "metadata": {}
  },
  {
   "cell_type": "code",
   "execution_count": 2,
   "source": [
    "# load data\r\n",
    "df_옥수수 = pd.read_csv(\"C:/ken/elasticnet/옥수수.csv\")\r\n",
    "df_옥수수.head()"
   ],
   "outputs": [
    {
     "output_type": "execute_result",
     "data": {
      "text/plain": [
       "                   date       PC1       PC2        옥수수\n",
       "0  2018-01-01T00:00:00Z -3.719474  0.965108  54.750582\n",
       "1  2018-01-02T00:00:00Z -3.741912  0.888377  64.542773\n",
       "2  2018-01-03T00:00:00Z -4.074829  0.748572  64.465416\n",
       "3  2018-01-04T00:00:00Z -4.325838  0.235772  69.780899\n",
       "4  2018-01-05T00:00:00Z -3.772842  0.246325  63.033411"
      ],
      "text/html": [
       "<div>\n",
       "<style scoped>\n",
       "    .dataframe tbody tr th:only-of-type {\n",
       "        vertical-align: middle;\n",
       "    }\n",
       "\n",
       "    .dataframe tbody tr th {\n",
       "        vertical-align: top;\n",
       "    }\n",
       "\n",
       "    .dataframe thead th {\n",
       "        text-align: right;\n",
       "    }\n",
       "</style>\n",
       "<table border=\"1\" class=\"dataframe\">\n",
       "  <thead>\n",
       "    <tr style=\"text-align: right;\">\n",
       "      <th></th>\n",
       "      <th>date</th>\n",
       "      <th>PC1</th>\n",
       "      <th>PC2</th>\n",
       "      <th>옥수수</th>\n",
       "    </tr>\n",
       "  </thead>\n",
       "  <tbody>\n",
       "    <tr>\n",
       "      <th>0</th>\n",
       "      <td>2018-01-01T00:00:00Z</td>\n",
       "      <td>-3.719474</td>\n",
       "      <td>0.965108</td>\n",
       "      <td>54.750582</td>\n",
       "    </tr>\n",
       "    <tr>\n",
       "      <th>1</th>\n",
       "      <td>2018-01-02T00:00:00Z</td>\n",
       "      <td>-3.741912</td>\n",
       "      <td>0.888377</td>\n",
       "      <td>64.542773</td>\n",
       "    </tr>\n",
       "    <tr>\n",
       "      <th>2</th>\n",
       "      <td>2018-01-03T00:00:00Z</td>\n",
       "      <td>-4.074829</td>\n",
       "      <td>0.748572</td>\n",
       "      <td>64.465416</td>\n",
       "    </tr>\n",
       "    <tr>\n",
       "      <th>3</th>\n",
       "      <td>2018-01-04T00:00:00Z</td>\n",
       "      <td>-4.325838</td>\n",
       "      <td>0.235772</td>\n",
       "      <td>69.780899</td>\n",
       "    </tr>\n",
       "    <tr>\n",
       "      <th>4</th>\n",
       "      <td>2018-01-05T00:00:00Z</td>\n",
       "      <td>-3.772842</td>\n",
       "      <td>0.246325</td>\n",
       "      <td>63.033411</td>\n",
       "    </tr>\n",
       "  </tbody>\n",
       "</table>\n",
       "</div>"
      ]
     },
     "metadata": {},
     "execution_count": 2
    }
   ],
   "metadata": {}
  },
  {
   "cell_type": "code",
   "execution_count": 3,
   "source": [
    "# 원본 보관하기.  \r\n",
    "df_옥수수_raw = df_옥수수\r\n",
    "\r\n",
    "# 날짜 컬럼 인덱스로 지정하기. \r\n",
    "df_옥수수 = df_옥수수.set_index('date')\r\n",
    "\r\n",
    "# train, test 데이터셋을 연속적으로 분할하기. \r\n",
    "X_train = df_옥수수.iloc[0:365,:-1]\r\n",
    "y_train = df_옥수수.iloc[0:365,-1]\r\n",
    "X_test  = df_옥수수.iloc[365:730,:-1]\r\n",
    "y_test  = df_옥수수.iloc[365:730,-1]\r\n",
    "\r\n",
    "# 데이터셋 차원 확인하기.\r\n",
    "X_train.shape, y_train.shape, X_test.shape, y_test.shape"
   ],
   "outputs": [
    {
     "output_type": "execute_result",
     "data": {
      "text/plain": [
       "((365, 2), (365,), (365, 2), (365,))"
      ]
     },
     "metadata": {},
     "execution_count": 3
    }
   ],
   "metadata": {}
  },
  {
   "cell_type": "code",
   "execution_count": 4,
   "source": [
    "# 모형 생성\r\n",
    "model_elastic = ElasticNet()\r\n",
    "model_elastic.get_params()"
   ],
   "outputs": [
    {
     "output_type": "execute_result",
     "data": {
      "text/plain": [
       "{'alpha': 1.0,\n",
       " 'copy_X': True,\n",
       " 'fit_intercept': True,\n",
       " 'l1_ratio': 0.5,\n",
       " 'max_iter': 1000,\n",
       " 'normalize': False,\n",
       " 'positive': False,\n",
       " 'precompute': False,\n",
       " 'random_state': None,\n",
       " 'selection': 'cyclic',\n",
       " 'tol': 0.0001,\n",
       " 'warm_start': False}"
      ]
     },
     "metadata": {},
     "execution_count": 4
    }
   ],
   "metadata": {}
  },
  {
   "cell_type": "code",
   "execution_count": 5,
   "source": [
    "# GridSearch를 위한 하이퍼파라미터 값 지정하기\r\n",
    "params = {\r\n",
    "    'alpha' : [0.0001,0.01,1,2,3,4],\r\n",
    "    'l1_ratio' : [0.5, 0.7]\r\n",
    "}\r\n",
    "\r\n",
    "# GridsearchCV() 메서드를 이용해 훈련 모델 할당하기. \r\n",
    "gscv_model_elastic = GridSearchCV(model_elastic, param_grid=params, cv=10)\r\n",
    "\r\n",
    "# 모형 학습하기. \r\n",
    "gscv_model_elastic.fit(X_train,y_train)"
   ],
   "outputs": [
    {
     "output_type": "execute_result",
     "data": {
      "text/plain": [
       "GridSearchCV(cv=10, estimator=ElasticNet(),\n",
       "             param_grid={'alpha': [0.0001, 0.01, 1, 2, 3, 4],\n",
       "                         'l1_ratio': [0.5, 0.7]})"
      ]
     },
     "metadata": {},
     "execution_count": 5
    }
   ],
   "metadata": {}
  },
  {
   "cell_type": "code",
   "execution_count": 6,
   "source": [
    "# 최적 하이퍼 파라미터 확인하기. \r\n",
    "gscv_model_elastic.best_params_"
   ],
   "outputs": [
    {
     "output_type": "execute_result",
     "data": {
      "text/plain": [
       "{'alpha': 4, 'l1_ratio': 0.5}"
      ]
     },
     "metadata": {},
     "execution_count": 6
    }
   ],
   "metadata": {}
  },
  {
   "cell_type": "code",
   "execution_count": 7,
   "source": [
    "gscv_model_elastic.best_score_"
   ],
   "outputs": [
    {
     "output_type": "execute_result",
     "data": {
      "text/plain": [
       "-8.519376073958295"
      ]
     },
     "metadata": {},
     "execution_count": 7
    }
   ],
   "metadata": {}
  },
  {
   "cell_type": "code",
   "execution_count": 8,
   "source": [
    "# test 데이터셋으로 모형 예측 및 평가하기. \r\n",
    "#① R-squared\r\n",
    "gscv_model_elastic_fit = gscv_model_elastic.best_estimator_\r\n",
    "gscv_model_elastic_pred = gscv_model_elastic_fit.predict(X_test)\r\n",
    "r2_score(y_test,gscv_model_elastic_pred)"
   ],
   "outputs": [
    {
     "output_type": "execute_result",
     "data": {
      "text/plain": [
       "0.27785370087791306"
      ]
     },
     "metadata": {},
     "execution_count": 8
    }
   ],
   "metadata": {}
  },
  {
   "cell_type": "code",
   "execution_count": 9,
   "source": [
    "#② RMSE \r\n",
    "mse = mean_squared_error(y_test,gscv_model_elastic_pred)\r\n",
    "rmse = np.sqrt(mse)\r\n",
    "rmse"
   ],
   "outputs": [
    {
     "output_type": "execute_result",
     "data": {
      "text/plain": [
       "31.002026449767087"
      ]
     },
     "metadata": {},
     "execution_count": 9
    }
   ],
   "metadata": {}
  },
  {
   "cell_type": "code",
   "execution_count": 10,
   "source": [
    "# 예측값 시각화하기. \r\n",
    "test_date = df_옥수수_raw.iloc[365:730,0]\r\n",
    "test_date = test_date.astype('str')\r\n",
    "test_date = pd.to_datetime(test_date)\r\n",
    "plt.figure(figsize=(8,8))\r\n",
    "plt.plot(test_date, y_test, label='real_value')\r\n",
    "plt.plot(test_date, gscv_model_elastic_pred, label='predict_value')\r\n",
    "plt.legend(loc='upper left')\r\n",
    "plt.show()"
   ],
   "outputs": [
    {
     "output_type": "display_data",
     "data": {
      "text/plain": [
       "<Figure size 576x576 with 1 Axes>"
      ],
      "image/png": "[encoded data removed]"
     },
     "metadata": {
      "needs_background": "light"
     }
    }
   ],
   "metadata": {}
  }
 ],
 "metadata": {
  "orig_nbformat": 4,
  "language_info": {
   "name": "python",
   "version": "3.8.5",
   "mimetype": "text/x-python",
   "codemirror_mode": {
    "name": "ipython",
    "version": 3
   },
   "pygments_lexer": "ipython3",
   "nbconvert_exporter": "python",
   "file_extension": ".py"
  },
  "kernelspec": {
   "name": "python3",
   "display_name": "Python 3.8.5 64-bit ('base': conda)"
  },
  "interpreter": {
   "hash": "8c1eae21719a0790335dcb83aad72b63b602cfe5cdb2bda0f60bc11d4f154e4b"
  }
 },
 "nbformat": 4,
 "nbformat_minor": 2
}