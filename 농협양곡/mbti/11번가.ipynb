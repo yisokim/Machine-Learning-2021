{
 "cells": [
  {
   "cell_type": "code",
   "execution_count": 1,
   "source": [
    "import selenium\r\n",
    "from selenium import webdriver\r\n",
    "import time\r\n",
    "from selenium.webdriver.common.keys import Keys\r\n",
    "import pandas as pd\r\n",
    "\r\n",
    "path = 'C:/nh/chromedriver.exe'\r\n",
    "driver = webdriver.Chrome(path)"
   ],
   "outputs": [],
   "metadata": {}
  },
  {
   "cell_type": "code",
   "execution_count": 12,
   "source": [
    "import time\r\n",
    "\r\n",
    "# 찾고자 하는 링크를 드라이버에게 전달 \r\n",
    "driver.get('https://www.11st.co.kr/products/1644144364')\r\n",
    "\r\n",
    "# 혹시 모르니 스크롤 부터 조정해서 맨 밑으로 내리고 \r\n",
    "SCROLL_PAUSE_SEC = 1\r\n",
    "# 스크롤 높이 가져옴\r\n",
    "last_height = driver.execute_script(\"return document.body.scrollHeight\")\r\n",
    "\r\n",
    "while True:\r\n",
    "    # 끝까지 스크롤 다운\r\n",
    "    driver.execute_script(\"window.scrollTo(0, document.body.scrollHeight);\")\r\n",
    "\r\n",
    "    # 1초 대기\r\n",
    "    time.sleep(SCROLL_PAUSE_SEC)\r\n",
    "\r\n",
    "    # 스크롤 다운 후 스크롤 높이 다시 가져옴\r\n",
    "    new_height = driver.execute_script(\"return document.body.scrollHeight\")\r\n",
    "    if new_height == last_height:\r\n",
    "        break\r\n",
    "    last_height = new_height"
   ],
   "outputs": [],
   "metadata": {}
  },
  {
   "cell_type": "code",
   "execution_count": 13,
   "source": [
    "# 제품명\r\n",
    "pname = driver.find_element_by_css_selector('#layBodyWrap > div > div.s_product.s_product_detail > div.l_product_cont_wrap > div > div.l_product_view_wrap > div.l_product_summary > div.l_product_side_info > div.c_product_info_title > h1').text"
   ],
   "outputs": [],
   "metadata": {}
  },
  {
   "cell_type": "code",
   "execution_count": 14,
   "source": [
    "'''\r\n",
    "copy css selector를 했음에도 불구하고 자꾸 요소를 못찾았던 건 사이트 안에 또 다른 사이트가 있어서 그랬던 것. \r\n",
    "그래서 일단 frame을 찾고, 그 프레임 종류들 중에서 리뷰가 있을 것 같은 ifrmReview로 이동\r\n",
    "'''\r\n",
    "iframes = driver.find_elements_by_css_selector('iframe')\r\n",
    "for i in iframes:\r\n",
    "    print(i.get_attribute('name'))"
   ],
   "outputs": [
    {
     "output_type": "stream",
     "name": "stdout",
     "text": [
      "prdBbsIfrm\n",
      "prdDescIfrm\n",
      "ifrmReview\n",
      "ifrmQnA\n",
      "hiddenProcessId\n",
      "\n"
     ]
    }
   ],
   "metadata": {}
  },
  {
   "cell_type": "code",
   "execution_count": 15,
   "source": [
    "driver.switch_to_frame('ifrmReview')"
   ],
   "outputs": [
    {
     "output_type": "stream",
     "name": "stderr",
     "text": [
      "<ipython-input-15-d698f72d99da>:1: DeprecationWarning: use driver.switch_to.frame instead\n",
      "  driver.switch_to_frame('ifrmReview')\n"
     ]
    }
   ],
   "metadata": {}
  },
  {
   "cell_type": "code",
   "execution_count": 16,
   "source": [
    "#review-list-page-area > ul:nth-child(6) > li:nth-child(2)"
   ],
   "outputs": [],
   "metadata": {}
  },
  {
   "cell_type": "code",
   "execution_count": 17,
   "source": [
    "# 이제 리뷰에서 copy > copy_selector로 해서 나온 요소들로 for문 돌려가면서 찾을 수 있음. \r\n",
    "\r\n",
    "# 리뷰 더보기 버튼 클릭 횟수 정하기\r\n",
    "\r\n",
    "num = int(driver.find_element_by_css_selector('#review-list-area > div.c_product_title.c_product_title_style3 > h4 > span > i').text)\r\n",
    "if num % 20 != 0 :\r\n",
    "    click = (num // 20)\r\n",
    "else : \r\n",
    "    click = (num // 20)  - 1\r\n",
    "\r\n",
    "# 리뷰 더보기 일단 클릭해서 리뷰창 다 열어놓고 시작\r\n",
    "for _ in range(click):\r\n",
    "    try : \r\n",
    "        driver.find_element_by_css_selector('#review-list-page-area > div > button').click()\r\n",
    "    except:\r\n",
    "        from selenium.webdriver.common.keys import Keys\r\n",
    "        driver.find_element_by_css_selector('#review-list-page-area > div > button').send_keys(Keys.ENTER)\r\n",
    "    time.sleep(1)\r\n",
    "\r\n",
    "\r\n",
    "# 리뷰 가져오기\r\n",
    "# 빈 리스트 생성\r\n",
    "id_list = []\r\n",
    "pname_list = []\r\n",
    "star_list = []\r\n",
    "review_list=[]\r\n",
    "\r\n",
    "for i in range(1,click+2):\r\n",
    "    for k in range(1,21):\r\n",
    "        try : \r\n",
    "            id = driver.find_element_by_css_selector(f'#review-list-page-area > ul:nth-child({i}) > li:nth-child({k}) > dl > dt').text\r\n",
    "            id_list.append(id)\r\n",
    "\r\n",
    "            star = driver.find_element_by_css_selector(f'#review-list-page-area > ul:nth-child({i}) > li:nth-child({k}) > div > p.grade > span > em').text\r\n",
    "            star_list.append(star)\r\n",
    "\r\n",
    "            try : \r\n",
    "                review = driver.find_element_by_css_selector(f'#review-list-page-area > ul:nth-child({i}) > li:nth-child({k}) > div > div > div.cont_text_wrap > p').text\r\n",
    "            except : \r\n",
    "                review = ' '\r\n",
    "            review_list.append(review)\r\n",
    "            \r\n",
    "            pname_list.append(pname)\r\n",
    "        except : \r\n",
    "            pass           \r\n"
   ],
   "outputs": [],
   "metadata": {}
  },
  {
   "cell_type": "code",
   "execution_count": 18,
   "source": [
    "# 리뷰 갯수랑 긁어온 갯수 일치하는지 확인\r\n",
    "print(f'리뷰 갯수는 {num}개, 긁어온 갯수는 {len(review_list)}개')"
   ],
   "outputs": [
    {
     "output_type": "stream",
     "name": "stdout",
     "text": [
      "리뷰 갯수는 112개, 긁어온 갯수는 112개\n"
     ]
    }
   ],
   "metadata": {}
  },
  {
   "cell_type": "code",
   "execution_count": 19,
   "source": [
    "import pandas as pd\r\n",
    "\r\n",
    "df = pd.DataFrame({\r\n",
    "    'id' : id_list,\r\n",
    "    'p_name' : pname_list,\r\n",
    "    'star' : star_list,\r\n",
    "    'review' : review_list\r\n",
    "})\r\n",
    "\r\n",
    "df.head()"
   ],
   "outputs": [
    {
     "output_type": "execute_result",
     "data": {
      "text/plain": [
       "           id                   p_name star  \\\n",
       "0      yunj**  [홈플러스]냉장고에쏘옥_유기농쌀_2KG 통    5   \n",
       "1  sung******  [홈플러스]냉장고에쏘옥_유기농쌀_2KG 통    4   \n",
       "2        룰루랄라  [홈플러스]냉장고에쏘옥_유기농쌀_2KG 통    5   \n",
       "3  shim******  [홈플러스]냉장고에쏘옥_유기농쌀_2KG 통    4   \n",
       "4  soul******  [홈플러스]냉장고에쏘옥_유기농쌀_2KG 통    5   \n",
       "\n",
       "                                              review  \n",
       "0  자취하는 아들한테 보내준 거예요. 가격도 저렴하고 배송도 빠르고 다 맘에들어요. 담...  \n",
       "1                                용기에 들어있어서 간편하고 맛있어요  \n",
       "2  남편이랑은 찰현미를 먹어서 아기밥용으로 주문했는데 사이즈가 딱입니다^^ 다음에도 또...  \n",
       "3  쌀이 똑 떨어진 줄 모르고 있었던 덜랭이 엄마를 당황시키진않네요. 당일배송이라 ㅎㅎ...  \n",
       "4  홈플에서 수수와 기장을 샀다가 반품하고 다시 다른 제품을 구매하면서 반품 했지만 따...  "
      ],
      "text/html": [
       "<div>\n",
       "<style scoped>\n",
       "    .dataframe tbody tr th:only-of-type {\n",
       "        vertical-align: middle;\n",
       "    }\n",
       "\n",
       "    .dataframe tbody tr th {\n",
       "        vertical-align: top;\n",
       "    }\n",
       "\n",
       "    .dataframe thead th {\n",
       "        text-align: right;\n",
       "    }\n",
       "</style>\n",
       "<table border=\"1\" class=\"dataframe\">\n",
       "  <thead>\n",
       "    <tr style=\"text-align: right;\">\n",
       "      <th></th>\n",
       "      <th>id</th>\n",
       "      <th>p_name</th>\n",
       "      <th>star</th>\n",
       "      <th>review</th>\n",
       "    </tr>\n",
       "  </thead>\n",
       "  <tbody>\n",
       "    <tr>\n",
       "      <th>0</th>\n",
       "      <td>yunj**</td>\n",
       "      <td>[홈플러스]냉장고에쏘옥_유기농쌀_2KG 통</td>\n",
       "      <td>5</td>\n",
       "      <td>자취하는 아들한테 보내준 거예요. 가격도 저렴하고 배송도 빠르고 다 맘에들어요. 담...</td>\n",
       "    </tr>\n",
       "    <tr>\n",
       "      <th>1</th>\n",
       "      <td>sung******</td>\n",
       "      <td>[홈플러스]냉장고에쏘옥_유기농쌀_2KG 통</td>\n",
       "      <td>4</td>\n",
       "      <td>용기에 들어있어서 간편하고 맛있어요</td>\n",
       "    </tr>\n",
       "    <tr>\n",
       "      <th>2</th>\n",
       "      <td>룰루랄라</td>\n",
       "      <td>[홈플러스]냉장고에쏘옥_유기농쌀_2KG 통</td>\n",
       "      <td>5</td>\n",
       "      <td>남편이랑은 찰현미를 먹어서 아기밥용으로 주문했는데 사이즈가 딱입니다^^ 다음에도 또...</td>\n",
       "    </tr>\n",
       "    <tr>\n",
       "      <th>3</th>\n",
       "      <td>shim******</td>\n",
       "      <td>[홈플러스]냉장고에쏘옥_유기농쌀_2KG 통</td>\n",
       "      <td>4</td>\n",
       "      <td>쌀이 똑 떨어진 줄 모르고 있었던 덜랭이 엄마를 당황시키진않네요. 당일배송이라 ㅎㅎ...</td>\n",
       "    </tr>\n",
       "    <tr>\n",
       "      <th>4</th>\n",
       "      <td>soul******</td>\n",
       "      <td>[홈플러스]냉장고에쏘옥_유기농쌀_2KG 통</td>\n",
       "      <td>5</td>\n",
       "      <td>홈플에서 수수와 기장을 샀다가 반품하고 다시 다른 제품을 구매하면서 반품 했지만 따...</td>\n",
       "    </tr>\n",
       "  </tbody>\n",
       "</table>\n",
       "</div>"
      ]
     },
     "metadata": {},
     "execution_count": 19
    }
   ],
   "metadata": {}
  },
  {
   "cell_type": "code",
   "execution_count": 20,
   "source": [
    "df.to_csv('C:/nh/11번가_혼합_카카오유기농쌀.csv',encoding='utf-8-sig',index=False)"
   ],
   "outputs": [],
   "metadata": {}
  }
 ],
 "metadata": {
  "orig_nbformat": 4,
  "language_info": {
   "name": "python",
   "version": "3.8.5",
   "mimetype": "text/x-python",
   "codemirror_mode": {
    "name": "ipython",
    "version": 3
   },
   "pygments_lexer": "ipython3",
   "nbconvert_exporter": "python",
   "file_extension": ".py"
  },
  "kernelspec": {
   "name": "python3",
   "display_name": "Python 3.8.5 64-bit ('base': conda)"
  },
  "interpreter": {
   "hash": "8c1eae21719a0790335dcb83aad72b63b602cfe5cdb2bda0f60bc11d4f154e4b"
  }
 },
 "nbformat": 4,
 "nbformat_minor": 2
}