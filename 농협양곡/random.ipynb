{
 "cells": [
  {
   "cell_type": "code",
   "execution_count": 17,
   "source": [
    "# import library\r\n",
    "import numpy as np\r\n",
    "import pandas as pd\r\n",
    "import random\r\n",
    "from subprocess import check_output\r\n",
    "import io"
   ],
   "outputs": [],
   "metadata": {}
  },
  {
   "cell_type": "code",
   "execution_count": 18,
   "source": [
    "# load data\r\n",
    "# 2021-01-01_2021-06-30\r\n",
    "df = pd.read_csv(\"C:/nh/woe.csv\")\r\n",
    "df.head()"
   ],
   "outputs": [
    {
     "output_type": "execute_result",
     "data": {
      "text/plain": [
       "     직업_WOE    연령_WOE    성별_WOE  자녀나이_WOE\n",
       "0  0.186836  0.091896  0.198495  0.329986\n",
       "1 -0.049226 -0.077434 -0.216457  0.106162\n",
       "2 -0.006779  0.635738       NaN  0.081333\n",
       "3  0.181579       NaN       NaN -0.353240\n",
       "4       NaN       NaN       NaN -0.193931"
      ],
      "text/html": [
       "<div>\n",
       "<style scoped>\n",
       "    .dataframe tbody tr th:only-of-type {\n",
       "        vertical-align: middle;\n",
       "    }\n",
       "\n",
       "    .dataframe tbody tr th {\n",
       "        vertical-align: top;\n",
       "    }\n",
       "\n",
       "    .dataframe thead th {\n",
       "        text-align: right;\n",
       "    }\n",
       "</style>\n",
       "<table border=\"1\" class=\"dataframe\">\n",
       "  <thead>\n",
       "    <tr style=\"text-align: right;\">\n",
       "      <th></th>\n",
       "      <th>직업_WOE</th>\n",
       "      <th>연령_WOE</th>\n",
       "      <th>성별_WOE</th>\n",
       "      <th>자녀나이_WOE</th>\n",
       "    </tr>\n",
       "  </thead>\n",
       "  <tbody>\n",
       "    <tr>\n",
       "      <th>0</th>\n",
       "      <td>0.186836</td>\n",
       "      <td>0.091896</td>\n",
       "      <td>0.198495</td>\n",
       "      <td>0.329986</td>\n",
       "    </tr>\n",
       "    <tr>\n",
       "      <th>1</th>\n",
       "      <td>-0.049226</td>\n",
       "      <td>-0.077434</td>\n",
       "      <td>-0.216457</td>\n",
       "      <td>0.106162</td>\n",
       "    </tr>\n",
       "    <tr>\n",
       "      <th>2</th>\n",
       "      <td>-0.006779</td>\n",
       "      <td>0.635738</td>\n",
       "      <td>NaN</td>\n",
       "      <td>0.081333</td>\n",
       "    </tr>\n",
       "    <tr>\n",
       "      <th>3</th>\n",
       "      <td>0.181579</td>\n",
       "      <td>NaN</td>\n",
       "      <td>NaN</td>\n",
       "      <td>-0.353240</td>\n",
       "    </tr>\n",
       "    <tr>\n",
       "      <th>4</th>\n",
       "      <td>NaN</td>\n",
       "      <td>NaN</td>\n",
       "      <td>NaN</td>\n",
       "      <td>-0.193931</td>\n",
       "    </tr>\n",
       "  </tbody>\n",
       "</table>\n",
       "</div>"
      ]
     },
     "metadata": {},
     "execution_count": 18
    }
   ],
   "metadata": {}
  },
  {
   "cell_type": "code",
   "execution_count": 22,
   "source": [
    "# subset = df.sample(n=4320, replace=True)\r\n",
    "# subset.head()"
   ],
   "outputs": [
    {
     "output_type": "execute_result",
     "data": {
      "text/plain": [
       "     직업_WOE    연령_WOE    성별_WOE  자녀나이_WOE\n",
       "0  0.186836  0.091896  0.198495  0.329986\n",
       "3  0.181579       NaN       NaN -0.353240\n",
       "4       NaN       NaN       NaN -0.193931\n",
       "1 -0.049226 -0.077434 -0.216457  0.106162\n",
       "5       NaN       NaN       NaN  0.222401"
      ],
      "text/html": [
       "<div>\n",
       "<style scoped>\n",
       "    .dataframe tbody tr th:only-of-type {\n",
       "        vertical-align: middle;\n",
       "    }\n",
       "\n",
       "    .dataframe tbody tr th {\n",
       "        vertical-align: top;\n",
       "    }\n",
       "\n",
       "    .dataframe thead th {\n",
       "        text-align: right;\n",
       "    }\n",
       "</style>\n",
       "<table border=\"1\" class=\"dataframe\">\n",
       "  <thead>\n",
       "    <tr style=\"text-align: right;\">\n",
       "      <th></th>\n",
       "      <th>직업_WOE</th>\n",
       "      <th>연령_WOE</th>\n",
       "      <th>성별_WOE</th>\n",
       "      <th>자녀나이_WOE</th>\n",
       "    </tr>\n",
       "  </thead>\n",
       "  <tbody>\n",
       "    <tr>\n",
       "      <th>0</th>\n",
       "      <td>0.186836</td>\n",
       "      <td>0.091896</td>\n",
       "      <td>0.198495</td>\n",
       "      <td>0.329986</td>\n",
       "    </tr>\n",
       "    <tr>\n",
       "      <th>3</th>\n",
       "      <td>0.181579</td>\n",
       "      <td>NaN</td>\n",
       "      <td>NaN</td>\n",
       "      <td>-0.353240</td>\n",
       "    </tr>\n",
       "    <tr>\n",
       "      <th>4</th>\n",
       "      <td>NaN</td>\n",
       "      <td>NaN</td>\n",
       "      <td>NaN</td>\n",
       "      <td>-0.193931</td>\n",
       "    </tr>\n",
       "    <tr>\n",
       "      <th>1</th>\n",
       "      <td>-0.049226</td>\n",
       "      <td>-0.077434</td>\n",
       "      <td>-0.216457</td>\n",
       "      <td>0.106162</td>\n",
       "    </tr>\n",
       "    <tr>\n",
       "      <th>5</th>\n",
       "      <td>NaN</td>\n",
       "      <td>NaN</td>\n",
       "      <td>NaN</td>\n",
       "      <td>0.222401</td>\n",
       "    </tr>\n",
       "  </tbody>\n",
       "</table>\n",
       "</div>"
      ]
     },
     "metadata": {},
     "execution_count": 22
    }
   ],
   "metadata": {}
  },
  {
   "cell_type": "code",
   "execution_count": 24,
   "source": [
    "def readNumericCsvRandom(online_data, total_lines, sample_size=4320,header_row=True):\r\n",
    "    sample = np.random.choice(total_lines, sample_size, header_row=True,\r\n",
    "                               replace=replace, **kwargs)\r\n",
    "    if replace:\r\n",
    "      sample = np.unique(sample)\r\n",
    "    sample.sort()\r\n",
    "    data = StringIO()\r\n",
    "    with open(online_data) as f:\r\n",
    "        if header_row:\r\n",
    "            header = 'id,' + f.readline()\r\n",
    "            data.write(header)\r\n",
    "        cumsum = 0\r\n",
    "        for val in sample:\r\n",
    "            skip = val - cumsum\r\n",
    "            for _ in range(skip - 1):\r\n",
    "                f.readline()\r\n",
    "            _data = '{0},'.format(val) + f.readline()\r\n",
    "            data.write(_data)\r\n",
    "            cumsum = val\r\n",
    "        data.seek(0)\r\n",
    "        return pd.read_csv(data,**kwargs)"
   ],
   "outputs": [],
   "metadata": {}
  },
  {
   "cell_type": "code",
   "execution_count": 25,
   "source": [
    "print(data)"
   ],
   "outputs": [
    {
     "output_type": "error",
     "ename": "NameError",
     "evalue": "name 'data' is not defined",
     "traceback": [
      "\u001b[1;31m---------------------------------------------------------------------------\u001b[0m",
      "\u001b[1;31mNameError\u001b[0m                                 Traceback (most recent call last)",
      "\u001b[1;32m<ipython-input-25-dbd883db58b7>\u001b[0m in \u001b[0;36m<module>\u001b[1;34m\u001b[0m\n\u001b[1;32m----> 1\u001b[1;33m \u001b[0mprint\u001b[0m\u001b[1;33m(\u001b[0m\u001b[0mdata\u001b[0m\u001b[1;33m)\u001b[0m\u001b[1;33m\u001b[0m\u001b[1;33m\u001b[0m\u001b[0m\n\u001b[0m",
      "\u001b[1;31mNameError\u001b[0m: name 'data' is not defined"
     ]
    }
   ],
   "metadata": {}
  },
  {
   "cell_type": "code",
   "execution_count": 12,
   "source": [
    "직업_WOE = [0.186836, -0.049226, -0.006779, 0.181579],\r\n",
    "연령_WOE = [0.091896, -0.077434, 0.635738],\r\n",
    "성별_WOE = [0.198495, -0.216457],\r\n",
    "자녀나이_WOE = [0.329986,0.106162,0.081333,-0.353240,-0.193931,0.222401472]"
   ],
   "outputs": [],
   "metadata": {}
  },
  {
   "cell_type": "code",
   "execution_count": 2,
   "source": [
    "woe = [0.186836, -0.049226, -0.006779, 0.181579,0.091896, -0.077434, 0.635738,0.198495, -0.216457,0.329986,0.106162,0.081333,-0.353240,-0.193931,0.222401472]"
   ],
   "outputs": [],
   "metadata": {}
  },
  {
   "cell_type": "code",
   "execution_count": 3,
   "source": [
    "# constants\r\n",
    "sample_size = 4320\r\n",
    "elements = np.arange(woe)"
   ],
   "outputs": [
    {
     "output_type": "error",
     "ename": "TypeError",
     "evalue": "unsupported operand type(s) for -: 'list' and 'int'",
     "traceback": [
      "\u001b[1;31m---------------------------------------------------------------------------\u001b[0m",
      "\u001b[1;31mTypeError\u001b[0m                                 Traceback (most recent call last)",
      "\u001b[1;32m<ipython-input-3-4d6d24007aeb>\u001b[0m in \u001b[0;36m<module>\u001b[1;34m\u001b[0m\n\u001b[0;32m      1\u001b[0m \u001b[1;31m# constants\u001b[0m\u001b[1;33m\u001b[0m\u001b[1;33m\u001b[0m\u001b[1;33m\u001b[0m\u001b[0m\n\u001b[0;32m      2\u001b[0m \u001b[0msample_size\u001b[0m \u001b[1;33m=\u001b[0m \u001b[1;36m4320\u001b[0m\u001b[1;33m\u001b[0m\u001b[1;33m\u001b[0m\u001b[0m\n\u001b[1;32m----> 3\u001b[1;33m \u001b[0melements\u001b[0m \u001b[1;33m=\u001b[0m \u001b[0mnp\u001b[0m\u001b[1;33m.\u001b[0m\u001b[0marange\u001b[0m\u001b[1;33m(\u001b[0m\u001b[0mwoe\u001b[0m\u001b[1;33m)\u001b[0m\u001b[1;33m\u001b[0m\u001b[1;33m\u001b[0m\u001b[0m\n\u001b[0m",
      "\u001b[1;31mTypeError\u001b[0m: unsupported operand type(s) for -: 'list' and 'int'"
     ]
    }
   ],
   "metadata": {}
  },
  {
   "cell_type": "code",
   "execution_count": 10,
   "source": [
    "def native_loop(num_samples, sample_size, elements):\r\n",
    "    elements = list(elements) # because we later use .remove() method\r\n",
    "    samples = []\r\n",
    "    for _ in range(num_samples):\r\n",
    "        sample = []\r\n",
    "        candidate_elements = elements.copy()\r\n",
    "        while len(sample) < sample_size:\r\n",
    "            # choose an index as a candidate to include\r\n",
    "            candidate_element = random.choice(candidate_elements)\r\n",
    "            # decide whether to include in the sample or not\r\n",
    "            if probs[candidate_element] >= random.random():\r\n",
    "                sample.append(candidate_element)\r\n",
    "                candidate_elements.remove(candidate_element)\r\n",
    "        samples.append(sample)\r\n",
    "    return samples"
   ],
   "outputs": [
    {
     "output_type": "error",
     "ename": "SyntaxError",
     "evalue": "unexpected EOF while parsing (<ipython-input-10-5bfe0eef6ed0>, line 1)",
     "traceback": [
      "\u001b[1;36m  File \u001b[1;32m\"<ipython-input-10-5bfe0eef6ed0>\"\u001b[1;36m, line \u001b[1;32m1\u001b[0m\n\u001b[1;33m    def readNumericCsvRandom(online_data, sample_size=4320, header_row=True,replace=True):\u001b[0m\n\u001b[1;37m                                                                                          ^\u001b[0m\n\u001b[1;31mSyntaxError\u001b[0m\u001b[1;31m:\u001b[0m unexpected EOF while parsing\n"
     ]
    }
   ],
   "metadata": {}
  },
  {
   "cell_type": "code",
   "execution_count": null,
   "source": [],
   "outputs": [],
   "metadata": {}
  }
 ],
 "metadata": {
  "orig_nbformat": 4,
  "language_info": {
   "name": "python",
   "version": "3.8.5",
   "mimetype": "text/x-python",
   "codemirror_mode": {
    "name": "ipython",
    "version": 3
   },
   "pygments_lexer": "ipython3",
   "nbconvert_exporter": "python",
   "file_extension": ".py"
  },
  "kernelspec": {
   "name": "python3",
   "display_name": "Python 3.8.5 64-bit ('base': conda)"
  },
  "interpreter": {
   "hash": "8c1eae21719a0790335dcb83aad72b63b602cfe5cdb2bda0f60bc11d4f154e4b"
  }
 },
 "nbformat": 4,
 "nbformat_minor": 2
}