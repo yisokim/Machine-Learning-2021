{
 "cells": [
  {
   "cell_type": "code",
   "execution_count": 1,
   "source": [
    "# 경고무시\r\n",
    "import warnings\r\n",
    "warnings.filterwarnings(action='ignore', category=DeprecationWarning)"
   ],
   "outputs": [],
   "metadata": {}
  },
  {
   "cell_type": "code",
   "execution_count": 2,
   "source": [
    "# load library\r\n",
    "import pandas as pd \r\n",
    "import numpy as np\r\n",
    "import matplotlib.pyplot as plt\r\n",
    "%matplotlib inline\r\n",
    "import matplotlib as mpl\r\n",
    "mpl.rcParams['axes.unicode_minus'] = False\r\n",
    "plt.rcParams['font.family'] = 'Malgun Gothic'\r\n",
    "plt.rcParams['font.size'] = 10"
   ],
   "outputs": [],
   "metadata": {}
  },
  {
   "cell_type": "code",
   "execution_count": 9,
   "source": [
    "# load data\r\n",
    "# 2021-01-01_2021-06-30\r\n",
    "online_data = pd.read_csv(\"C:/nh/네이버_상품_고객프로파일_가구당인원.csv\")\r\n",
    "online_data.head()"
   ],
   "outputs": [
    {
     "output_type": "execute_result",
     "data": {
      "text/plain": [
       "  상품카테고리(대) 상품카테고리(중) 상품카테고리(소) 상품카테고리(세)                       상품명  \\\n",
       "0        식품       농산물         쌀        백미    [농협양곡] 김포금쌀 고시히카리 10kg   \n",
       "1        식품       농산물         쌀        백미        [농협양곡] NH신동진쌀 20kg   \n",
       "2        식품       농산물         쌀        백미  [농협양곡] 한수위 파주쌀 (추청) 10kg   \n",
       "3        식품       농산물         쌀        백미       [농협양곡] 한수위 파주쌀 20kg   \n",
       "4        식품       농산물         쌀        백미    [농협양곡] 탑마루쌀 (신동진) 20kg   \n",
       "\n",
       "         상품ID 가구당인원        결제금액  결제수  결제상품수량     환불금액  환불건수  환불수량     실결제금액  \\\n",
       "0  5201386377  2인이상  20,351,200  448     485  840,100    20    20  19511100   \n",
       "1  4939329513  2인이상  15,490,000  228     245  632,000    10    10  14858000   \n",
       "2  4945882031  2인이상   9,412,500  225     260  144,000     4     4   9268500   \n",
       "3  4945902314  2인이상   8,822,200  107     129  477,200     6     7   8345000   \n",
       "4  4939329513  2인이상   8,756,000  118     134  261,000     4     4   8495000   \n",
       "\n",
       "   실결제상품수량  \n",
       "0      465  \n",
       "1      235  \n",
       "2      256  \n",
       "3      122  \n",
       "4      130  "
      ],
      "text/html": [
       "<div>\n",
       "<style scoped>\n",
       "    .dataframe tbody tr th:only-of-type {\n",
       "        vertical-align: middle;\n",
       "    }\n",
       "\n",
       "    .dataframe tbody tr th {\n",
       "        vertical-align: top;\n",
       "    }\n",
       "\n",
       "    .dataframe thead th {\n",
       "        text-align: right;\n",
       "    }\n",
       "</style>\n",
       "<table border=\"1\" class=\"dataframe\">\n",
       "  <thead>\n",
       "    <tr style=\"text-align: right;\">\n",
       "      <th></th>\n",
       "      <th>상품카테고리(대)</th>\n",
       "      <th>상품카테고리(중)</th>\n",
       "      <th>상품카테고리(소)</th>\n",
       "      <th>상품카테고리(세)</th>\n",
       "      <th>상품명</th>\n",
       "      <th>상품ID</th>\n",
       "      <th>가구당인원</th>\n",
       "      <th>결제금액</th>\n",
       "      <th>결제수</th>\n",
       "      <th>결제상품수량</th>\n",
       "      <th>환불금액</th>\n",
       "      <th>환불건수</th>\n",
       "      <th>환불수량</th>\n",
       "      <th>실결제금액</th>\n",
       "      <th>실결제상품수량</th>\n",
       "    </tr>\n",
       "  </thead>\n",
       "  <tbody>\n",
       "    <tr>\n",
       "      <th>0</th>\n",
       "      <td>식품</td>\n",
       "      <td>농산물</td>\n",
       "      <td>쌀</td>\n",
       "      <td>백미</td>\n",
       "      <td>[농협양곡] 김포금쌀 고시히카리 10kg</td>\n",
       "      <td>5201386377</td>\n",
       "      <td>2인이상</td>\n",
       "      <td>20,351,200</td>\n",
       "      <td>448</td>\n",
       "      <td>485</td>\n",
       "      <td>840,100</td>\n",
       "      <td>20</td>\n",
       "      <td>20</td>\n",
       "      <td>19511100</td>\n",
       "      <td>465</td>\n",
       "    </tr>\n",
       "    <tr>\n",
       "      <th>1</th>\n",
       "      <td>식품</td>\n",
       "      <td>농산물</td>\n",
       "      <td>쌀</td>\n",
       "      <td>백미</td>\n",
       "      <td>[농협양곡] NH신동진쌀 20kg</td>\n",
       "      <td>4939329513</td>\n",
       "      <td>2인이상</td>\n",
       "      <td>15,490,000</td>\n",
       "      <td>228</td>\n",
       "      <td>245</td>\n",
       "      <td>632,000</td>\n",
       "      <td>10</td>\n",
       "      <td>10</td>\n",
       "      <td>14858000</td>\n",
       "      <td>235</td>\n",
       "    </tr>\n",
       "    <tr>\n",
       "      <th>2</th>\n",
       "      <td>식품</td>\n",
       "      <td>농산물</td>\n",
       "      <td>쌀</td>\n",
       "      <td>백미</td>\n",
       "      <td>[농협양곡] 한수위 파주쌀 (추청) 10kg</td>\n",
       "      <td>4945882031</td>\n",
       "      <td>2인이상</td>\n",
       "      <td>9,412,500</td>\n",
       "      <td>225</td>\n",
       "      <td>260</td>\n",
       "      <td>144,000</td>\n",
       "      <td>4</td>\n",
       "      <td>4</td>\n",
       "      <td>9268500</td>\n",
       "      <td>256</td>\n",
       "    </tr>\n",
       "    <tr>\n",
       "      <th>3</th>\n",
       "      <td>식품</td>\n",
       "      <td>농산물</td>\n",
       "      <td>쌀</td>\n",
       "      <td>백미</td>\n",
       "      <td>[농협양곡] 한수위 파주쌀 20kg</td>\n",
       "      <td>4945902314</td>\n",
       "      <td>2인이상</td>\n",
       "      <td>8,822,200</td>\n",
       "      <td>107</td>\n",
       "      <td>129</td>\n",
       "      <td>477,200</td>\n",
       "      <td>6</td>\n",
       "      <td>7</td>\n",
       "      <td>8345000</td>\n",
       "      <td>122</td>\n",
       "    </tr>\n",
       "    <tr>\n",
       "      <th>4</th>\n",
       "      <td>식품</td>\n",
       "      <td>농산물</td>\n",
       "      <td>쌀</td>\n",
       "      <td>백미</td>\n",
       "      <td>[농협양곡] 탑마루쌀 (신동진) 20kg</td>\n",
       "      <td>4939329513</td>\n",
       "      <td>2인이상</td>\n",
       "      <td>8,756,000</td>\n",
       "      <td>118</td>\n",
       "      <td>134</td>\n",
       "      <td>261,000</td>\n",
       "      <td>4</td>\n",
       "      <td>4</td>\n",
       "      <td>8495000</td>\n",
       "      <td>130</td>\n",
       "    </tr>\n",
       "  </tbody>\n",
       "</table>\n",
       "</div>"
      ]
     },
     "metadata": {},
     "execution_count": 9
    }
   ],
   "metadata": {}
  },
  {
   "cell_type": "code",
   "execution_count": 10,
   "source": [
    "# 결측치 확인\r\n",
    "online_data.info()"
   ],
   "outputs": [
    {
     "output_type": "stream",
     "name": "stdout",
     "text": [
      "<class 'pandas.core.frame.DataFrame'>\n",
      "RangeIndex: 167 entries, 0 to 166\n",
      "Data columns (total 15 columns):\n",
      " #   Column     Non-Null Count  Dtype \n",
      "---  ------     --------------  ----- \n",
      " 0   상품카테고리(대)  167 non-null    object\n",
      " 1   상품카테고리(중)  167 non-null    object\n",
      " 2   상품카테고리(소)  167 non-null    object\n",
      " 3   상품카테고리(세)  167 non-null    object\n",
      " 4   상품명        167 non-null    object\n",
      " 5   상품ID       167 non-null    int64 \n",
      " 6   가구당인원      167 non-null    object\n",
      " 7   결제금액       167 non-null    object\n",
      " 8   결제수        167 non-null    int64 \n",
      " 9   결제상품수량     167 non-null    int64 \n",
      " 10  환불금액       167 non-null    object\n",
      " 11  환불건수       167 non-null    int64 \n",
      " 12  환불수량       167 non-null    int64 \n",
      " 13  실결제금액      167 non-null    int64 \n",
      " 14  실결제상품수량    167 non-null    int64 \n",
      "dtypes: int64(7), object(8)\n",
      "memory usage: 19.7+ KB\n"
     ]
    }
   ],
   "metadata": {}
  },
  {
   "cell_type": "code",
   "execution_count": 11,
   "source": [
    "# 통계량 파악\r\n",
    "online_data['가구당인원'].describe()"
   ],
   "outputs": [
    {
     "output_type": "execute_result",
     "data": {
      "text/plain": [
       "count      167\n",
       "unique       2\n",
       "top       2인이상\n",
       "freq        94\n",
       "Name: 가구당인원, dtype: object"
      ]
     },
     "metadata": {},
     "execution_count": 11
    }
   ],
   "metadata": {}
  },
  {
   "cell_type": "code",
   "execution_count": 12,
   "source": [
    "# 가구당 결제상품수량 파악\r\n",
    "grouped_name_s = online_data.groupby('가구당인원').sum()['실결제상품수량']\r\n",
    "grouped_name_s"
   ],
   "outputs": [
    {
     "output_type": "execute_result",
     "data": {
      "text/plain": [
       "가구당인원\n",
       "1인       630\n",
       "2인이상    4024\n",
       "Name: 실결제상품수량, dtype: int64"
      ]
     },
     "metadata": {},
     "execution_count": 12
    }
   ],
   "metadata": {}
  },
  {
   "cell_type": "code",
   "execution_count": 13,
   "source": [
    "# 가구당 결제금액 파악\r\n",
    "grouped_name_m = online_data.groupby('가구당인원').sum()['실결제금액']\r\n",
    "grouped_name_m"
   ],
   "outputs": [
    {
     "output_type": "execute_result",
     "data": {
      "text/plain": [
       "가구당인원\n",
       "1인       25614500\n",
       "2인이상    178462100\n",
       "Name: 실결제금액, dtype: int64"
      ]
     },
     "metadata": {},
     "execution_count": 13
    }
   ],
   "metadata": {}
  },
  {
   "cell_type": "code",
   "execution_count": 14,
   "source": [
    "# 가구당 결제상품수량 파악\r\n",
    "data = grouped_name_s\r\n",
    "labels = ['1인','2인이상']\r\n",
    "explode = (0.0, 0.0)\r\n",
    "colors = ['lightgray', 'gold']\r\n",
    "\r\n",
    "fig = plt.figure(figsize=(8,8))\r\n",
    "fig.set_facecolor('white')\r\n",
    "ax = fig.add_subplot()\r\n",
    "\r\n",
    "plt.pie(data, labels=labels, autopct='%.1f%%', startangle=260, counterclock=False, explode=explode, shadow=True, colors=colors)\r\n",
    "plt.show()"
   ],
   "outputs": [
    {
     "output_type": "display_data",
     "data": {
      "text/plain": [
       "<Figure size 576x576 with 1 Axes>"
      ],
      "image/png": "[encoded data removed]"
     },
     "metadata": {}
    }
   ],
   "metadata": {}
  },
  {
   "cell_type": "code",
   "execution_count": 15,
   "source": [
    "# 가구당 결제금액 파악\r\n",
    "data = grouped_name_m\r\n",
    "labels = ['1인','2인이상']\r\n",
    "explode = (0.0, 0.0)\r\n",
    "colors = ['lightgray', 'gold']\r\n",
    "\r\n",
    "fig = plt.figure(figsize=(8,8))\r\n",
    "fig.set_facecolor('white')\r\n",
    "ax = fig.add_subplot()\r\n",
    "\r\n",
    "plt.pie(data, labels=labels, autopct='%.1f%%', startangle=260, counterclock=False, explode=explode, shadow=True, colors=colors)\r\n",
    "plt.show()"
   ],
   "outputs": [
    {
     "output_type": "display_data",
     "data": {
      "text/plain": [
       "<Figure size 576x576 with 1 Axes>"
      ],
      "image/png": "[encoded data removed]"
     },
     "metadata": {}
    }
   ],
   "metadata": {}
  }
 ],
 "metadata": {
  "orig_nbformat": 4,
  "language_info": {
   "name": "python",
   "version": "3.8.5",
   "mimetype": "text/x-python",
   "codemirror_mode": {
    "name": "ipython",
    "version": 3
   },
   "pygments_lexer": "ipython3",
   "nbconvert_exporter": "python",
   "file_extension": ".py"
  },
  "kernelspec": {
   "name": "python3",
   "display_name": "Python 3.8.5 64-bit ('base': conda)"
  },
  "interpreter": {
   "hash": "8c1eae21719a0790335dcb83aad72b63b602cfe5cdb2bda0f60bc11d4f154e4b"
  }
 },
 "nbformat": 4,
 "nbformat_minor": 2
}