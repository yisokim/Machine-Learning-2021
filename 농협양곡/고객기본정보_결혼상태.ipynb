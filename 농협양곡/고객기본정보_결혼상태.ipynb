{
 "cells": [
  {
   "cell_type": "code",
   "execution_count": 2,
   "source": [
    "# 경고무시\r\n",
    "import warnings\r\n",
    "warnings.filterwarnings(action='ignore', category=DeprecationWarning)"
   ],
   "outputs": [],
   "metadata": {}
  },
  {
   "cell_type": "code",
   "execution_count": 3,
   "source": [
    "# load library\r\n",
    "import pandas as pd \r\n",
    "import numpy as np\r\n",
    "import matplotlib.pyplot as plt\r\n",
    "%matplotlib inline\r\n",
    "import matplotlib as mpl\r\n",
    "mpl.rcParams['axes.unicode_minus'] = False\r\n",
    "plt.rcParams['font.family'] = 'Malgun Gothic'\r\n",
    "plt.rcParams['font.size'] = 10"
   ],
   "outputs": [],
   "metadata": {}
  },
  {
   "cell_type": "code",
   "execution_count": 8,
   "source": [
    "# load data\r\n",
    "# 2021-01-01_2021-06-30\r\n",
    "online_data = pd.read_csv(\"C:/nh/네이버_상품_고객프로파일_결혼상태.csv\")\r\n",
    "online_data.head()"
   ],
   "outputs": [
    {
     "output_type": "execute_result",
     "data": {
      "text/plain": [
       "  상품카테고리(대) 상품카테고리(중) 상품카테고리(소) 상품카테고리(세)                       상품명  \\\n",
       "0        식품       농산물         쌀        백미    [농협양곡] 김포금쌀 고시히카리 10kg   \n",
       "1        식품       농산물         쌀        백미        [농협양곡] NH신동진쌀 20kg   \n",
       "2        식품       농산물         쌀        백미    [농협양곡] 탑마루쌀 (신동진) 20kg   \n",
       "3        식품       농산물         쌀        백미  [농협양곡] 한수위 파주쌀 (추청) 10kg   \n",
       "4        식품       농산물         쌀        백미       [농협양곡] 한수위 파주쌀 10kg   \n",
       "\n",
       "         상품ID 결혼상태        결제금액  결제수  결제상품수량     환불금액  환불건수  환불수량     실결제금액  \\\n",
       "0  5201386377   기혼  19,590,900  428     467  797,100    19    19  18793800   \n",
       "1  4939329513   기혼  13,785,200  204     218  568,600     9     9  13216600   \n",
       "2  4939329513   기혼   8,365,500  112     128  195,500     3     3   8170000   \n",
       "3  4945882031   기혼   8,328,500  198     230  108,000     3     3   8220500   \n",
       "4  4945882031   기혼   7,520,300  180     211  212,000     5     6   7308300   \n",
       "\n",
       "   실결제상품수량  \n",
       "0      448  \n",
       "1      209  \n",
       "2      125  \n",
       "3      227  \n",
       "4      205  "
      ],
      "text/html": [
       "<div>\n",
       "<style scoped>\n",
       "    .dataframe tbody tr th:only-of-type {\n",
       "        vertical-align: middle;\n",
       "    }\n",
       "\n",
       "    .dataframe tbody tr th {\n",
       "        vertical-align: top;\n",
       "    }\n",
       "\n",
       "    .dataframe thead th {\n",
       "        text-align: right;\n",
       "    }\n",
       "</style>\n",
       "<table border=\"1\" class=\"dataframe\">\n",
       "  <thead>\n",
       "    <tr style=\"text-align: right;\">\n",
       "      <th></th>\n",
       "      <th>상품카테고리(대)</th>\n",
       "      <th>상품카테고리(중)</th>\n",
       "      <th>상품카테고리(소)</th>\n",
       "      <th>상품카테고리(세)</th>\n",
       "      <th>상품명</th>\n",
       "      <th>상품ID</th>\n",
       "      <th>결혼상태</th>\n",
       "      <th>결제금액</th>\n",
       "      <th>결제수</th>\n",
       "      <th>결제상품수량</th>\n",
       "      <th>환불금액</th>\n",
       "      <th>환불건수</th>\n",
       "      <th>환불수량</th>\n",
       "      <th>실결제금액</th>\n",
       "      <th>실결제상품수량</th>\n",
       "    </tr>\n",
       "  </thead>\n",
       "  <tbody>\n",
       "    <tr>\n",
       "      <th>0</th>\n",
       "      <td>식품</td>\n",
       "      <td>농산물</td>\n",
       "      <td>쌀</td>\n",
       "      <td>백미</td>\n",
       "      <td>[농협양곡] 김포금쌀 고시히카리 10kg</td>\n",
       "      <td>5201386377</td>\n",
       "      <td>기혼</td>\n",
       "      <td>19,590,900</td>\n",
       "      <td>428</td>\n",
       "      <td>467</td>\n",
       "      <td>797,100</td>\n",
       "      <td>19</td>\n",
       "      <td>19</td>\n",
       "      <td>18793800</td>\n",
       "      <td>448</td>\n",
       "    </tr>\n",
       "    <tr>\n",
       "      <th>1</th>\n",
       "      <td>식품</td>\n",
       "      <td>농산물</td>\n",
       "      <td>쌀</td>\n",
       "      <td>백미</td>\n",
       "      <td>[농협양곡] NH신동진쌀 20kg</td>\n",
       "      <td>4939329513</td>\n",
       "      <td>기혼</td>\n",
       "      <td>13,785,200</td>\n",
       "      <td>204</td>\n",
       "      <td>218</td>\n",
       "      <td>568,600</td>\n",
       "      <td>9</td>\n",
       "      <td>9</td>\n",
       "      <td>13216600</td>\n",
       "      <td>209</td>\n",
       "    </tr>\n",
       "    <tr>\n",
       "      <th>2</th>\n",
       "      <td>식품</td>\n",
       "      <td>농산물</td>\n",
       "      <td>쌀</td>\n",
       "      <td>백미</td>\n",
       "      <td>[농협양곡] 탑마루쌀 (신동진) 20kg</td>\n",
       "      <td>4939329513</td>\n",
       "      <td>기혼</td>\n",
       "      <td>8,365,500</td>\n",
       "      <td>112</td>\n",
       "      <td>128</td>\n",
       "      <td>195,500</td>\n",
       "      <td>3</td>\n",
       "      <td>3</td>\n",
       "      <td>8170000</td>\n",
       "      <td>125</td>\n",
       "    </tr>\n",
       "    <tr>\n",
       "      <th>3</th>\n",
       "      <td>식품</td>\n",
       "      <td>농산물</td>\n",
       "      <td>쌀</td>\n",
       "      <td>백미</td>\n",
       "      <td>[농협양곡] 한수위 파주쌀 (추청) 10kg</td>\n",
       "      <td>4945882031</td>\n",
       "      <td>기혼</td>\n",
       "      <td>8,328,500</td>\n",
       "      <td>198</td>\n",
       "      <td>230</td>\n",
       "      <td>108,000</td>\n",
       "      <td>3</td>\n",
       "      <td>3</td>\n",
       "      <td>8220500</td>\n",
       "      <td>227</td>\n",
       "    </tr>\n",
       "    <tr>\n",
       "      <th>4</th>\n",
       "      <td>식품</td>\n",
       "      <td>농산물</td>\n",
       "      <td>쌀</td>\n",
       "      <td>백미</td>\n",
       "      <td>[농협양곡] 한수위 파주쌀 10kg</td>\n",
       "      <td>4945882031</td>\n",
       "      <td>기혼</td>\n",
       "      <td>7,520,300</td>\n",
       "      <td>180</td>\n",
       "      <td>211</td>\n",
       "      <td>212,000</td>\n",
       "      <td>5</td>\n",
       "      <td>6</td>\n",
       "      <td>7308300</td>\n",
       "      <td>205</td>\n",
       "    </tr>\n",
       "  </tbody>\n",
       "</table>\n",
       "</div>"
      ]
     },
     "metadata": {},
     "execution_count": 8
    }
   ],
   "metadata": {}
  },
  {
   "cell_type": "code",
   "execution_count": 9,
   "source": [
    "# 결측치 확인\r\n",
    "online_data.info()"
   ],
   "outputs": [
    {
     "output_type": "stream",
     "name": "stdout",
     "text": [
      "<class 'pandas.core.frame.DataFrame'>\n",
      "RangeIndex: 173 entries, 0 to 172\n",
      "Data columns (total 15 columns):\n",
      " #   Column     Non-Null Count  Dtype \n",
      "---  ------     --------------  ----- \n",
      " 0   상품카테고리(대)  173 non-null    object\n",
      " 1   상품카테고리(중)  173 non-null    object\n",
      " 2   상품카테고리(소)  173 non-null    object\n",
      " 3   상품카테고리(세)  173 non-null    object\n",
      " 4   상품명        173 non-null    object\n",
      " 5   상품ID       173 non-null    int64 \n",
      " 6   결혼상태       173 non-null    object\n",
      " 7   결제금액       173 non-null    object\n",
      " 8   결제수        173 non-null    int64 \n",
      " 9   결제상품수량     173 non-null    int64 \n",
      " 10  환불금액       173 non-null    object\n",
      " 11  환불건수       173 non-null    int64 \n",
      " 12  환불수량       173 non-null    int64 \n",
      " 13  실결제금액      173 non-null    int64 \n",
      " 14  실결제상품수량    173 non-null    int64 \n",
      "dtypes: int64(7), object(8)\n",
      "memory usage: 20.4+ KB\n"
     ]
    }
   ],
   "metadata": {}
  },
  {
   "cell_type": "code",
   "execution_count": 10,
   "source": [
    "# 통계량 파악\r\n",
    "online_data['결혼상태'].describe()"
   ],
   "outputs": [
    {
     "output_type": "execute_result",
     "data": {
      "text/plain": [
       "count     173\n",
       "unique      2\n",
       "top        기혼\n",
       "freq       95\n",
       "Name: 결혼상태, dtype: object"
      ]
     },
     "metadata": {},
     "execution_count": 10
    }
   ],
   "metadata": {}
  },
  {
   "cell_type": "code",
   "execution_count": 11,
   "source": [
    "# 가구당 결제상품수량 파악\r\n",
    "grouped_name_s = online_data.groupby('결혼상태').sum()['실결제상품수량']\r\n",
    "grouped_name_s"
   ],
   "outputs": [
    {
     "output_type": "execute_result",
     "data": {
      "text/plain": [
       "결혼상태\n",
       "기혼    3569\n",
       "미혼    1085\n",
       "Name: 실결제상품수량, dtype: int64"
      ]
     },
     "metadata": {},
     "execution_count": 11
    }
   ],
   "metadata": {}
  },
  {
   "cell_type": "code",
   "execution_count": 12,
   "source": [
    "# 가구당 결제금액 파악\r\n",
    "grouped_name_m = online_data.groupby('결혼상태').sum()['실결제금액']\r\n",
    "grouped_name_m"
   ],
   "outputs": [
    {
     "output_type": "execute_result",
     "data": {
      "text/plain": [
       "결혼상태\n",
       "기혼    159580000\n",
       "미혼     44496600\n",
       "Name: 실결제금액, dtype: int64"
      ]
     },
     "metadata": {},
     "execution_count": 12
    }
   ],
   "metadata": {}
  },
  {
   "cell_type": "code",
   "execution_count": 13,
   "source": [
    "# 결혼상태 결제상품수량 파악\r\n",
    "data = grouped_name_s\r\n",
    "labels = ['기혼','미혼']\r\n",
    "explode = (0.0, 0.0)\r\n",
    "colors = ['lightgray', 'gold']\r\n",
    "\r\n",
    "fig = plt.figure(figsize=(8,8))\r\n",
    "fig.set_facecolor('white')\r\n",
    "ax = fig.add_subplot()\r\n",
    "\r\n",
    "plt.pie(data, labels=labels, autopct='%.1f%%', startangle=260, counterclock=False, explode=explode, shadow=True, colors=colors)\r\n",
    "plt.show()"
   ],
   "outputs": [
    {
     "output_type": "display_data",
     "data": {
      "text/plain": [
       "<Figure size 576x576 with 1 Axes>"
      ],
      "image/png": "[encoded data removed]"
     },
     "metadata": {}
    }
   ],
   "metadata": {}
  },
  {
   "cell_type": "code",
   "execution_count": 14,
   "source": [
    "# 결혼상태 결제금액 파악\r\n",
    "data = grouped_name_m\r\n",
    "labels = ['기혼','미혼']\r\n",
    "explode = (0.0, 0.0)\r\n",
    "colors = ['lightgray', 'gold']\r\n",
    "\r\n",
    "fig = plt.figure(figsize=(8,8))\r\n",
    "fig.set_facecolor('white')\r\n",
    "ax = fig.add_subplot()\r\n",
    "\r\n",
    "plt.pie(data, labels=labels, autopct='%.1f%%', startangle=260, counterclock=False, explode=explode, shadow=True, colors=colors)\r\n",
    "plt.show()"
   ],
   "outputs": [
    {
     "output_type": "display_data",
     "data": {
      "text/plain": [
       "<Figure size 576x576 with 1 Axes>"
      ],
      "image/png": "[encoded data removed]"
     },
     "metadata": {}
    }
   ],
   "metadata": {}
  }
 ],
 "metadata": {
  "orig_nbformat": 4,
  "language_info": {
   "name": "python",
   "version": "3.8.5",
   "mimetype": "text/x-python",
   "codemirror_mode": {
    "name": "ipython",
    "version": 3
   },
   "pygments_lexer": "ipython3",
   "nbconvert_exporter": "python",
   "file_extension": ".py"
  },
  "kernelspec": {
   "name": "python3",
   "display_name": "Python 3.8.5 64-bit ('base': conda)"
  },
  "interpreter": {
   "hash": "8c1eae21719a0790335dcb83aad72b63b602cfe5cdb2bda0f60bc11d4f154e4b"
  }
 },
 "nbformat": 4,
 "nbformat_minor": 2
}