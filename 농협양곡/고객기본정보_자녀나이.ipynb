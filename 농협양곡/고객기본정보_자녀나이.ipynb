{
 "cells": [
  {
   "cell_type": "code",
   "execution_count": 1,
   "source": [
    "# 경고무시\r\n",
    "import warnings\r\n",
    "warnings.filterwarnings(action='ignore', category=DeprecationWarning)"
   ],
   "outputs": [],
   "metadata": {}
  },
  {
   "cell_type": "code",
   "execution_count": 2,
   "source": [
    "# load library\r\n",
    "import pandas as pd \r\n",
    "import numpy as np\r\n",
    "import matplotlib.pyplot as plt\r\n",
    "%matplotlib inline\r\n",
    "import matplotlib as mpl\r\n",
    "mpl.rcParams['axes.unicode_minus'] = False\r\n",
    "plt.rcParams['font.family'] = 'Malgun Gothic'\r\n",
    "plt.rcParams['font.size'] = 10"
   ],
   "outputs": [],
   "metadata": {}
  },
  {
   "cell_type": "code",
   "execution_count": 3,
   "source": [
    "# load data\r\n",
    "# 2021-01-01_2021-06-30\r\n",
    "online_data = pd.read_csv(\"C:/nh/네이버_상품_고객프로파일_자녀나이.csv\")\r\n",
    "online_data.head()"
   ],
   "outputs": [
    {
     "output_type": "execute_result",
     "data": {
      "text/plain": [
       "  상품카테고리(대) 상품카테고리(중) 상품카테고리(소) 상품카테고리(세)                     상품명        상품ID  \\\n",
       "0        식품       농산물         쌀        백미  [농협양곡] 김포금쌀 고시히카리 10kg  5201386377   \n",
       "1        식품       농산물         쌀        백미  [농협양곡] 김포금쌀 고시히카리 10kg  5201386377   \n",
       "2        식품       농산물         쌀        백미      [농협양곡] NH신동진쌀 20kg  4939329513   \n",
       "3        식품       농산물         쌀        백미  [농협양곡] 김포금쌀 고시히카리 10kg  5201386377   \n",
       "4        식품       농산물         쌀        백미      [농협양곡] NH신동진쌀 20kg  4939329513   \n",
       "\n",
       "   자녀나이        결제금액  결제수  결제상품수량      환불금액  환불건수  환불수량    실결제금액  실결제상품수량  \n",
       "0  자녀없음  8,202,000   170     195  420,200      7    10  7781800      185  \n",
       "1   미취학  5,695,200   125     136  333,300      8     8  5361900      128  \n",
       "2  자녀없음  5,246,200    77      83  314,000      5     5  4932200       78  \n",
       "3  초등학생  5,123,200   112     122  211,800      5     5  4911400      117  \n",
       "4    성인  4,682,600    71      74   63,400      1     1  4619200       73  "
      ],
      "text/html": [
       "<div>\n",
       "<style scoped>\n",
       "    .dataframe tbody tr th:only-of-type {\n",
       "        vertical-align: middle;\n",
       "    }\n",
       "\n",
       "    .dataframe tbody tr th {\n",
       "        vertical-align: top;\n",
       "    }\n",
       "\n",
       "    .dataframe thead th {\n",
       "        text-align: right;\n",
       "    }\n",
       "</style>\n",
       "<table border=\"1\" class=\"dataframe\">\n",
       "  <thead>\n",
       "    <tr style=\"text-align: right;\">\n",
       "      <th></th>\n",
       "      <th>상품카테고리(대)</th>\n",
       "      <th>상품카테고리(중)</th>\n",
       "      <th>상품카테고리(소)</th>\n",
       "      <th>상품카테고리(세)</th>\n",
       "      <th>상품명</th>\n",
       "      <th>상품ID</th>\n",
       "      <th>자녀나이</th>\n",
       "      <th>결제금액</th>\n",
       "      <th>결제수</th>\n",
       "      <th>결제상품수량</th>\n",
       "      <th>환불금액</th>\n",
       "      <th>환불건수</th>\n",
       "      <th>환불수량</th>\n",
       "      <th>실결제금액</th>\n",
       "      <th>실결제상품수량</th>\n",
       "    </tr>\n",
       "  </thead>\n",
       "  <tbody>\n",
       "    <tr>\n",
       "      <th>0</th>\n",
       "      <td>식품</td>\n",
       "      <td>농산물</td>\n",
       "      <td>쌀</td>\n",
       "      <td>백미</td>\n",
       "      <td>[농협양곡] 김포금쌀 고시히카리 10kg</td>\n",
       "      <td>5201386377</td>\n",
       "      <td>자녀없음</td>\n",
       "      <td>8,202,000</td>\n",
       "      <td>170</td>\n",
       "      <td>195</td>\n",
       "      <td>420,200</td>\n",
       "      <td>7</td>\n",
       "      <td>10</td>\n",
       "      <td>7781800</td>\n",
       "      <td>185</td>\n",
       "    </tr>\n",
       "    <tr>\n",
       "      <th>1</th>\n",
       "      <td>식품</td>\n",
       "      <td>농산물</td>\n",
       "      <td>쌀</td>\n",
       "      <td>백미</td>\n",
       "      <td>[농협양곡] 김포금쌀 고시히카리 10kg</td>\n",
       "      <td>5201386377</td>\n",
       "      <td>미취학</td>\n",
       "      <td>5,695,200</td>\n",
       "      <td>125</td>\n",
       "      <td>136</td>\n",
       "      <td>333,300</td>\n",
       "      <td>8</td>\n",
       "      <td>8</td>\n",
       "      <td>5361900</td>\n",
       "      <td>128</td>\n",
       "    </tr>\n",
       "    <tr>\n",
       "      <th>2</th>\n",
       "      <td>식품</td>\n",
       "      <td>농산물</td>\n",
       "      <td>쌀</td>\n",
       "      <td>백미</td>\n",
       "      <td>[농협양곡] NH신동진쌀 20kg</td>\n",
       "      <td>4939329513</td>\n",
       "      <td>자녀없음</td>\n",
       "      <td>5,246,200</td>\n",
       "      <td>77</td>\n",
       "      <td>83</td>\n",
       "      <td>314,000</td>\n",
       "      <td>5</td>\n",
       "      <td>5</td>\n",
       "      <td>4932200</td>\n",
       "      <td>78</td>\n",
       "    </tr>\n",
       "    <tr>\n",
       "      <th>3</th>\n",
       "      <td>식품</td>\n",
       "      <td>농산물</td>\n",
       "      <td>쌀</td>\n",
       "      <td>백미</td>\n",
       "      <td>[농협양곡] 김포금쌀 고시히카리 10kg</td>\n",
       "      <td>5201386377</td>\n",
       "      <td>초등학생</td>\n",
       "      <td>5,123,200</td>\n",
       "      <td>112</td>\n",
       "      <td>122</td>\n",
       "      <td>211,800</td>\n",
       "      <td>5</td>\n",
       "      <td>5</td>\n",
       "      <td>4911400</td>\n",
       "      <td>117</td>\n",
       "    </tr>\n",
       "    <tr>\n",
       "      <th>4</th>\n",
       "      <td>식품</td>\n",
       "      <td>농산물</td>\n",
       "      <td>쌀</td>\n",
       "      <td>백미</td>\n",
       "      <td>[농협양곡] NH신동진쌀 20kg</td>\n",
       "      <td>4939329513</td>\n",
       "      <td>성인</td>\n",
       "      <td>4,682,600</td>\n",
       "      <td>71</td>\n",
       "      <td>74</td>\n",
       "      <td>63,400</td>\n",
       "      <td>1</td>\n",
       "      <td>1</td>\n",
       "      <td>4619200</td>\n",
       "      <td>73</td>\n",
       "    </tr>\n",
       "  </tbody>\n",
       "</table>\n",
       "</div>"
      ]
     },
     "metadata": {},
     "execution_count": 3
    }
   ],
   "metadata": {}
  },
  {
   "cell_type": "code",
   "execution_count": 4,
   "source": [
    "# 결측치 확인\r\n",
    "online_data.info()"
   ],
   "outputs": [
    {
     "output_type": "stream",
     "name": "stdout",
     "text": [
      "<class 'pandas.core.frame.DataFrame'>\n",
      "RangeIndex: 445 entries, 0 to 444\n",
      "Data columns (total 15 columns):\n",
      " #   Column     Non-Null Count  Dtype \n",
      "---  ------     --------------  ----- \n",
      " 0   상품카테고리(대)  445 non-null    object\n",
      " 1   상품카테고리(중)  445 non-null    object\n",
      " 2   상품카테고리(소)  445 non-null    object\n",
      " 3   상품카테고리(세)  445 non-null    object\n",
      " 4   상품명        445 non-null    object\n",
      " 5   상품ID       445 non-null    int64 \n",
      " 6   자녀나이       445 non-null    object\n",
      " 7   결제금액       445 non-null    object\n",
      " 8   결제수        445 non-null    int64 \n",
      " 9   결제상품수량     445 non-null    int64 \n",
      " 10  환불금액       445 non-null    object\n",
      " 11  환불건수       445 non-null    int64 \n",
      " 12  환불수량       445 non-null    int64 \n",
      " 13  실결제금액      445 non-null    int64 \n",
      " 14  실결제상품수량    445 non-null    int64 \n",
      "dtypes: int64(7), object(8)\n",
      "memory usage: 52.3+ KB\n"
     ]
    }
   ],
   "metadata": {}
  },
  {
   "cell_type": "code",
   "execution_count": 5,
   "source": [
    "# 통계량 파악\r\n",
    "online_data['자녀나이'].describe()"
   ],
   "outputs": [
    {
     "output_type": "execute_result",
     "data": {
      "text/plain": [
       "count      445\n",
       "unique       6\n",
       "top       자녀없음\n",
       "freq        83\n",
       "Name: 자녀나이, dtype: object"
      ]
     },
     "metadata": {},
     "execution_count": 5
    }
   ],
   "metadata": {}
  },
  {
   "cell_type": "code",
   "execution_count": 6,
   "source": [
    "# 가구당 결제상품수량 파악\r\n",
    "grouped_name_s = online_data.groupby('자녀나이').sum()['실결제상품수량']\r\n",
    "grouped_name_s"
   ],
   "outputs": [
    {
     "output_type": "execute_result",
     "data": {
      "text/plain": [
       "자녀나이\n",
       "0-24개월     477\n",
       "미취학        762\n",
       "성인        1046\n",
       "자녀없음      1637\n",
       "중고등학생      735\n",
       "초등학생       949\n",
       "Name: 실결제상품수량, dtype: int64"
      ]
     },
     "metadata": {},
     "execution_count": 6
    }
   ],
   "metadata": {}
  },
  {
   "cell_type": "code",
   "execution_count": 10,
   "source": [
    "# 결혼상태별 선호 곡물\r\n",
    "grouped_name_s_r = online_data.groupby(['자녀나이','상품카테고리(세)'])['실결제상품수량'].sum()\r\n",
    "grouped_name_s_r"
   ],
   "outputs": [
    {
     "output_type": "execute_result",
     "data": {
      "text/plain": [
       "자녀나이    상품카테고리(세)\n",
       "0-24개월  백미            464\n",
       "        혼합곡            13\n",
       "미취학     백미            740\n",
       "        혼합곡            22\n",
       "성인      백미           1024\n",
       "        혼합곡            22\n",
       "자녀없음    백미           1610\n",
       "        혼합곡            27\n",
       "중고등학생   백미            696\n",
       "        혼합곡            39\n",
       "초등학생    백미            878\n",
       "        혼합곡            71\n",
       "Name: 실결제상품수량, dtype: int64"
      ]
     },
     "metadata": {},
     "execution_count": 10
    }
   ],
   "metadata": {}
  },
  {
   "cell_type": "code",
   "execution_count": 7,
   "source": [
    "# 가구당 결제금액 파악\r\n",
    "grouped_name_m = online_data.groupby('자녀나이').sum()['실결제금액']\r\n",
    "grouped_name_m"
   ],
   "outputs": [
    {
     "output_type": "execute_result",
     "data": {
      "text/plain": [
       "자녀나이\n",
       "0-24개월    20369800\n",
       "미취학       34395400\n",
       "성인        48694900\n",
       "자녀없음      67278200\n",
       "중고등학생     33699800\n",
       "초등학생      43611700\n",
       "Name: 실결제금액, dtype: int64"
      ]
     },
     "metadata": {},
     "execution_count": 7
    }
   ],
   "metadata": {}
  },
  {
   "cell_type": "code",
   "execution_count": 8,
   "source": [
    "# 자녀나이 결제상품수량 파악\r\n",
    "x = np.arange(6)\r\n",
    "years = ['0-24개월','미취학','초등학생','중고등학생','성인','자녀없음']\r\n",
    "values = [477, 762, 949, 735, 1046, 1637]\r\n",
    "\r\n",
    "plt.bar(x, values, width=0.6, color=\"gold\",\r\n",
    "        linewidth=3, tick_label=years)\r\n",
    "\r\n",
    "plt.show()"
   ],
   "outputs": [
    {
     "output_type": "display_data",
     "data": {
      "text/plain": [
       "<Figure size 432x288 with 1 Axes>"
      ],
      "image/png": "[encoded data removed]"
     },
     "metadata": {
      "needs_background": "light"
     }
    }
   ],
   "metadata": {}
  },
  {
   "cell_type": "code",
   "execution_count": 9,
   "source": [
    "# 자녀나이 결제금액 파악\r\n",
    "x = np.arange(6)\r\n",
    "years = ['0-24개월','미취학','초등학생','중고등학생','성인','자녀없음']\r\n",
    "values = [20369800, 34395400, 43611700, 33699800, 48694900, 67278200]\r\n",
    "\r\n",
    "plt.bar(x, values, width=0.6, color=\"gold\",\r\n",
    "        linewidth=3, tick_label=years)\r\n",
    "\r\n",
    "plt.show()"
   ],
   "outputs": [
    {
     "output_type": "display_data",
     "data": {
      "text/plain": [
       "<Figure size 432x288 with 1 Axes>"
      ],
      "image/png": "[encoded data removed]"
     },
     "metadata": {
      "needs_background": "light"
     }
    }
   ],
   "metadata": {}
  }
 ],
 "metadata": {
  "orig_nbformat": 4,
  "language_info": {
   "name": "python",
   "version": "3.8.5",
   "mimetype": "text/x-python",
   "codemirror_mode": {
    "name": "ipython",
    "version": 3
   },
   "pygments_lexer": "ipython3",
   "nbconvert_exporter": "python",
   "file_extension": ".py"
  },
  "kernelspec": {
   "name": "python3",
   "display_name": "Python 3.8.5 64-bit ('base': conda)"
  },
  "interpreter": {
   "hash": "8c1eae21719a0790335dcb83aad72b63b602cfe5cdb2bda0f60bc11d4f154e4b"
  }
 },
 "nbformat": 4,
 "nbformat_minor": 2
}