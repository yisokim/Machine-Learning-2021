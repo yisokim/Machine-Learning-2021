{
 "cells": [
  {
   "cell_type": "code",
   "execution_count": 3,
   "source": [
    "# 경고무시\r\n",
    "import warnings\r\n",
    "warnings.filterwarnings(action='ignore', category=DeprecationWarning)"
   ],
   "outputs": [],
   "metadata": {}
  },
  {
   "cell_type": "code",
   "execution_count": 4,
   "source": [
    "# load library\r\n",
    "import pandas as pd \r\n",
    "import numpy as np\r\n",
    "import matplotlib.pyplot as plt\r\n",
    "%matplotlib inline\r\n",
    "import matplotlib as mpl\r\n",
    "mpl.rcParams['axes.unicode_minus'] = False\r\n",
    "plt.rcParams['font.family'] = 'Malgun Gothic'\r\n",
    "plt.rcParams['font.size'] = 10"
   ],
   "outputs": [],
   "metadata": {}
  },
  {
   "cell_type": "code",
   "execution_count": 67,
   "source": [
    "# load data\r\n",
    "# 2021-01-01_2021-06-30\r\n",
    "online_data = pd.read_csv(\"C:/nh/네이버_마케팅채널_백미.csv\")\r\n",
    "online_data.head()"
   ],
   "outputs": [
    {
     "output_type": "execute_result",
     "data": {
      "text/plain": [
       "  상품카테고리(세)           상품명    무게 채널그룹             채널명 채널상세  결제수      결제금액\n",
       "0        백미   김포금쌀 고시히카리   10kg   쇼핑  네이버쇼핑-카탈로그(검색)  NaN  317  14686202\n",
       "1        백미       NH신동진쌀   20kg   쇼핑        네이버쇼핑-검색  NaN  113   7327064\n",
       "2        백미   탑마루쌀 (신동진)   20kg   쇼핑           네이버페이  NaN   65   5059655\n",
       "3        백미   탑마루쌀 (신동진)   20kg   쇼핑           네이버페이  NaN   68   4893525\n",
       "4        백미        생거진천쌀   20kg   쇼핑  네이버쇼핑-카탈로그(검색)  NaN   67   4790823"
      ],
      "text/html": [
       "<div>\n",
       "<style scoped>\n",
       "    .dataframe tbody tr th:only-of-type {\n",
       "        vertical-align: middle;\n",
       "    }\n",
       "\n",
       "    .dataframe tbody tr th {\n",
       "        vertical-align: top;\n",
       "    }\n",
       "\n",
       "    .dataframe thead th {\n",
       "        text-align: right;\n",
       "    }\n",
       "</style>\n",
       "<table border=\"1\" class=\"dataframe\">\n",
       "  <thead>\n",
       "    <tr style=\"text-align: right;\">\n",
       "      <th></th>\n",
       "      <th>상품카테고리(세)</th>\n",
       "      <th>상품명</th>\n",
       "      <th>무게</th>\n",
       "      <th>채널그룹</th>\n",
       "      <th>채널명</th>\n",
       "      <th>채널상세</th>\n",
       "      <th>결제수</th>\n",
       "      <th>결제금액</th>\n",
       "    </tr>\n",
       "  </thead>\n",
       "  <tbody>\n",
       "    <tr>\n",
       "      <th>0</th>\n",
       "      <td>백미</td>\n",
       "      <td>김포금쌀 고시히카리</td>\n",
       "      <td>10kg</td>\n",
       "      <td>쇼핑</td>\n",
       "      <td>네이버쇼핑-카탈로그(검색)</td>\n",
       "      <td>NaN</td>\n",
       "      <td>317</td>\n",
       "      <td>14686202</td>\n",
       "    </tr>\n",
       "    <tr>\n",
       "      <th>1</th>\n",
       "      <td>백미</td>\n",
       "      <td>NH신동진쌀</td>\n",
       "      <td>20kg</td>\n",
       "      <td>쇼핑</td>\n",
       "      <td>네이버쇼핑-검색</td>\n",
       "      <td>NaN</td>\n",
       "      <td>113</td>\n",
       "      <td>7327064</td>\n",
       "    </tr>\n",
       "    <tr>\n",
       "      <th>2</th>\n",
       "      <td>백미</td>\n",
       "      <td>탑마루쌀 (신동진)</td>\n",
       "      <td>20kg</td>\n",
       "      <td>쇼핑</td>\n",
       "      <td>네이버페이</td>\n",
       "      <td>NaN</td>\n",
       "      <td>65</td>\n",
       "      <td>5059655</td>\n",
       "    </tr>\n",
       "    <tr>\n",
       "      <th>3</th>\n",
       "      <td>백미</td>\n",
       "      <td>탑마루쌀 (신동진)</td>\n",
       "      <td>20kg</td>\n",
       "      <td>쇼핑</td>\n",
       "      <td>네이버페이</td>\n",
       "      <td>NaN</td>\n",
       "      <td>68</td>\n",
       "      <td>4893525</td>\n",
       "    </tr>\n",
       "    <tr>\n",
       "      <th>4</th>\n",
       "      <td>백미</td>\n",
       "      <td>생거진천쌀</td>\n",
       "      <td>20kg</td>\n",
       "      <td>쇼핑</td>\n",
       "      <td>네이버쇼핑-카탈로그(검색)</td>\n",
       "      <td>NaN</td>\n",
       "      <td>67</td>\n",
       "      <td>4790823</td>\n",
       "    </tr>\n",
       "  </tbody>\n",
       "</table>\n",
       "</div>"
      ]
     },
     "metadata": {},
     "execution_count": 67
    }
   ],
   "metadata": {}
  },
  {
   "cell_type": "code",
   "execution_count": 68,
   "source": [
    "# 결측치 확인\r\n",
    "online_data.info()"
   ],
   "outputs": [
    {
     "output_type": "stream",
     "name": "stdout",
     "text": [
      "<class 'pandas.core.frame.DataFrame'>\n",
      "RangeIndex: 470 entries, 0 to 469\n",
      "Data columns (total 8 columns):\n",
      " #   Column     Non-Null Count  Dtype \n",
      "---  ------     --------------  ----- \n",
      " 0   상품카테고리(세)  470 non-null    object\n",
      " 1   상품명        470 non-null    object\n",
      " 2   무게         470 non-null    object\n",
      " 3   채널그룹       470 non-null    object\n",
      " 4   채널명        470 non-null    object\n",
      " 5   채널상세       117 non-null    object\n",
      " 6   결제수        470 non-null    int64 \n",
      " 7   결제금액       470 non-null    int64 \n",
      "dtypes: int64(2), object(6)\n",
      "memory usage: 29.5+ KB\n"
     ]
    }
   ],
   "metadata": {}
  },
  {
   "cell_type": "code",
   "execution_count": 69,
   "source": [
    "# 통계량 파악\r\n",
    "online_data['상품명'].describe()"
   ],
   "outputs": [
    {
     "output_type": "execute_result",
     "data": {
      "text/plain": [
       "count              470\n",
       "unique              58\n",
       "top        탑마루쌀 (신동진) \n",
       "freq                37\n",
       "Name: 상품명, dtype: object"
      ]
     },
     "metadata": {},
     "execution_count": 69
    }
   ],
   "metadata": {}
  },
  {
   "cell_type": "code",
   "execution_count": 70,
   "source": [
    "# 상품명 수량 파악\r\n",
    "grouped_name_c = online_data['상품명'].value_counts()\r\n",
    "grouped_name_c.head(20)"
   ],
   "outputs": [
    {
     "output_type": "execute_result",
     "data": {
      "text/plain": [
       " 탑마루쌀 (신동진)             37\n",
       " 김포금쌀                   29\n",
       " 한수위 파주쌀                29\n",
       " 의성진쌀                   19\n",
       " 생거진천쌀                  19\n",
       " 만세보령쌀                  18\n",
       " 김포금쌀 고시히카리             17\n",
       " 대왕님표 여주쌀 (영호진미)        16\n",
       " NH신동진쌀                 15\n",
       " 의성진쌀 (일품)              14\n",
       " 영호진미쌀                  14\n",
       " 임금님표 이천쌀               14\n",
       " 옥토진미                   12\n",
       " 십리향                    11\n",
       " 삼광골드미                  10\n",
       " 보은황토쌀 (삼광)             10\n",
       " 슈퍼오닝 고시히카리              9\n",
       " 철원오대쌀                   9\n",
       " 대왕님표 여주쌀 (진상)           9\n",
       " 유기농 달마지쌀 골드 (하이아미)      8\n",
       "Name: 상품명, dtype: int64"
      ]
     },
     "metadata": {},
     "execution_count": 70
    }
   ],
   "metadata": {}
  },
  {
   "cell_type": "code",
   "execution_count": 71,
   "source": [
    "# 상품명 수량 파악\r\n",
    "grouped_name_c = online_data['무게'].value_counts()\r\n",
    "grouped_name_c.head(20)"
   ],
   "outputs": [
    {
     "output_type": "execute_result",
     "data": {
      "text/plain": [
       "10kg    205\n",
       "20kg    174\n",
       "4kg      47\n",
       "2kg      25\n",
       "5kg      11\n",
       "8kg       8\n",
       "Name: 무게, dtype: int64"
      ]
     },
     "metadata": {},
     "execution_count": 71
    }
   ],
   "metadata": {}
  },
  {
   "cell_type": "code",
   "execution_count": null,
   "source": [
    "# 상품명 수량 파악\r\n",
    "grouped_name_c = online_data['상품명'].value_counts()\r\n",
    "grouped_name_c.head(20)"
   ],
   "outputs": [],
   "metadata": {}
  },
  {
   "cell_type": "code",
   "execution_count": 12,
   "source": [
    "# 가구당 결제금액 파악\r\n",
    "grouped_name_m = online_data.groupby('직업').sum()['실결제금액']\r\n",
    "grouped_name_m"
   ],
   "outputs": [
    {
     "output_type": "execute_result",
     "data": {
      "text/plain": [
       "직업\n",
       "기타           11692000\n",
       "주부           47216700\n",
       "직장인         136096000\n",
       "학생 및 취준생      9071900\n",
       "Name: 실결제금액, dtype: int64"
      ]
     },
     "metadata": {},
     "execution_count": 12
    }
   ],
   "metadata": {}
  },
  {
   "cell_type": "code",
   "execution_count": 14,
   "source": [
    "# 자녀나이 결제상품수량 파악\r\n",
    "x = np.arange(4)\r\n",
    "years = ['기타','주부','직장인','학생 및 취준생']\r\n",
    "values = [272, 1043, 3115, 224]\r\n",
    "\r\n",
    "plt.bar(x, values, width=0.6, color=\"gold\",\r\n",
    "        linewidth=3, tick_label=years)\r\n",
    "\r\n",
    "plt.show()"
   ],
   "outputs": [
    {
     "output_type": "display_data",
     "data": {
      "text/plain": [
       "<Figure size 432x288 with 1 Axes>"
      ],
      "image/png": "[encoded data removed]"
     },
     "metadata": {
      "needs_background": "light"
     }
    }
   ],
   "metadata": {}
  },
  {
   "cell_type": "code",
   "execution_count": 16,
   "source": [
    "# 자녀나이 결제금액 파악\r\n",
    "x = np.arange(4)\r\n",
    "years = ['기타','주부','직장인','학생 및 취준생']\r\n",
    "values = [11692000, 47216700, 136096000, 9071900]\r\n",
    "\r\n",
    "plt.bar(x, values, width=0.6, color=\"gold\",\r\n",
    "        linewidth=3, tick_label=years)\r\n",
    "\r\n",
    "plt.show()"
   ],
   "outputs": [
    {
     "output_type": "display_data",
     "data": {
      "text/plain": [
       "<Figure size 432x288 with 1 Axes>"
      ],
      "image/png": "[encoded data removed]"
     },
     "metadata": {
      "needs_background": "light"
     }
    }
   ],
   "metadata": {}
  }
 ],
 "metadata": {
  "orig_nbformat": 4,
  "language_info": {
   "name": "python",
   "version": "3.8.5",
   "mimetype": "text/x-python",
   "codemirror_mode": {
    "name": "ipython",
    "version": 3
   },
   "pygments_lexer": "ipython3",
   "nbconvert_exporter": "python",
   "file_extension": ".py"
  },
  "kernelspec": {
   "name": "python3",
   "display_name": "Python 3.8.5 64-bit ('base': conda)"
  },
  "interpreter": {
   "hash": "8c1eae21719a0790335dcb83aad72b63b602cfe5cdb2bda0f60bc11d4f154e4b"
  }
 },
 "nbformat": 4,
 "nbformat_minor": 2
}