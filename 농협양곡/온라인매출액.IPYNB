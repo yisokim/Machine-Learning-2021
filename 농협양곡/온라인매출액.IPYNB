{
 "cells": [
  {
   "cell_type": "code",
   "execution_count": 1,
   "source": [
    "# 경고무시\r\n",
    "import warnings\r\n",
    "warnings.filterwarnings(action='ignore', category=DeprecationWarning)"
   ],
   "outputs": [],
   "metadata": {}
  },
  {
   "cell_type": "code",
   "execution_count": 2,
   "source": [
    "# load library\r\n",
    "import pandas as pd \r\n",
    "import numpy as np\r\n",
    "import matplotlib.pyplot as plt\r\n",
    "%matplotlib inline\r\n",
    "import matplotlib as mpl\r\n",
    "mpl.rcParams['axes.unicode_minus'] = False\r\n",
    "plt.rcParams['font.family'] = 'Malgun Gothic'\r\n",
    "plt.rcParams['font.size'] = 10"
   ],
   "outputs": [],
   "metadata": {}
  },
  {
   "cell_type": "code",
   "execution_count": 10,
   "source": [
    "# load data\r\n",
    "online_data = pd.read_csv(\"C:/nh/2015매출.csv\")\r\n",
    "online_data.head()"
   ],
   "outputs": [
    {
     "output_type": "stream",
     "name": "stderr",
     "text": [
      "C:\\Users\\CPB06GameN\\miniconda3\\lib\\site-packages\\IPython\\core\\interactiveshell.py:3165: DtypeWarning: Columns (0,1,3,4,5,6,8,9,10,11,12) have mixed types.Specify dtype option on import or set low_memory=False.\n",
      "  has_raised = await self.run_ast_nodes(code_ast.body, cell_name,\n"
     ]
    },
    {
     "output_type": "execute_result",
     "data": {
      "text/plain": [
       "  사업장         매출일  매출번호 정정취소구분      거래처유형              매출처명               품목명  \\\n",
       "0  본사  2015-03-02   8.0     정상  계통가공처(매입)  충서원예농협 공판장지점(판매)     하나가득흑미1kg(20)   \n",
       "1  본사  2015-03-02   8.0     정상  계통가공처(매입)  충서원예농협 공판장지점(판매)   하나가득찰보리쌀1kg(20)   \n",
       "2  본사  2015-03-02  10.0     정상  계통마트(농축협)     한국양봉농협 신풍역판매장  동송신선오대쌀(인증) 20kg   \n",
       "3  본사  2015-03-02  10.0     정상  계통마트(농축협)     한국양봉농협 신풍역판매장  동송신선오대쌀(인증) 10kg   \n",
       "4  본사  2015-03-02  10.0     정상  계통마트(농축협)     한국양봉농협 신풍역판매장      신평맛좋은당진쌀20kg   \n",
       "\n",
       "     생산년도   규격명 양곡분류구분 매출수량 환산중량    매출단가      공급금액  \n",
       "0  2014.0   1kg   PB상품  100  100   3,700  370000.0  \n",
       "1  2014.0   1kg   PB상품  100  100   2,300  230000.0  \n",
       "2  2014.0  20kg     미곡    3   60  60,000  180000.0  \n",
       "3  2014.0  10kg     미곡    3   30  31,000   93000.0  \n",
       "4  2014.0  20kg     미곡    5  100  43,000  215000.0  "
      ],
      "text/html": [
       "<div>\n",
       "<style scoped>\n",
       "    .dataframe tbody tr th:only-of-type {\n",
       "        vertical-align: middle;\n",
       "    }\n",
       "\n",
       "    .dataframe tbody tr th {\n",
       "        vertical-align: top;\n",
       "    }\n",
       "\n",
       "    .dataframe thead th {\n",
       "        text-align: right;\n",
       "    }\n",
       "</style>\n",
       "<table border=\"1\" class=\"dataframe\">\n",
       "  <thead>\n",
       "    <tr style=\"text-align: right;\">\n",
       "      <th></th>\n",
       "      <th>사업장</th>\n",
       "      <th>매출일</th>\n",
       "      <th>매출번호</th>\n",
       "      <th>정정취소구분</th>\n",
       "      <th>거래처유형</th>\n",
       "      <th>매출처명</th>\n",
       "      <th>품목명</th>\n",
       "      <th>생산년도</th>\n",
       "      <th>규격명</th>\n",
       "      <th>양곡분류구분</th>\n",
       "      <th>매출수량</th>\n",
       "      <th>환산중량</th>\n",
       "      <th>매출단가</th>\n",
       "      <th>공급금액</th>\n",
       "    </tr>\n",
       "  </thead>\n",
       "  <tbody>\n",
       "    <tr>\n",
       "      <th>0</th>\n",
       "      <td>본사</td>\n",
       "      <td>2015-03-02</td>\n",
       "      <td>8.0</td>\n",
       "      <td>정상</td>\n",
       "      <td>계통가공처(매입)</td>\n",
       "      <td>충서원예농협 공판장지점(판매)</td>\n",
       "      <td>하나가득흑미1kg(20)</td>\n",
       "      <td>2014.0</td>\n",
       "      <td>1kg</td>\n",
       "      <td>PB상품</td>\n",
       "      <td>100</td>\n",
       "      <td>100</td>\n",
       "      <td>3,700</td>\n",
       "      <td>370000.0</td>\n",
       "    </tr>\n",
       "    <tr>\n",
       "      <th>1</th>\n",
       "      <td>본사</td>\n",
       "      <td>2015-03-02</td>\n",
       "      <td>8.0</td>\n",
       "      <td>정상</td>\n",
       "      <td>계통가공처(매입)</td>\n",
       "      <td>충서원예농협 공판장지점(판매)</td>\n",
       "      <td>하나가득찰보리쌀1kg(20)</td>\n",
       "      <td>2014.0</td>\n",
       "      <td>1kg</td>\n",
       "      <td>PB상품</td>\n",
       "      <td>100</td>\n",
       "      <td>100</td>\n",
       "      <td>2,300</td>\n",
       "      <td>230000.0</td>\n",
       "    </tr>\n",
       "    <tr>\n",
       "      <th>2</th>\n",
       "      <td>본사</td>\n",
       "      <td>2015-03-02</td>\n",
       "      <td>10.0</td>\n",
       "      <td>정상</td>\n",
       "      <td>계통마트(농축협)</td>\n",
       "      <td>한국양봉농협 신풍역판매장</td>\n",
       "      <td>동송신선오대쌀(인증) 20kg</td>\n",
       "      <td>2014.0</td>\n",
       "      <td>20kg</td>\n",
       "      <td>미곡</td>\n",
       "      <td>3</td>\n",
       "      <td>60</td>\n",
       "      <td>60,000</td>\n",
       "      <td>180000.0</td>\n",
       "    </tr>\n",
       "    <tr>\n",
       "      <th>3</th>\n",
       "      <td>본사</td>\n",
       "      <td>2015-03-02</td>\n",
       "      <td>10.0</td>\n",
       "      <td>정상</td>\n",
       "      <td>계통마트(농축협)</td>\n",
       "      <td>한국양봉농협 신풍역판매장</td>\n",
       "      <td>동송신선오대쌀(인증) 10kg</td>\n",
       "      <td>2014.0</td>\n",
       "      <td>10kg</td>\n",
       "      <td>미곡</td>\n",
       "      <td>3</td>\n",
       "      <td>30</td>\n",
       "      <td>31,000</td>\n",
       "      <td>93000.0</td>\n",
       "    </tr>\n",
       "    <tr>\n",
       "      <th>4</th>\n",
       "      <td>본사</td>\n",
       "      <td>2015-03-02</td>\n",
       "      <td>10.0</td>\n",
       "      <td>정상</td>\n",
       "      <td>계통마트(농축협)</td>\n",
       "      <td>한국양봉농협 신풍역판매장</td>\n",
       "      <td>신평맛좋은당진쌀20kg</td>\n",
       "      <td>2014.0</td>\n",
       "      <td>20kg</td>\n",
       "      <td>미곡</td>\n",
       "      <td>5</td>\n",
       "      <td>100</td>\n",
       "      <td>43,000</td>\n",
       "      <td>215000.0</td>\n",
       "    </tr>\n",
       "  </tbody>\n",
       "</table>\n",
       "</div>"
      ]
     },
     "metadata": {},
     "execution_count": 10
    }
   ],
   "metadata": {}
  },
  {
   "cell_type": "code",
   "execution_count": 11,
   "source": [
    "# 결측치 파악\r\n",
    "online_data.info()"
   ],
   "outputs": [
    {
     "output_type": "stream",
     "name": "stdout",
     "text": [
      "<class 'pandas.core.frame.DataFrame'>\n",
      "RangeIndex: 1040401 entries, 0 to 1040400\n",
      "Data columns (total 14 columns):\n",
      " #   Column  Non-Null Count   Dtype  \n",
      "---  ------  --------------   -----  \n",
      " 0   사업장     223538 non-null  object \n",
      " 1   매출일     223538 non-null  object \n",
      " 2   매출번호    223538 non-null  float64\n",
      " 3   정정취소구분  223538 non-null  object \n",
      " 4   거래처유형   223513 non-null  object \n",
      " 5   매출처명    223538 non-null  object \n",
      " 6   품목명     223538 non-null  object \n",
      " 7   생산년도    223538 non-null  float64\n",
      " 8   규격명     223538 non-null  object \n",
      " 9   양곡분류구분  223538 non-null  object \n",
      " 10  매출수량    223538 non-null  object \n",
      " 11  환산중량    223538 non-null  object \n",
      " 12  매출단가    223538 non-null  object \n",
      " 13  공급금액    223538 non-null  float64\n",
      "dtypes: float64(3), object(11)\n",
      "memory usage: 111.1+ MB\n"
     ]
    }
   ],
   "metadata": {}
  },
  {
   "cell_type": "code",
   "execution_count": 12,
   "source": [
    "# 온라인 매출액 파악\r\n",
    "grouped_name = online_data.groupby('거래처유형').sum()['공급금액']\r\n",
    "grouped_name"
   ],
   "outputs": [
    {
     "output_type": "execute_result",
     "data": {
      "text/plain": [
       "거래처유형\n",
       "계통가공처(매입)    1.820256e+10\n",
       "계통마트         5.777599e+10\n",
       "계통마트(농축협)    7.006605e+08\n",
       "계통마트(도매)     3.702495e+10\n",
       "계통마트(식자재)    5.909129e+10\n",
       "기타           1.422447e+11\n",
       "대형유통         4.685228e+10\n",
       "온라인          3.063922e+10\n",
       "외부대형         5.106780e+10\n",
       "Name: 공급금액, dtype: float64"
      ]
     },
     "metadata": {},
     "execution_count": 12
    }
   ],
   "metadata": {}
  },
  {
   "cell_type": "code",
   "execution_count": 13,
   "source": [
    "group_sizes = grouped_name.values\r\n",
    "labels = ['계통가공처(매입)', '계통마트', '계통마트(농축협)', '계통마트(도매)','계통마트(식자재)','기타','대형유통','온라인','외부대형']\r\n",
    "explode = (0.0, 0.0, 0.0, 0.0, 0.0, 0.0, 0.0, 0.1, 0.0)\r\n",
    "colors = ['purple','silver', 'gold', 'whitesmoke', 'lightgray','#ff9999', '#ffc000', '#8fd9b6', '#d395d0']\r\n",
    "\r\n",
    "fig = plt.figure(figsize=(8,8))\r\n",
    "fig.set_facecolor('white')\r\n",
    "ax = fig.add_subplot()\r\n",
    "\r\n",
    "plt.pie(group_sizes, labels=labels, autopct='%.1f%%', startangle=260, counterclock=False, explode=explode, shadow=True, colors=colors)\r\n",
    "plt.show()"
   ],
   "outputs": [
    {
     "output_type": "display_data",
     "data": {
      "text/plain": [
       "<Figure size 576x576 with 1 Axes>"
      ],
      "image/png": "[encoded data removed]"
     },
     "metadata": {}
    }
   ],
   "metadata": {}
  },
  {
   "cell_type": "code",
   "execution_count": 14,
   "source": [
    "online_data = pd.read_csv(\"C:/nh/2019매출.csv\")\r\n",
    "online_data.head()"
   ],
   "outputs": [
    {
     "output_type": "stream",
     "name": "stderr",
     "text": [
      "C:\\Users\\CPB06GameN\\miniconda3\\lib\\site-packages\\IPython\\core\\interactiveshell.py:3165: DtypeWarning: Columns (0,1,2,3,4,5,6,8,9,10,11,12) have mixed types.Specify dtype option on import or set low_memory=False.\n",
      "  has_raised = await self.run_ast_nodes(code_ast.body, cell_name,\n"
     ]
    },
    {
     "output_type": "execute_result",
     "data": {
      "text/plain": [
       "  사업장         매출일 매출번호 정정취소구분      거래처유형                 매출처명            품목명  \\\n",
       "0  본사  2019-01-01    1     정상  계통마트(식자재)  (주)농협하나로유통 수원점(식자재)         귀리쌀2kg   \n",
       "1  본사  2019-01-01    1     정상  계통마트(식자재)  (주)농협하나로유통 수원점(식자재)      군자겉보리 4kg   \n",
       "2  본사  2019-01-01    1     정상  계통마트(식자재)  (주)농협하나로유통 수원점(식자재)  불릴필요없는삼색현미4kg   \n",
       "3  본사  2019-01-01    1     정상  계통마트(식자재)  (주)농협하나로유통 수원점(식자재)    불릴필요없는현미4kg   \n",
       "4  본사  2019-01-01    1     정상  계통마트(식자재)  (주)농협하나로유통 수원점(식자재)       군자적두500g   \n",
       "\n",
       "     생산년도   규격명 양곡분류구분 매출수량 환산중량    매출단가      공급금액  \n",
       "0  2018.0   2Kg     잡곡   32   64  24,823  794336.0  \n",
       "1  2018.0   4kg     잡곡   10   40   9,748   97480.0  \n",
       "2  2018.0   4Kg     잡곡   15   60  12,562  188430.0  \n",
       "3  2018.0   4Kg     잡곡   10   40  11,356  113560.0  \n",
       "4  2018.0  500g     잡곡   15    8   7,537  113055.0  "
      ],
      "text/html": [
       "<div>\n",
       "<style scoped>\n",
       "    .dataframe tbody tr th:only-of-type {\n",
       "        vertical-align: middle;\n",
       "    }\n",
       "\n",
       "    .dataframe tbody tr th {\n",
       "        vertical-align: top;\n",
       "    }\n",
       "\n",
       "    .dataframe thead th {\n",
       "        text-align: right;\n",
       "    }\n",
       "</style>\n",
       "<table border=\"1\" class=\"dataframe\">\n",
       "  <thead>\n",
       "    <tr style=\"text-align: right;\">\n",
       "      <th></th>\n",
       "      <th>사업장</th>\n",
       "      <th>매출일</th>\n",
       "      <th>매출번호</th>\n",
       "      <th>정정취소구분</th>\n",
       "      <th>거래처유형</th>\n",
       "      <th>매출처명</th>\n",
       "      <th>품목명</th>\n",
       "      <th>생산년도</th>\n",
       "      <th>규격명</th>\n",
       "      <th>양곡분류구분</th>\n",
       "      <th>매출수량</th>\n",
       "      <th>환산중량</th>\n",
       "      <th>매출단가</th>\n",
       "      <th>공급금액</th>\n",
       "    </tr>\n",
       "  </thead>\n",
       "  <tbody>\n",
       "    <tr>\n",
       "      <th>0</th>\n",
       "      <td>본사</td>\n",
       "      <td>2019-01-01</td>\n",
       "      <td>1</td>\n",
       "      <td>정상</td>\n",
       "      <td>계통마트(식자재)</td>\n",
       "      <td>(주)농협하나로유통 수원점(식자재)</td>\n",
       "      <td>귀리쌀2kg</td>\n",
       "      <td>2018.0</td>\n",
       "      <td>2Kg</td>\n",
       "      <td>잡곡</td>\n",
       "      <td>32</td>\n",
       "      <td>64</td>\n",
       "      <td>24,823</td>\n",
       "      <td>794336.0</td>\n",
       "    </tr>\n",
       "    <tr>\n",
       "      <th>1</th>\n",
       "      <td>본사</td>\n",
       "      <td>2019-01-01</td>\n",
       "      <td>1</td>\n",
       "      <td>정상</td>\n",
       "      <td>계통마트(식자재)</td>\n",
       "      <td>(주)농협하나로유통 수원점(식자재)</td>\n",
       "      <td>군자겉보리 4kg</td>\n",
       "      <td>2018.0</td>\n",
       "      <td>4kg</td>\n",
       "      <td>잡곡</td>\n",
       "      <td>10</td>\n",
       "      <td>40</td>\n",
       "      <td>9,748</td>\n",
       "      <td>97480.0</td>\n",
       "    </tr>\n",
       "    <tr>\n",
       "      <th>2</th>\n",
       "      <td>본사</td>\n",
       "      <td>2019-01-01</td>\n",
       "      <td>1</td>\n",
       "      <td>정상</td>\n",
       "      <td>계통마트(식자재)</td>\n",
       "      <td>(주)농협하나로유통 수원점(식자재)</td>\n",
       "      <td>불릴필요없는삼색현미4kg</td>\n",
       "      <td>2018.0</td>\n",
       "      <td>4Kg</td>\n",
       "      <td>잡곡</td>\n",
       "      <td>15</td>\n",
       "      <td>60</td>\n",
       "      <td>12,562</td>\n",
       "      <td>188430.0</td>\n",
       "    </tr>\n",
       "    <tr>\n",
       "      <th>3</th>\n",
       "      <td>본사</td>\n",
       "      <td>2019-01-01</td>\n",
       "      <td>1</td>\n",
       "      <td>정상</td>\n",
       "      <td>계통마트(식자재)</td>\n",
       "      <td>(주)농협하나로유통 수원점(식자재)</td>\n",
       "      <td>불릴필요없는현미4kg</td>\n",
       "      <td>2018.0</td>\n",
       "      <td>4Kg</td>\n",
       "      <td>잡곡</td>\n",
       "      <td>10</td>\n",
       "      <td>40</td>\n",
       "      <td>11,356</td>\n",
       "      <td>113560.0</td>\n",
       "    </tr>\n",
       "    <tr>\n",
       "      <th>4</th>\n",
       "      <td>본사</td>\n",
       "      <td>2019-01-01</td>\n",
       "      <td>1</td>\n",
       "      <td>정상</td>\n",
       "      <td>계통마트(식자재)</td>\n",
       "      <td>(주)농협하나로유통 수원점(식자재)</td>\n",
       "      <td>군자적두500g</td>\n",
       "      <td>2018.0</td>\n",
       "      <td>500g</td>\n",
       "      <td>잡곡</td>\n",
       "      <td>15</td>\n",
       "      <td>8</td>\n",
       "      <td>7,537</td>\n",
       "      <td>113055.0</td>\n",
       "    </tr>\n",
       "  </tbody>\n",
       "</table>\n",
       "</div>"
      ]
     },
     "metadata": {},
     "execution_count": 14
    }
   ],
   "metadata": {}
  },
  {
   "cell_type": "code",
   "execution_count": 15,
   "source": [
    "# 결측치 파악\r\n",
    "online_data.info()"
   ],
   "outputs": [
    {
     "output_type": "stream",
     "name": "stdout",
     "text": [
      "<class 'pandas.core.frame.DataFrame'>\n",
      "RangeIndex: 1036048 entries, 0 to 1036047\n",
      "Data columns (total 14 columns):\n",
      " #   Column  Non-Null Count   Dtype  \n",
      "---  ------  --------------   -----  \n",
      " 0   사업장     304935 non-null  object \n",
      " 1   매출일     304935 non-null  object \n",
      " 2   매출번호    304935 non-null  object \n",
      " 3   정정취소구분  304935 non-null  object \n",
      " 4   거래처유형   304919 non-null  object \n",
      " 5   매출처명    304935 non-null  object \n",
      " 6   품목명     304935 non-null  object \n",
      " 7   생산년도    304935 non-null  float64\n",
      " 8   규격명     304932 non-null  object \n",
      " 9   양곡분류구분  304935 non-null  object \n",
      " 10  매출수량    304935 non-null  object \n",
      " 11  환산중량    304935 non-null  object \n",
      " 12  매출단가    304935 non-null  object \n",
      " 13  공급금액    304935 non-null  float64\n",
      "dtypes: float64(2), object(12)\n",
      "memory usage: 110.7+ MB\n"
     ]
    }
   ],
   "metadata": {}
  },
  {
   "cell_type": "code",
   "execution_count": 16,
   "source": [
    "# 온라인 매출액 파악\r\n",
    "grouped_name = online_data.groupby('거래처유형').sum()['공급금액']\r\n",
    "grouped_name"
   ],
   "outputs": [
    {
     "output_type": "execute_result",
     "data": {
      "text/plain": [
       "거래처유형\n",
       "계통가공처(매입)    7.470968e+10\n",
       "계통마트         8.287664e+10\n",
       "계통마트(농축협)    6.922749e+09\n",
       "계통마트(도매)     7.876553e+10\n",
       "계통마트(식자재)    8.245024e+10\n",
       "기타           1.036574e+11\n",
       "내부           2.445428e+10\n",
       "대형유통         1.695090e+11\n",
       "온라인          1.478066e+10\n",
       "외부대형         1.858681e+11\n",
       "일반마트(도매)     1.149676e+09\n",
       "Name: 공급금액, dtype: float64"
      ]
     },
     "metadata": {},
     "execution_count": 16
    }
   ],
   "metadata": {}
  },
  {
   "cell_type": "code",
   "execution_count": 17,
   "source": [
    "group_sizes = grouped_name.values\r\n",
    "labels = ['계통가공처(매입)', '계통마트', '계통마트(농축협)', '계통마트(도매)','계통마트(식자재)','기타','내부','대형유통','온라인','외부대형','일반마트(도매)']\r\n",
    "explode = (0.0, 0.0, 0.0, 0.0, 0.0, 0.0, 0.0,0.0, 0.1, 0.0,0.0)\r\n",
    "colors = ['yellow','orange','purple','silver', 'gold', 'whitesmoke', 'lightgray','#ff9999', '#ffc000', '#8fd9b6', '#d395d0']\r\n",
    "\r\n",
    "fig = plt.figure(figsize=(8,8))\r\n",
    "fig.set_facecolor('white')\r\n",
    "ax = fig.add_subplot()\r\n",
    "\r\n",
    "plt.pie(group_sizes, labels=labels, autopct='%.1f%%', startangle=260, counterclock=False, explode=explode, shadow=True, colors=colors)\r\n",
    "plt.show()"
   ],
   "outputs": [
    {
     "output_type": "display_data",
     "data": {
      "text/plain": [
       "<Figure size 576x576 with 1 Axes>"
      ],
      "image/png": "[encoded data removed]"
     },
     "metadata": {}
    }
   ],
   "metadata": {}
  },
  {
   "cell_type": "code",
   "execution_count": null,
   "source": [],
   "outputs": [],
   "metadata": {}
  }
 ],
 "metadata": {
  "orig_nbformat": 4,
  "language_info": {
   "name": "python",
   "version": "3.8.5",
   "mimetype": "text/x-python",
   "codemirror_mode": {
    "name": "ipython",
    "version": 3
   },
   "pygments_lexer": "ipython3",
   "nbconvert_exporter": "python",
   "file_extension": ".py"
  },
  "kernelspec": {
   "name": "python3",
   "display_name": "Python 3.8.5 64-bit ('base': conda)"
  },
  "interpreter": {
   "hash": "8c1eae21719a0790335dcb83aad72b63b602cfe5cdb2bda0f60bc11d4f154e4b"
  }
 },
 "nbformat": 4,
 "nbformat_minor": 2
}