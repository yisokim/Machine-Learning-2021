{
 "cells": [
  {
   "cell_type": "code",
   "execution_count": 2,
   "source": [
    "# 경고무시\r\n",
    "import warnings\r\n",
    "warnings.filterwarnings(action='ignore', category=DeprecationWarning)"
   ],
   "outputs": [],
   "metadata": {}
  },
  {
   "cell_type": "code",
   "execution_count": 3,
   "source": [
    "# load library\r\n",
    "import pandas as pd \r\n",
    "import numpy as np\r\n",
    "import matplotlib.pyplot as plt\r\n",
    "%matplotlib inline\r\n",
    "import matplotlib as mpl\r\n",
    "mpl.rcParams['axes.unicode_minus'] = False\r\n",
    "plt.rcParams['font.family'] = 'Malgun Gothic'\r\n",
    "plt.rcParams['font.size'] = 10"
   ],
   "outputs": [],
   "metadata": {}
  },
  {
   "cell_type": "code",
   "execution_count": 39,
   "source": [
    "# load data\r\n",
    "# 2021-01-01_2021-06-30\r\n",
    "online_data = pd.read_csv(\"C:/nh/인구통계_백미혼합곡.csv\")\r\n",
    "online_data.head()"
   ],
   "outputs": [
    {
     "output_type": "execute_result",
     "data": {
      "text/plain": [
       "  상품카테고리(세)           상품명    무게  성별     나이       결제금액  결제수  결제상품수량     환불금액  \\\n",
       "0        백미   김포금쌀 고시히카리   10kg  여성  41~45  4,154,200   84      99  169,800   \n",
       "1        백미   김포금쌀 고시히카리   10kg  여성  36~40  2,932,200   67      70  123,700   \n",
       "2        백미   김포금쌀 고시히카리   10kg  여성  31~35  2,684,000   60      64  167,700   \n",
       "3        백미       NH신동진쌀   20kg  여성  46~50  2,659,800   37      42   63,400   \n",
       "4        백미       NH신동진쌀   20kg  여성  41~45  2,587,400   39      41  125,800   \n",
       "\n",
       "   환불건수  환불수량    실결제금액  실결제수량  \n",
       "0     4     4  3984400     95  \n",
       "1     3     3  2808500     67  \n",
       "2     4     4  2516300     60  \n",
       "3     1     1  2596400     41  \n",
       "4     2     2  2461600     39  "
      ],
      "text/html": [
       "<div>\n",
       "<style scoped>\n",
       "    .dataframe tbody tr th:only-of-type {\n",
       "        vertical-align: middle;\n",
       "    }\n",
       "\n",
       "    .dataframe tbody tr th {\n",
       "        vertical-align: top;\n",
       "    }\n",
       "\n",
       "    .dataframe thead th {\n",
       "        text-align: right;\n",
       "    }\n",
       "</style>\n",
       "<table border=\"1\" class=\"dataframe\">\n",
       "  <thead>\n",
       "    <tr style=\"text-align: right;\">\n",
       "      <th></th>\n",
       "      <th>상품카테고리(세)</th>\n",
       "      <th>상품명</th>\n",
       "      <th>무게</th>\n",
       "      <th>성별</th>\n",
       "      <th>나이</th>\n",
       "      <th>결제금액</th>\n",
       "      <th>결제수</th>\n",
       "      <th>결제상품수량</th>\n",
       "      <th>환불금액</th>\n",
       "      <th>환불건수</th>\n",
       "      <th>환불수량</th>\n",
       "      <th>실결제금액</th>\n",
       "      <th>실결제수량</th>\n",
       "    </tr>\n",
       "  </thead>\n",
       "  <tbody>\n",
       "    <tr>\n",
       "      <th>0</th>\n",
       "      <td>백미</td>\n",
       "      <td>김포금쌀 고시히카리</td>\n",
       "      <td>10kg</td>\n",
       "      <td>여성</td>\n",
       "      <td>41~45</td>\n",
       "      <td>4,154,200</td>\n",
       "      <td>84</td>\n",
       "      <td>99</td>\n",
       "      <td>169,800</td>\n",
       "      <td>4</td>\n",
       "      <td>4</td>\n",
       "      <td>3984400</td>\n",
       "      <td>95</td>\n",
       "    </tr>\n",
       "    <tr>\n",
       "      <th>1</th>\n",
       "      <td>백미</td>\n",
       "      <td>김포금쌀 고시히카리</td>\n",
       "      <td>10kg</td>\n",
       "      <td>여성</td>\n",
       "      <td>36~40</td>\n",
       "      <td>2,932,200</td>\n",
       "      <td>67</td>\n",
       "      <td>70</td>\n",
       "      <td>123,700</td>\n",
       "      <td>3</td>\n",
       "      <td>3</td>\n",
       "      <td>2808500</td>\n",
       "      <td>67</td>\n",
       "    </tr>\n",
       "    <tr>\n",
       "      <th>2</th>\n",
       "      <td>백미</td>\n",
       "      <td>김포금쌀 고시히카리</td>\n",
       "      <td>10kg</td>\n",
       "      <td>여성</td>\n",
       "      <td>31~35</td>\n",
       "      <td>2,684,000</td>\n",
       "      <td>60</td>\n",
       "      <td>64</td>\n",
       "      <td>167,700</td>\n",
       "      <td>4</td>\n",
       "      <td>4</td>\n",
       "      <td>2516300</td>\n",
       "      <td>60</td>\n",
       "    </tr>\n",
       "    <tr>\n",
       "      <th>3</th>\n",
       "      <td>백미</td>\n",
       "      <td>NH신동진쌀</td>\n",
       "      <td>20kg</td>\n",
       "      <td>여성</td>\n",
       "      <td>46~50</td>\n",
       "      <td>2,659,800</td>\n",
       "      <td>37</td>\n",
       "      <td>42</td>\n",
       "      <td>63,400</td>\n",
       "      <td>1</td>\n",
       "      <td>1</td>\n",
       "      <td>2596400</td>\n",
       "      <td>41</td>\n",
       "    </tr>\n",
       "    <tr>\n",
       "      <th>4</th>\n",
       "      <td>백미</td>\n",
       "      <td>NH신동진쌀</td>\n",
       "      <td>20kg</td>\n",
       "      <td>여성</td>\n",
       "      <td>41~45</td>\n",
       "      <td>2,587,400</td>\n",
       "      <td>39</td>\n",
       "      <td>41</td>\n",
       "      <td>125,800</td>\n",
       "      <td>2</td>\n",
       "      <td>2</td>\n",
       "      <td>2461600</td>\n",
       "      <td>39</td>\n",
       "    </tr>\n",
       "  </tbody>\n",
       "</table>\n",
       "</div>"
      ]
     },
     "metadata": {},
     "execution_count": 39
    }
   ],
   "metadata": {}
  },
  {
   "cell_type": "code",
   "execution_count": 5,
   "source": [
    "# 결측치 확인\r\n",
    "online_data.info()"
   ],
   "outputs": [
    {
     "output_type": "stream",
     "name": "stdout",
     "text": [
      "<class 'pandas.core.frame.DataFrame'>\n",
      "RangeIndex: 907 entries, 0 to 906\n",
      "Data columns (total 13 columns):\n",
      " #   Column     Non-Null Count  Dtype \n",
      "---  ------     --------------  ----- \n",
      " 0   상품카테고리(세)  907 non-null    object\n",
      " 1   상품명        907 non-null    object\n",
      " 2   무게         907 non-null    object\n",
      " 3   성별         907 non-null    object\n",
      " 4   나이         907 non-null    object\n",
      " 5   결제금액       907 non-null    object\n",
      " 6   결제수        907 non-null    int64 \n",
      " 7   결제상품수량     907 non-null    int64 \n",
      " 8   환불금액       907 non-null    object\n",
      " 9   환불건수       907 non-null    int64 \n",
      " 10  환불수량       907 non-null    int64 \n",
      " 11  실결제금액      907 non-null    int64 \n",
      " 12  실결제수량      907 non-null    int64 \n",
      "dtypes: int64(6), object(7)\n",
      "memory usage: 92.2+ KB\n"
     ]
    }
   ],
   "metadata": {}
  },
  {
   "cell_type": "code",
   "execution_count": 6,
   "source": [
    "# 통계량 파악\r\n",
    "online_data['상품명'].describe()"
   ],
   "outputs": [
    {
     "output_type": "execute_result",
     "data": {
      "text/plain": [
       "count             907\n",
       "unique             94\n",
       "top        탑마루쌀(신동진) \n",
       "freq               70\n",
       "Name: 상품명, dtype: object"
      ]
     },
     "metadata": {},
     "execution_count": 6
    }
   ],
   "metadata": {}
  },
  {
   "cell_type": "code",
   "execution_count": 7,
   "source": [
    "# 통계량 파악\r\n",
    "online_data['성별'].describe()"
   ],
   "outputs": [
    {
     "output_type": "execute_result",
     "data": {
      "text/plain": [
       "count     907\n",
       "unique      2\n",
       "top        여성\n",
       "freq      498\n",
       "Name: 성별, dtype: object"
      ]
     },
     "metadata": {},
     "execution_count": 7
    }
   ],
   "metadata": {}
  },
  {
   "cell_type": "code",
   "execution_count": 8,
   "source": [
    "# 통계량 파악\r\n",
    "online_data['나이'].describe()"
   ],
   "outputs": [
    {
     "output_type": "execute_result",
     "data": {
      "text/plain": [
       "count       907\n",
       "unique       13\n",
       "top       41~45\n",
       "freq        124\n",
       "Name: 나이, dtype: object"
      ]
     },
     "metadata": {},
     "execution_count": 8
    }
   ],
   "metadata": {}
  },
  {
   "cell_type": "code",
   "execution_count": 9,
   "source": [
    "# 성별에 따른 수량\r\n",
    "grouped_name_m = online_data.groupby('성별').sum()['실결제수량']\r\n",
    "grouped_name_m.head(20)"
   ],
   "outputs": [
    {
     "output_type": "execute_result",
     "data": {
      "text/plain": [
       "성별\n",
       "남성    1692\n",
       "여성    2962\n",
       "Name: 실결제수량, dtype: int64"
      ]
     },
     "metadata": {},
     "execution_count": 9
    }
   ],
   "metadata": {}
  },
  {
   "cell_type": "code",
   "execution_count": 18,
   "source": [
    "ratio = [1692, 2962]\r\n",
    "labels = ['남성','여성']\r\n",
    "explode = (0.0, 0.0)\r\n",
    "colors = ['lightgray', 'gold']\r\n",
    "\r\n",
    "fig = plt.figure(figsize=(8,8))\r\n",
    "fig.set_facecolor('white')\r\n",
    "ax = fig.add_subplot()\r\n",
    "\r\n",
    "plt.pie(ratio, labels=labels, autopct='%.1f%%', startangle=260, counterclock=False, explode=explode, shadow=True, colors=colors)\r\n",
    "plt.show()"
   ],
   "outputs": [
    {
     "output_type": "display_data",
     "data": {
      "text/plain": [
       "<Figure size 576x576 with 1 Axes>"
      ],
      "image/png": "[encoded data removed]"
     },
     "metadata": {}
    }
   ],
   "metadata": {}
  },
  {
   "cell_type": "code",
   "execution_count": 10,
   "source": [
    "# 성별에 따른 결제금액\r\n",
    "grouped_name_m = online_data.groupby('성별').sum()['실결제금액']\r\n",
    "grouped_name_m.head(20)"
   ],
   "outputs": [
    {
     "output_type": "execute_result",
     "data": {
      "text/plain": [
       "성별\n",
       "남성     74845100\n",
       "여성    129231500\n",
       "Name: 실결제금액, dtype: int64"
      ]
     },
     "metadata": {},
     "execution_count": 10
    }
   ],
   "metadata": {}
  },
  {
   "cell_type": "code",
   "execution_count": 19,
   "source": [
    "ratio = [74845100, 129231500]\r\n",
    "labels = ['남성','여성']\r\n",
    "explode = (0.0, 0.0)\r\n",
    "colors = ['lightgray', 'gold']\r\n",
    "\r\n",
    "fig = plt.figure(figsize=(8,8))\r\n",
    "fig.set_facecolor('white')\r\n",
    "ax = fig.add_subplot()\r\n",
    "\r\n",
    "plt.pie(ratio, labels=labels, autopct='%.1f%%', startangle=260, counterclock=False, explode=explode, shadow=True, colors=colors)\r\n",
    "plt.show()"
   ],
   "outputs": [
    {
     "output_type": "display_data",
     "data": {
      "text/plain": [
       "<Figure size 576x576 with 1 Axes>"
      ],
      "image/png": "[encoded data removed]"
     },
     "metadata": {}
    }
   ],
   "metadata": {}
  },
  {
   "cell_type": "code",
   "execution_count": 11,
   "source": [
    "# 연령에 따른 수량\r\n",
    "grouped_name_m = online_data.groupby('나이').sum()['실결제수량']\r\n",
    "grouped_name_m.head(20)"
   ],
   "outputs": [
    {
     "output_type": "execute_result",
     "data": {
      "text/plain": [
       "나이\n",
       "14~16      1\n",
       "17~19      2\n",
       "20~25    149\n",
       "26~30    390\n",
       "31~35    614\n",
       "36~40    892\n",
       "41~45    859\n",
       "46~50    799\n",
       "51~55    478\n",
       "56~60    278\n",
       "61~65    117\n",
       "66~70     43\n",
       "71+       32\n",
       "Name: 실결제수량, dtype: int64"
      ]
     },
     "metadata": {},
     "execution_count": 11
    }
   ],
   "metadata": {}
  },
  {
   "cell_type": "code",
   "execution_count": 12,
   "source": [
    "# 자녀나이 결제상품수량 파악\r\n",
    "x = np.arange(11)\r\n",
    "years = ['14~19','20~25','26~30','31~35','36~40','41~45','46~50','51~55','56~60','61~65','66+']\r\n",
    "values = [3, 149, 390, 614, 892, 859,799,478,278,117,75]\r\n",
    "\r\n",
    "plt.bar(x, values, width=0.6, color=\"gold\",\r\n",
    "        linewidth=3, tick_label=years)\r\n",
    "\r\n",
    "plt.show()"
   ],
   "outputs": [
    {
     "output_type": "display_data",
     "data": {
      "text/plain": [
       "<Figure size 432x288 with 1 Axes>"
      ],
      "image/png": "[encoded data removed]"
     },
     "metadata": {
      "needs_background": "light"
     }
    }
   ],
   "metadata": {}
  },
  {
   "cell_type": "code",
   "execution_count": 40,
   "source": [
    "# 연령에 따른 선호 곡물\r\n",
    "grouped_name_s_r = online_data.groupby(['나이','상품카테고리(세)'])['실결제수량'].sum()\r\n",
    "grouped_name_s_r"
   ],
   "outputs": [
    {
     "output_type": "execute_result",
     "data": {
      "text/plain": [
       "나이     상품카테고리(세)\n",
       "14~16  백미             1\n",
       "17~19  백미             2\n",
       "20~25  백미           144\n",
       "       혼합곡            5\n",
       "26~30  백미           386\n",
       "       혼합곡            4\n",
       "31~35  백미           600\n",
       "       혼합곡           14\n",
       "36~40  백미           869\n",
       "       혼합곡           23\n",
       "41~45  백미           836\n",
       "       혼합곡           23\n",
       "46~50  백미           726\n",
       "       혼합곡           73\n",
       "51~55  백미           468\n",
       "       혼합곡           10\n",
       "56~60  백미           276\n",
       "       혼합곡            2\n",
       "61~65  백미           117\n",
       "66~70  백미            41\n",
       "       혼합곡            2\n",
       "71+    백미            32\n",
       "Name: 실결제수량, dtype: int64"
      ]
     },
     "metadata": {},
     "execution_count": 40
    }
   ],
   "metadata": {}
  },
  {
   "cell_type": "code",
   "execution_count": 20,
   "source": [
    "ratio = [2550, 2140]\r\n",
    "labels = ['36~50','나머지']\r\n",
    "explode = (0.0, 0.0)\r\n",
    "colors = ['lightgray', 'gold']\r\n",
    "\r\n",
    "fig = plt.figure(figsize=(8,8))\r\n",
    "fig.set_facecolor('white')\r\n",
    "ax = fig.add_subplot()\r\n",
    "\r\n",
    "plt.pie(ratio, labels=labels, autopct='%.1f%%', startangle=260, counterclock=False, explode=explode, shadow=True, colors=colors)\r\n",
    "plt.show()"
   ],
   "outputs": [
    {
     "output_type": "display_data",
     "data": {
      "text/plain": [
       "<Figure size 576x576 with 1 Axes>"
      ],
      "image/png": "[encoded data removed]"
     },
     "metadata": {}
    }
   ],
   "metadata": {}
  },
  {
   "cell_type": "code",
   "execution_count": 13,
   "source": [
    "# 연령에 따른 결제금액\r\n",
    "grouped_name_m = online_data.groupby('나이').sum()['실결제금액']\r\n",
    "grouped_name_m.head(20)"
   ],
   "outputs": [
    {
     "output_type": "execute_result",
     "data": {
      "text/plain": [
       "나이\n",
       "14~16       63500\n",
       "17~19       79300\n",
       "20~25     6071700\n",
       "26~30    15177600\n",
       "31~35    24682300\n",
       "36~40    38426200\n",
       "41~45    38772700\n",
       "46~50    36434400\n",
       "51~55    22476600\n",
       "56~60    12886100\n",
       "61~65     5374800\n",
       "66~70     2011400\n",
       "71+       1620000\n",
       "Name: 실결제금액, dtype: int64"
      ]
     },
     "metadata": {},
     "execution_count": 13
    }
   ],
   "metadata": {}
  },
  {
   "cell_type": "code",
   "execution_count": 14,
   "source": [
    "# 나이 결제금액 파악\r\n",
    "x = np.arange(11)\r\n",
    "years = ['14~19','20~25','26~30','31~35','36~40','41~45','46~50','51~55','56~60','61~65','66+']\r\n",
    "values = [142800, 6071700, 15177600, 24682300, 38426200, 38772700,36434400,22476600,12886100,5374800,3631400]\r\n",
    "\r\n",
    "plt.bar(x, values, width=0.6, color=\"gold\",\r\n",
    "        linewidth=3, tick_label=years)\r\n",
    "\r\n",
    "plt.show()"
   ],
   "outputs": [
    {
     "output_type": "display_data",
     "data": {
      "text/plain": [
       "<Figure size 432x288 with 1 Axes>"
      ],
      "image/png": "[encoded data removed]"
     },
     "metadata": {
      "needs_background": "light"
     }
    }
   ],
   "metadata": {}
  },
  {
   "cell_type": "markdown",
   "source": [
    "# 백미"
   ],
   "metadata": {}
  },
  {
   "cell_type": "code",
   "execution_count": 30,
   "source": [
    "# load data\r\n",
    "# 2021-01-01_2021-06-30\r\n",
    "online_data = pd.read_csv(\"C:/nh/인구통계_전처리_백미.csv\")\r\n",
    "online_data.head()"
   ],
   "outputs": [
    {
     "output_type": "execute_result",
     "data": {
      "text/plain": [
       "  상품카테고리(세)      상품명    무게  성별     나이       결제금액   결제수  결제상품수량     환불금액  환불건수  \\\n",
       "0        백미   NH신동진쌀  20kg  여성  46~50  2,659,800  37.0    42.0   63,400   1.0   \n",
       "1        백미   NH신동진쌀  20kg  여성  41~45  2,587,400  39.0    41.0  125,800   2.0   \n",
       "2        백미   NH신동진쌀  20kg  여성  36~40  2,338,800  34.0    37.0  252,600   4.0   \n",
       "3        백미   NH신동진쌀  20kg  여성  51~55  1,455,200  23.0    23.0        0   0.0   \n",
       "4        백미   NH신동진쌀  20kg  남성  41~45  1,197,600  17.0    19.0        0   0.0   \n",
       "\n",
       "   환불수량      실결제금액  실결제수량  \n",
       "0   1.0  2596400.0   41.0  \n",
       "1   2.0  2461600.0   39.0  \n",
       "2   4.0  2086200.0   33.0  \n",
       "3   0.0  1455200.0   23.0  \n",
       "4   0.0  1197600.0   19.0  "
      ],
      "text/html": [
       "<div>\n",
       "<style scoped>\n",
       "    .dataframe tbody tr th:only-of-type {\n",
       "        vertical-align: middle;\n",
       "    }\n",
       "\n",
       "    .dataframe tbody tr th {\n",
       "        vertical-align: top;\n",
       "    }\n",
       "\n",
       "    .dataframe thead th {\n",
       "        text-align: right;\n",
       "    }\n",
       "</style>\n",
       "<table border=\"1\" class=\"dataframe\">\n",
       "  <thead>\n",
       "    <tr style=\"text-align: right;\">\n",
       "      <th></th>\n",
       "      <th>상품카테고리(세)</th>\n",
       "      <th>상품명</th>\n",
       "      <th>무게</th>\n",
       "      <th>성별</th>\n",
       "      <th>나이</th>\n",
       "      <th>결제금액</th>\n",
       "      <th>결제수</th>\n",
       "      <th>결제상품수량</th>\n",
       "      <th>환불금액</th>\n",
       "      <th>환불건수</th>\n",
       "      <th>환불수량</th>\n",
       "      <th>실결제금액</th>\n",
       "      <th>실결제수량</th>\n",
       "    </tr>\n",
       "  </thead>\n",
       "  <tbody>\n",
       "    <tr>\n",
       "      <th>0</th>\n",
       "      <td>백미</td>\n",
       "      <td>NH신동진쌀</td>\n",
       "      <td>20kg</td>\n",
       "      <td>여성</td>\n",
       "      <td>46~50</td>\n",
       "      <td>2,659,800</td>\n",
       "      <td>37.0</td>\n",
       "      <td>42.0</td>\n",
       "      <td>63,400</td>\n",
       "      <td>1.0</td>\n",
       "      <td>1.0</td>\n",
       "      <td>2596400.0</td>\n",
       "      <td>41.0</td>\n",
       "    </tr>\n",
       "    <tr>\n",
       "      <th>1</th>\n",
       "      <td>백미</td>\n",
       "      <td>NH신동진쌀</td>\n",
       "      <td>20kg</td>\n",
       "      <td>여성</td>\n",
       "      <td>41~45</td>\n",
       "      <td>2,587,400</td>\n",
       "      <td>39.0</td>\n",
       "      <td>41.0</td>\n",
       "      <td>125,800</td>\n",
       "      <td>2.0</td>\n",
       "      <td>2.0</td>\n",
       "      <td>2461600.0</td>\n",
       "      <td>39.0</td>\n",
       "    </tr>\n",
       "    <tr>\n",
       "      <th>2</th>\n",
       "      <td>백미</td>\n",
       "      <td>NH신동진쌀</td>\n",
       "      <td>20kg</td>\n",
       "      <td>여성</td>\n",
       "      <td>36~40</td>\n",
       "      <td>2,338,800</td>\n",
       "      <td>34.0</td>\n",
       "      <td>37.0</td>\n",
       "      <td>252,600</td>\n",
       "      <td>4.0</td>\n",
       "      <td>4.0</td>\n",
       "      <td>2086200.0</td>\n",
       "      <td>33.0</td>\n",
       "    </tr>\n",
       "    <tr>\n",
       "      <th>3</th>\n",
       "      <td>백미</td>\n",
       "      <td>NH신동진쌀</td>\n",
       "      <td>20kg</td>\n",
       "      <td>여성</td>\n",
       "      <td>51~55</td>\n",
       "      <td>1,455,200</td>\n",
       "      <td>23.0</td>\n",
       "      <td>23.0</td>\n",
       "      <td>0</td>\n",
       "      <td>0.0</td>\n",
       "      <td>0.0</td>\n",
       "      <td>1455200.0</td>\n",
       "      <td>23.0</td>\n",
       "    </tr>\n",
       "    <tr>\n",
       "      <th>4</th>\n",
       "      <td>백미</td>\n",
       "      <td>NH신동진쌀</td>\n",
       "      <td>20kg</td>\n",
       "      <td>남성</td>\n",
       "      <td>41~45</td>\n",
       "      <td>1,197,600</td>\n",
       "      <td>17.0</td>\n",
       "      <td>19.0</td>\n",
       "      <td>0</td>\n",
       "      <td>0.0</td>\n",
       "      <td>0.0</td>\n",
       "      <td>1197600.0</td>\n",
       "      <td>19.0</td>\n",
       "    </tr>\n",
       "  </tbody>\n",
       "</table>\n",
       "</div>"
      ]
     },
     "metadata": {},
     "execution_count": 30
    }
   ],
   "metadata": {}
  },
  {
   "cell_type": "code",
   "execution_count": 31,
   "source": [
    "# 상품명 수량 파악\r\n",
    "grouped_name_c = online_data_1['상품명'].value_counts()\r\n",
    "grouped_name_c.head(20)"
   ],
   "outputs": [
    {
     "output_type": "execute_result",
     "data": {
      "text/plain": [
       " 탑마루쌀(신동진)           70\n",
       " 한수위 파주쌀             40\n",
       " 의성진쌀                34\n",
       " 임금님표 이천쌀 (추청)       32\n",
       " 의성진쌀 (일품)           31\n",
       " 만세보령쌀               31\n",
       " 김포금쌀 (추청)           31\n",
       " 대왕님표 여주쌀 (영호진미)     28\n",
       " 한수위 파주쌀 (추청)        28\n",
       " NH신동진쌀              28\n",
       " 영호진미쌀               28\n",
       " 김포금쌀 고시히카리          26\n",
       " 김포금쌀                26\n",
       " 십리향                 22\n",
       " 대왕님표 여주쌀 (진상)       21\n",
       " 생거진천쌀 (추청)          17\n",
       " 이사금 경주쌀 (삼광)        16\n",
       " 슈퍼오닝 고시히카리          16\n",
       " 옥토진미 (신동진)          16\n",
       " 옥토진미                15\n",
       "Name: 상품명, dtype: int64"
      ]
     },
     "metadata": {},
     "execution_count": 31
    }
   ],
   "metadata": {}
  },
  {
   "cell_type": "code",
   "execution_count": 34,
   "source": [
    "# 상품에 따른 결제금액\r\n",
    "grouped_name_m = online_data.groupby('상품명').sum()['실결제금액']\r\n",
    "grouped_name_m.head(60)"
   ],
   "outputs": [
    {
     "output_type": "execute_result",
     "data": {
      "text/plain": [
       "상품명\n",
       " NH신동진쌀                 17393800.0\n",
       " 가마솥 구수미                  165500.0\n",
       " 가야산 물맑은쌀                  91000.0\n",
       " 경기 안성쌀                   565200.0\n",
       " 경기 안성쌀 (추청)              738000.0\n",
       " 고령옥미 (삼광)               3323000.0\n",
       " 김포금쌀                    6592100.0\n",
       " 김포금쌀 (추청)               6963800.0\n",
       " 김포금쌀 고시히카리             24778400.0\n",
       " 대왕님표 여주쌀 (영호진미)         6837000.0\n",
       " 대왕님표 여주쌀 (진상)           1808500.0\n",
       " 만세보령쌀                   4795700.0\n",
       " 믿음지기 경주쌀                1392400.0\n",
       " 믿음지기 영암쌀                1171300.0\n",
       " 믿음지기 함평쌀                 489600.0\n",
       " 보약밥상 (고시히카리)             242000.0\n",
       " 보은황토쌀 (삼광)               791200.0\n",
       " 삼광골드미                   1174500.0\n",
       " 생거진천쌀                   6191700.0\n",
       " 생거진천쌀 (추청)              5294900.0\n",
       " 슈퍼오닝 고시히카리              5774500.0\n",
       " 십리향                     4356500.0\n",
       " 안동 양반쌀                    19400.0\n",
       " 안성놀부쌀 (추청)               173500.0\n",
       " 안성마춤쌀 고시히카리              594400.0\n",
       " 영호진미쌀                   4081500.0\n",
       " 옥토진미                    2529700.0\n",
       " 옥토진미 (신동진)              2509300.0\n",
       " 유기농 달마지쌀 (영호진미)          153000.0\n",
       " 유기농 달마지쌀 (일미)            449500.0\n",
       " 유기농 달마지쌀 골드              160200.0\n",
       " 유기농 달마지쌀 골드 (하이아미)      1322800.0\n",
       " 의성진쌀                    7027900.0\n",
       " 의성진쌀 (일품)               7378700.0\n",
       " 이사금 경주쌀                 3049000.0\n",
       " 이사금 경주쌀 (삼광)            2844000.0\n",
       " 임금님표 이천쌀                 426500.0\n",
       " 임금님표 이천쌀 (추청)           7955500.0\n",
       " 철원오대쌀                    728000.0\n",
       " 청원생명쌀                    978800.0\n",
       " 친환경 무농약쌀 (삼광)            146500.0\n",
       " 칠산바다 간척지쌀               1501000.0\n",
       " 칠산바다 간척지쌀 (새청무)         1622400.0\n",
       " 카카오 프렌즈 만세보령쌀            426800.0\n",
       " 카카오 프렌즈 만세보령쌀 (삼광)       446200.0\n",
       " 카카오 프렌즈 쌀눈듬뿍쌀            187000.0\n",
       " 카카오 프렌즈 안심무세미쌀           115500.0\n",
       " 카카오 프렌즈 왕의밥상             598500.0\n",
       " 카카오 프렌즈 청원생명쌀            429000.0\n",
       " 탑마루쌀                      58200.0\n",
       " 탑마루쌀(신동진)              21467900.0\n",
       " 하동 섬진강쌀                   61500.0\n",
       " 한수위 파주쌀                20728100.0\n",
       " 한수위 파주쌀 (추청)            8602000.0\n",
       " 햇뜰내쌀 (참드림)                73000.0\n",
       " 황토랑쌀                     507500.0\n",
       " 황토랑쌀 (일미)               1015000.0\n",
       "Name: 실결제금액, dtype: float64"
      ]
     },
     "metadata": {},
     "execution_count": 34
    }
   ],
   "metadata": {}
  },
  {
   "cell_type": "code",
   "execution_count": 35,
   "source": [
    "# 상품에 따른 결제수량\r\n",
    "grouped_name_m = online_data.groupby('상품명').sum()['실결제수량']\r\n",
    "grouped_name_m.head(60)"
   ],
   "outputs": [
    {
     "output_type": "execute_result",
     "data": {
      "text/plain": [
       "상품명\n",
       " NH신동진쌀                 287.0\n",
       " 가마솥 구수미                  4.0\n",
       " 가야산 물맑은쌀                 3.0\n",
       " 경기 안성쌀                   9.0\n",
       " 경기 안성쌀 (추청)             10.0\n",
       " 고령옥미 (삼광)              103.0\n",
       " 김포금쌀                   111.0\n",
       " 김포금쌀 (추청)              120.0\n",
       " 김포금쌀 고시히카리             597.0\n",
       " 대왕님표 여주쌀 (영호진미)        219.0\n",
       " 대왕님표 여주쌀 (진상)           49.0\n",
       " 만세보령쌀                   97.0\n",
       " 믿음지기 경주쌀                23.0\n",
       " 믿음지기 영암쌀                19.0\n",
       " 믿음지기 함평쌀                 8.0\n",
       " 보약밥상 (고시히카리)             6.0\n",
       " 보은황토쌀 (삼광)              15.0\n",
       " 삼광골드미                   28.0\n",
       " 생거진천쌀                   89.0\n",
       " 생거진천쌀 (추청)              77.0\n",
       " 슈퍼오닝 고시히카리             147.0\n",
       " 십리향                    120.0\n",
       " 안동 양반쌀                   1.0\n",
       " 안성놀부쌀 (추청)               4.0\n",
       " 안성마춤쌀 고시히카리             13.0\n",
       " 영호진미쌀                   97.0\n",
       " 옥토진미                    61.0\n",
       " 옥토진미 (신동진)              61.0\n",
       " 유기농 달마지쌀 (영호진미)          4.0\n",
       " 유기농 달마지쌀 (일미)            9.0\n",
       " 유기농 달마지쌀 골드              4.0\n",
       " 유기농 달마지쌀 골드 (하이아미)      29.0\n",
       " 의성진쌀                   156.0\n",
       " 의성진쌀 (일품)              151.0\n",
       " 이사금 경주쌀                 50.0\n",
       " 이사금 경주쌀 (삼광)            45.0\n",
       " 임금님표 이천쌀                10.0\n",
       " 임금님표 이천쌀 (추청)          292.0\n",
       " 철원오대쌀                   33.0\n",
       " 청원생명쌀                   15.0\n",
       " 친환경 무농약쌀 (삼광)            3.0\n",
       " 칠산바다 간척지쌀               25.0\n",
       " 칠산바다 간척지쌀 (새청무)         27.0\n",
       " 카카오 프렌즈 만세보령쌀           22.0\n",
       " 카카오 프렌즈 만세보령쌀 (삼광)      23.0\n",
       " 카카오 프렌즈 쌀눈듬뿍쌀           17.0\n",
       " 카카오 프렌즈 안심무세미쌀          11.0\n",
       " 카카오 프렌즈 왕의밥상            57.0\n",
       " 카카오 프렌즈 청원생명쌀           39.0\n",
       " 탑마루쌀                     3.0\n",
       " 탑마루쌀(신동진)              374.0\n",
       " 하동 섬진강쌀                  1.0\n",
       " 한수위 파주쌀                450.0\n",
       " 한수위 파주쌀 (추청)           238.0\n",
       " 햇뜰내쌀 (참드림)               2.0\n",
       " 황토랑쌀                    10.0\n",
       " 황토랑쌀 (일미)               20.0\n",
       "Name: 실결제수량, dtype: float64"
      ]
     },
     "metadata": {},
     "execution_count": 35
    }
   ],
   "metadata": {}
  },
  {
   "cell_type": "code",
   "execution_count": 36,
   "source": [
    "# 무게에 따른 결제수량\r\n",
    "grouped_name_m = online_data.groupby('무게').sum()['실결제수량']\r\n",
    "grouped_name_m.head"
   ],
   "outputs": [
    {
     "output_type": "execute_result",
     "data": {
      "text/plain": [
       "<bound method NDFrame.head of 무게\n",
       " 4kg      21.0\n",
       "10kg    2321.0\n",
       "20kg    1504.0\n",
       "2kg      124.0\n",
       "4kg      442.0\n",
       "5kg       20.0\n",
       "8kg       66.0\n",
       "Name: 실결제수량, dtype: float64>"
      ]
     },
     "metadata": {},
     "execution_count": 36
    }
   ],
   "metadata": {}
  },
  {
   "cell_type": "code",
   "execution_count": 37,
   "source": [
    "# 무게에 따른 결제수량\r\n",
    "x = np.arange(6)\r\n",
    "years = ['2kg','4kg','5kg','8kg','10kg','20kg']\r\n",
    "values = [124, 463, 20, 66, 2321, 1504]\r\n",
    "\r\n",
    "plt.bar(x, values, width=0.6, color=\"gold\",\r\n",
    "        linewidth=3, tick_label=years)\r\n",
    "\r\n",
    "plt.show()"
   ],
   "outputs": [
    {
     "output_type": "display_data",
     "data": {
      "text/plain": [
       "<Figure size 432x288 with 1 Axes>"
      ],
      "image/png": "[encoded data removed]"
     },
     "metadata": {
      "needs_background": "light"
     }
    }
   ],
   "metadata": {}
  },
  {
   "cell_type": "markdown",
   "source": [
    "# 품종"
   ],
   "metadata": {}
  },
  {
   "cell_type": "code",
   "execution_count": 48,
   "source": [
    "# load data\r\n",
    "# 2021-01-01_2021-06-30\r\n",
    "online_data_2 = pd.read_csv(\"C:/nh/품종.csv\")\r\n",
    "online_data_2.head()"
   ],
   "outputs": [
    {
     "output_type": "execute_result",
     "data": {
      "text/plain": [
       "  상품카테고리(세)      상품명   품종    무게  성별     나이     결제금액  결제수  결제상품수량 환불금액  환불건수  \\\n",
       "0        백미   NH신동진쌀  신동진  10kg  남성  36~40  274,200    5       8    0     0   \n",
       "1        백미   NH신동진쌀  신동진  10kg  여성  36~40   68,800    2       2    0     0   \n",
       "2        백미   NH신동진쌀  신동진  10kg  여성  46~50   68,800    2       2    0     0   \n",
       "3        백미   NH신동진쌀  신동진  10kg  남성  41~45   68,800    2       2    0     0   \n",
       "4        백미   NH신동진쌀  신동진  10kg  남성  61~65   68,800    2       2    0     0   \n",
       "\n",
       "   환불수량   실결제금액  실결제수량  \n",
       "0     0  274200      8  \n",
       "1     0   68800      2  \n",
       "2     0   68800      2  \n",
       "3     0   68800      2  \n",
       "4     0   68800      2  "
      ],
      "text/html": [
       "<div>\n",
       "<style scoped>\n",
       "    .dataframe tbody tr th:only-of-type {\n",
       "        vertical-align: middle;\n",
       "    }\n",
       "\n",
       "    .dataframe tbody tr th {\n",
       "        vertical-align: top;\n",
       "    }\n",
       "\n",
       "    .dataframe thead th {\n",
       "        text-align: right;\n",
       "    }\n",
       "</style>\n",
       "<table border=\"1\" class=\"dataframe\">\n",
       "  <thead>\n",
       "    <tr style=\"text-align: right;\">\n",
       "      <th></th>\n",
       "      <th>상품카테고리(세)</th>\n",
       "      <th>상품명</th>\n",
       "      <th>품종</th>\n",
       "      <th>무게</th>\n",
       "      <th>성별</th>\n",
       "      <th>나이</th>\n",
       "      <th>결제금액</th>\n",
       "      <th>결제수</th>\n",
       "      <th>결제상품수량</th>\n",
       "      <th>환불금액</th>\n",
       "      <th>환불건수</th>\n",
       "      <th>환불수량</th>\n",
       "      <th>실결제금액</th>\n",
       "      <th>실결제수량</th>\n",
       "    </tr>\n",
       "  </thead>\n",
       "  <tbody>\n",
       "    <tr>\n",
       "      <th>0</th>\n",
       "      <td>백미</td>\n",
       "      <td>NH신동진쌀</td>\n",
       "      <td>신동진</td>\n",
       "      <td>10kg</td>\n",
       "      <td>남성</td>\n",
       "      <td>36~40</td>\n",
       "      <td>274,200</td>\n",
       "      <td>5</td>\n",
       "      <td>8</td>\n",
       "      <td>0</td>\n",
       "      <td>0</td>\n",
       "      <td>0</td>\n",
       "      <td>274200</td>\n",
       "      <td>8</td>\n",
       "    </tr>\n",
       "    <tr>\n",
       "      <th>1</th>\n",
       "      <td>백미</td>\n",
       "      <td>NH신동진쌀</td>\n",
       "      <td>신동진</td>\n",
       "      <td>10kg</td>\n",
       "      <td>여성</td>\n",
       "      <td>36~40</td>\n",
       "      <td>68,800</td>\n",
       "      <td>2</td>\n",
       "      <td>2</td>\n",
       "      <td>0</td>\n",
       "      <td>0</td>\n",
       "      <td>0</td>\n",
       "      <td>68800</td>\n",
       "      <td>2</td>\n",
       "    </tr>\n",
       "    <tr>\n",
       "      <th>2</th>\n",
       "      <td>백미</td>\n",
       "      <td>NH신동진쌀</td>\n",
       "      <td>신동진</td>\n",
       "      <td>10kg</td>\n",
       "      <td>여성</td>\n",
       "      <td>46~50</td>\n",
       "      <td>68,800</td>\n",
       "      <td>2</td>\n",
       "      <td>2</td>\n",
       "      <td>0</td>\n",
       "      <td>0</td>\n",
       "      <td>0</td>\n",
       "      <td>68800</td>\n",
       "      <td>2</td>\n",
       "    </tr>\n",
       "    <tr>\n",
       "      <th>3</th>\n",
       "      <td>백미</td>\n",
       "      <td>NH신동진쌀</td>\n",
       "      <td>신동진</td>\n",
       "      <td>10kg</td>\n",
       "      <td>남성</td>\n",
       "      <td>41~45</td>\n",
       "      <td>68,800</td>\n",
       "      <td>2</td>\n",
       "      <td>2</td>\n",
       "      <td>0</td>\n",
       "      <td>0</td>\n",
       "      <td>0</td>\n",
       "      <td>68800</td>\n",
       "      <td>2</td>\n",
       "    </tr>\n",
       "    <tr>\n",
       "      <th>4</th>\n",
       "      <td>백미</td>\n",
       "      <td>NH신동진쌀</td>\n",
       "      <td>신동진</td>\n",
       "      <td>10kg</td>\n",
       "      <td>남성</td>\n",
       "      <td>61~65</td>\n",
       "      <td>68,800</td>\n",
       "      <td>2</td>\n",
       "      <td>2</td>\n",
       "      <td>0</td>\n",
       "      <td>0</td>\n",
       "      <td>0</td>\n",
       "      <td>68800</td>\n",
       "      <td>2</td>\n",
       "    </tr>\n",
       "  </tbody>\n",
       "</table>\n",
       "</div>"
      ]
     },
     "metadata": {},
     "execution_count": 48
    }
   ],
   "metadata": {}
  },
  {
   "cell_type": "code",
   "execution_count": 50,
   "source": [
    "# 상품에 따른 결제수량\r\n",
    "grouped_name_m = online_data_2.groupby('품종').sum()['실결제수량']\r\n",
    "grouped_name_m.head(60)"
   ],
   "outputs": [
    {
     "output_type": "execute_result",
     "data": {
      "text/plain": [
       "품종\n",
       "고시히카리     763\n",
       "삼광        289\n",
       "새청무        52\n",
       "신동진       786\n",
       "십리향       120\n",
       "영호진미      321\n",
       "오대         33\n",
       "일미         39\n",
       "일품        307\n",
       "진상         49\n",
       "참드림         2\n",
       "추청       1481\n",
       "하이아미       33\n",
       "혼합        223\n",
       "Name: 실결제수량, dtype: int64"
      ]
     },
     "metadata": {},
     "execution_count": 50
    }
   ],
   "metadata": {}
  },
  {
   "cell_type": "code",
   "execution_count": 53,
   "source": [
    "# 품종에 따른 결제수량\r\n",
    "x = np.arange(14)\r\n",
    "years = ['고시히카리','삼광','새청무','신동진','십리향','영호진미','오대','일미','일품','진상','참드림','추청','하이아미', '혼합']\r\n",
    "values = [763, 289, 52, 786, 120, 321, 33, 39, 307, 49, 2, 1481, 33, 223]\r\n",
    "\r\n",
    "plt.bar(x, values, width=0.6, color=\"gold\",\r\n",
    "        linewidth=3, tick_label=years)\r\n",
    "\r\n",
    "plt.show()"
   ],
   "outputs": [
    {
     "output_type": "display_data",
     "data": {
      "text/plain": [
       "<Figure size 432x288 with 1 Axes>"
      ],
      "image/png": "[encoded data removed]"
     },
     "metadata": {
      "needs_background": "light"
     }
    }
   ],
   "metadata": {}
  },
  {
   "cell_type": "code",
   "execution_count": 45,
   "source": [
    "# 상품에 따른 결제수량\r\n",
    "grouped_name_m = online_data.groupby('품종').sum()['실결제금액']\r\n",
    "grouped_name_m.head(60)"
   ],
   "outputs": [
    {
     "output_type": "execute_result",
     "data": {
      "text/plain": [
       "품종\n",
       "고시히카리    31389300\n",
       "삼광       12201200\n",
       "새청무       3123400\n",
       "신동진      43958900\n",
       "십리향       4356500\n",
       "영호진미     11090900\n",
       "오대         728000\n",
       "일미        1972000\n",
       "일품       14406600\n",
       "진상        1808500\n",
       "참드림         73000\n",
       "추정       16568900\n",
       "추청       49257200\n",
       "하이아미      1483000\n",
       "혼합        8881000\n",
       "Name: 실결제금액, dtype: int64"
      ]
     },
     "metadata": {},
     "execution_count": 45
    }
   ],
   "metadata": {}
  },
  {
   "cell_type": "code",
   "execution_count": null,
   "source": [],
   "outputs": [],
   "metadata": {}
  }
 ],
 "metadata": {
  "orig_nbformat": 4,
  "language_info": {
   "name": "python",
   "version": "3.8.5",
   "mimetype": "text/x-python",
   "codemirror_mode": {
    "name": "ipython",
    "version": 3
   },
   "pygments_lexer": "ipython3",
   "nbconvert_exporter": "python",
   "file_extension": ".py"
  },
  "kernelspec": {
   "name": "python3",
   "display_name": "Python 3.8.5 64-bit ('base': conda)"
  },
  "interpreter": {
   "hash": "8c1eae21719a0790335dcb83aad72b63b602cfe5cdb2bda0f60bc11d4f154e4b"
  }
 },
 "nbformat": 4,
 "nbformat_minor": 2
}