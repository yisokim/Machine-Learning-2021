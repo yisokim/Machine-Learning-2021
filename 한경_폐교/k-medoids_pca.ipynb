{
 "cells": [
  {
   "cell_type": "markdown",
   "metadata": {},
   "source": [
    "# 입지분석이란?\n",
    "## 입지에 영향을 미치는 범위 내의 입지 구성요소를 정성적, 정량적 방법으로 측정함으로써 환경을 이해하고 최적의 목표가 달성될 수 있도록 위치적 조건을 분석하는 과정"
   ]
  },
  {
   "cell_type": "code",
   "execution_count": 7,
   "metadata": {},
   "outputs": [
    {
     "data": {
      "text/html": [
       "<div>\n",
       "<style scoped>\n",
       "    .dataframe tbody tr th:only-of-type {\n",
       "        vertical-align: middle;\n",
       "    }\n",
       "\n",
       "    .dataframe tbody tr th {\n",
       "        vertical-align: top;\n",
       "    }\n",
       "\n",
       "    .dataframe thead th {\n",
       "        text-align: right;\n",
       "    }\n",
       "</style>\n",
       "<table border=\"1\" class=\"dataframe\">\n",
       "  <thead>\n",
       "    <tr style=\"text-align: right;\">\n",
       "      <th></th>\n",
       "      <th>소계</th>\n",
       "      <th>year</th>\n",
       "      <th>silver_hall</th>\n",
       "      <th>welfare_facil_w</th>\n",
       "      <th>popu65</th>\n",
       "      <th>jobforpay</th>\n",
       "      <th>ratio_old</th>\n",
       "      <th>stress</th>\n",
       "      <th>melancholy</th>\n",
       "      <th>poor_60</th>\n",
       "      <th>infra</th>\n",
       "    </tr>\n",
       "  </thead>\n",
       "  <tbody>\n",
       "    <tr>\n",
       "      <th>0</th>\n",
       "      <td>진주시</td>\n",
       "      <td>2022</td>\n",
       "      <td>18</td>\n",
       "      <td>0.874751</td>\n",
       "      <td>61702</td>\n",
       "      <td>23823</td>\n",
       "      <td>18.2</td>\n",
       "      <td>19.6</td>\n",
       "      <td>5.6</td>\n",
       "      <td>30851.0</td>\n",
       "      <td>573</td>\n",
       "    </tr>\n",
       "    <tr>\n",
       "      <th>1</th>\n",
       "      <td>통영시</td>\n",
       "      <td>2022</td>\n",
       "      <td>4</td>\n",
       "      <td>0.980119</td>\n",
       "      <td>26,421</td>\n",
       "      <td>10201</td>\n",
       "      <td>21.6</td>\n",
       "      <td>19.7</td>\n",
       "      <td>12.0</td>\n",
       "      <td>13210.5</td>\n",
       "      <td>194</td>\n",
       "    </tr>\n",
       "    <tr>\n",
       "      <th>2</th>\n",
       "      <td>사천시</td>\n",
       "      <td>2022</td>\n",
       "      <td>7</td>\n",
       "      <td>0.974155</td>\n",
       "      <td>25,497</td>\n",
       "      <td>9844</td>\n",
       "      <td>23.7</td>\n",
       "      <td>4.4</td>\n",
       "      <td>7.1</td>\n",
       "      <td>12748.5</td>\n",
       "      <td>162</td>\n",
       "    </tr>\n",
       "    <tr>\n",
       "      <th>3</th>\n",
       "      <td>김해시</td>\n",
       "      <td>2022</td>\n",
       "      <td>3</td>\n",
       "      <td>0.787276</td>\n",
       "      <td>65,467</td>\n",
       "      <td>25277</td>\n",
       "      <td>12.4</td>\n",
       "      <td>22.8</td>\n",
       "      <td>14.3</td>\n",
       "      <td>32733.5</td>\n",
       "      <td>592</td>\n",
       "    </tr>\n",
       "    <tr>\n",
       "      <th>4</th>\n",
       "      <td>밀양시</td>\n",
       "      <td>2022</td>\n",
       "      <td>2</td>\n",
       "      <td>0.970179</td>\n",
       "      <td>30980</td>\n",
       "      <td>11961</td>\n",
       "      <td>30.7</td>\n",
       "      <td>14.3</td>\n",
       "      <td>11.6</td>\n",
       "      <td>15490.0</td>\n",
       "      <td>139</td>\n",
       "    </tr>\n",
       "  </tbody>\n",
       "</table>\n",
       "</div>"
      ],
      "text/plain": [
       "    소계  year  silver_hall  welfare_facil_w  popu65  jobforpay  ratio_old  \\\n",
       "0  진주시  2022           18         0.874751   61702      23823       18.2   \n",
       "1  통영시  2022            4         0.980119  26,421      10201       21.6   \n",
       "2  사천시  2022            7         0.974155  25,497       9844       23.7   \n",
       "3  김해시  2022            3         0.787276  65,467      25277       12.4   \n",
       "4  밀양시  2022            2         0.970179   30980      11961       30.7   \n",
       "\n",
       "   stress  melancholy  poor_60  infra  \n",
       "0    19.6         5.6  30851.0    573  \n",
       "1    19.7        12.0  13210.5    194  \n",
       "2     4.4         7.1  12748.5    162  \n",
       "3    22.8        14.3  32733.5    592  \n",
       "4    14.3        11.6  15490.0    139  "
      ]
     },
     "execution_count": 7,
     "metadata": {},
     "output_type": "execute_result"
    }
   ],
   "source": [
    "# library\n",
    "from sklearn import datasets\n",
    "import matplotlib.pyplot as plt\n",
    "import pandas as pd\n",
    "import numpy as np\n",
    "from sklearn.datasets import make_blobs\n",
    "from sklearn_extra.cluster import KMedoids\n",
    "from sklearn.metrics import pairwise_distances,silhouette_score,adjusted_rand_score,normalized_mutual_info_score\n",
    "from sklearn import preprocessing\n",
    "\n",
    "# data\n",
    "data = pd.read_csv(\"C:/폐교/2022.csv\")\n",
    "data.head()"
   ]
  },
  {
   "cell_type": "code",
   "execution_count": 8,
   "metadata": {},
   "outputs": [
    {
     "name": "stdout",
     "output_type": "stream",
     "text": [
      "<class 'pandas.core.frame.DataFrame'>\n",
      "RangeIndex: 18 entries, 0 to 17\n",
      "Data columns (total 11 columns):\n",
      " #   Column           Non-Null Count  Dtype  \n",
      "---  ------           --------------  -----  \n",
      " 0   소계               18 non-null     object \n",
      " 1   year             18 non-null     int64  \n",
      " 2   silver_hall      18 non-null     int64  \n",
      " 3   welfare_facil_w  18 non-null     float64\n",
      " 4   popu65           18 non-null     object \n",
      " 5   jobforpay        18 non-null     int64  \n",
      " 6   ratio_old        18 non-null     float64\n",
      " 7   stress           18 non-null     float64\n",
      " 8   melancholy       18 non-null     float64\n",
      " 9   poor_60          18 non-null     float64\n",
      " 10  infra            18 non-null     int64  \n",
      "dtypes: float64(5), int64(4), object(2)\n",
      "memory usage: 1.7+ KB\n"
     ]
    }
   ],
   "source": [
    "data.info()"
   ]
  },
  {
   "cell_type": "code",
   "execution_count": 9,
   "metadata": {},
   "outputs": [
    {
     "data": {
      "text/html": [
       "<div>\n",
       "<style scoped>\n",
       "    .dataframe tbody tr th:only-of-type {\n",
       "        vertical-align: middle;\n",
       "    }\n",
       "\n",
       "    .dataframe tbody tr th {\n",
       "        vertical-align: top;\n",
       "    }\n",
       "\n",
       "    .dataframe thead th {\n",
       "        text-align: right;\n",
       "    }\n",
       "</style>\n",
       "<table border=\"1\" class=\"dataframe\">\n",
       "  <thead>\n",
       "    <tr style=\"text-align: right;\">\n",
       "      <th></th>\n",
       "      <th>silver_hall</th>\n",
       "      <th>welfare_facil_w</th>\n",
       "      <th>jobforpay</th>\n",
       "      <th>ratio_old</th>\n",
       "      <th>stress</th>\n",
       "      <th>melancholy</th>\n",
       "      <th>poor_60</th>\n",
       "      <th>infra</th>\n",
       "    </tr>\n",
       "  </thead>\n",
       "  <tbody>\n",
       "    <tr>\n",
       "      <th>0</th>\n",
       "      <td>18</td>\n",
       "      <td>0.874751</td>\n",
       "      <td>23823</td>\n",
       "      <td>18.2</td>\n",
       "      <td>19.6</td>\n",
       "      <td>5.6</td>\n",
       "      <td>30851.0</td>\n",
       "      <td>573</td>\n",
       "    </tr>\n",
       "    <tr>\n",
       "      <th>1</th>\n",
       "      <td>4</td>\n",
       "      <td>0.980119</td>\n",
       "      <td>10201</td>\n",
       "      <td>21.6</td>\n",
       "      <td>19.7</td>\n",
       "      <td>12.0</td>\n",
       "      <td>13210.5</td>\n",
       "      <td>194</td>\n",
       "    </tr>\n",
       "    <tr>\n",
       "      <th>2</th>\n",
       "      <td>7</td>\n",
       "      <td>0.974155</td>\n",
       "      <td>9844</td>\n",
       "      <td>23.7</td>\n",
       "      <td>4.4</td>\n",
       "      <td>7.1</td>\n",
       "      <td>12748.5</td>\n",
       "      <td>162</td>\n",
       "    </tr>\n",
       "    <tr>\n",
       "      <th>3</th>\n",
       "      <td>3</td>\n",
       "      <td>0.787276</td>\n",
       "      <td>25277</td>\n",
       "      <td>12.4</td>\n",
       "      <td>22.8</td>\n",
       "      <td>14.3</td>\n",
       "      <td>32733.5</td>\n",
       "      <td>592</td>\n",
       "    </tr>\n",
       "    <tr>\n",
       "      <th>4</th>\n",
       "      <td>2</td>\n",
       "      <td>0.970179</td>\n",
       "      <td>11961</td>\n",
       "      <td>30.7</td>\n",
       "      <td>14.3</td>\n",
       "      <td>11.6</td>\n",
       "      <td>15490.0</td>\n",
       "      <td>139</td>\n",
       "    </tr>\n",
       "    <tr>\n",
       "      <th>5</th>\n",
       "      <td>7</td>\n",
       "      <td>0.988072</td>\n",
       "      <td>11180</td>\n",
       "      <td>12.1</td>\n",
       "      <td>7.0</td>\n",
       "      <td>9.0</td>\n",
       "      <td>14477.5</td>\n",
       "      <td>247</td>\n",
       "    </tr>\n",
       "    <tr>\n",
       "      <th>6</th>\n",
       "      <td>8</td>\n",
       "      <td>0.880716</td>\n",
       "      <td>20070</td>\n",
       "      <td>15.0</td>\n",
       "      <td>5.0</td>\n",
       "      <td>8.8</td>\n",
       "      <td>25990.0</td>\n",
       "      <td>508</td>\n",
       "    </tr>\n",
       "    <tr>\n",
       "      <th>7</th>\n",
       "      <td>39</td>\n",
       "      <td>0.705765</td>\n",
       "      <td>61995</td>\n",
       "      <td>16.3</td>\n",
       "      <td>18.8</td>\n",
       "      <td>5.7</td>\n",
       "      <td>80283.0</td>\n",
       "      <td>1429</td>\n",
       "    </tr>\n",
       "    <tr>\n",
       "      <th>8</th>\n",
       "      <td>0</td>\n",
       "      <td>1.000000</td>\n",
       "      <td>3893</td>\n",
       "      <td>38.2</td>\n",
       "      <td>14.9</td>\n",
       "      <td>8.9</td>\n",
       "      <td>5041.5</td>\n",
       "      <td>49</td>\n",
       "    </tr>\n",
       "    <tr>\n",
       "      <th>9</th>\n",
       "      <td>1</td>\n",
       "      <td>1.000000</td>\n",
       "      <td>6468</td>\n",
       "      <td>27.2</td>\n",
       "      <td>15.2</td>\n",
       "      <td>2.2</td>\n",
       "      <td>8375.5</td>\n",
       "      <td>73</td>\n",
       "    </tr>\n",
       "    <tr>\n",
       "      <th>10</th>\n",
       "      <td>2</td>\n",
       "      <td>0.980119</td>\n",
       "      <td>7563</td>\n",
       "      <td>33.1</td>\n",
       "      <td>1.3</td>\n",
       "      <td>1.0</td>\n",
       "      <td>9794.5</td>\n",
       "      <td>108</td>\n",
       "    </tr>\n",
       "    <tr>\n",
       "      <th>11</th>\n",
       "      <td>4</td>\n",
       "      <td>0.992048</td>\n",
       "      <td>6376</td>\n",
       "      <td>33.6</td>\n",
       "      <td>10.3</td>\n",
       "      <td>3.7</td>\n",
       "      <td>8257.5</td>\n",
       "      <td>71</td>\n",
       "    </tr>\n",
       "    <tr>\n",
       "      <th>12</th>\n",
       "      <td>15</td>\n",
       "      <td>0.994036</td>\n",
       "      <td>6362</td>\n",
       "      <td>38.9</td>\n",
       "      <td>9.4</td>\n",
       "      <td>2.0</td>\n",
       "      <td>8239.0</td>\n",
       "      <td>73</td>\n",
       "    </tr>\n",
       "    <tr>\n",
       "      <th>13</th>\n",
       "      <td>4</td>\n",
       "      <td>0.952286</td>\n",
       "      <td>6114</td>\n",
       "      <td>36.9</td>\n",
       "      <td>10.2</td>\n",
       "      <td>1.7</td>\n",
       "      <td>7917.0</td>\n",
       "      <td>80</td>\n",
       "    </tr>\n",
       "    <tr>\n",
       "      <th>14</th>\n",
       "      <td>3</td>\n",
       "      <td>1.000000</td>\n",
       "      <td>5092</td>\n",
       "      <td>38.8</td>\n",
       "      <td>5.4</td>\n",
       "      <td>5.1</td>\n",
       "      <td>6594.5</td>\n",
       "      <td>81</td>\n",
       "    </tr>\n",
       "    <tr>\n",
       "      <th>15</th>\n",
       "      <td>5</td>\n",
       "      <td>0.986083</td>\n",
       "      <td>5236</td>\n",
       "      <td>35.0</td>\n",
       "      <td>22.1</td>\n",
       "      <td>5.9</td>\n",
       "      <td>6780.5</td>\n",
       "      <td>70</td>\n",
       "    </tr>\n",
       "    <tr>\n",
       "      <th>16</th>\n",
       "      <td>2</td>\n",
       "      <td>0.950298</td>\n",
       "      <td>6756</td>\n",
       "      <td>29.0</td>\n",
       "      <td>12.0</td>\n",
       "      <td>2.6</td>\n",
       "      <td>8749.0</td>\n",
       "      <td>99</td>\n",
       "    </tr>\n",
       "    <tr>\n",
       "      <th>17</th>\n",
       "      <td>1</td>\n",
       "      <td>0.984095</td>\n",
       "      <td>6781</td>\n",
       "      <td>41.5</td>\n",
       "      <td>12.4</td>\n",
       "      <td>1.0</td>\n",
       "      <td>8781.0</td>\n",
       "      <td>76</td>\n",
       "    </tr>\n",
       "  </tbody>\n",
       "</table>\n",
       "</div>"
      ],
      "text/plain": [
       "    silver_hall  welfare_facil_w  jobforpay  ratio_old  stress  melancholy  \\\n",
       "0            18         0.874751      23823       18.2    19.6         5.6   \n",
       "1             4         0.980119      10201       21.6    19.7        12.0   \n",
       "2             7         0.974155       9844       23.7     4.4         7.1   \n",
       "3             3         0.787276      25277       12.4    22.8        14.3   \n",
       "4             2         0.970179      11961       30.7    14.3        11.6   \n",
       "5             7         0.988072      11180       12.1     7.0         9.0   \n",
       "6             8         0.880716      20070       15.0     5.0         8.8   \n",
       "7            39         0.705765      61995       16.3    18.8         5.7   \n",
       "8             0         1.000000       3893       38.2    14.9         8.9   \n",
       "9             1         1.000000       6468       27.2    15.2         2.2   \n",
       "10            2         0.980119       7563       33.1     1.3         1.0   \n",
       "11            4         0.992048       6376       33.6    10.3         3.7   \n",
       "12           15         0.994036       6362       38.9     9.4         2.0   \n",
       "13            4         0.952286       6114       36.9    10.2         1.7   \n",
       "14            3         1.000000       5092       38.8     5.4         5.1   \n",
       "15            5         0.986083       5236       35.0    22.1         5.9   \n",
       "16            2         0.950298       6756       29.0    12.0         2.6   \n",
       "17            1         0.984095       6781       41.5    12.4         1.0   \n",
       "\n",
       "    poor_60  infra  \n",
       "0   30851.0    573  \n",
       "1   13210.5    194  \n",
       "2   12748.5    162  \n",
       "3   32733.5    592  \n",
       "4   15490.0    139  \n",
       "5   14477.5    247  \n",
       "6   25990.0    508  \n",
       "7   80283.0   1429  \n",
       "8    5041.5     49  \n",
       "9    8375.5     73  \n",
       "10   9794.5    108  \n",
       "11   8257.5     71  \n",
       "12   8239.0     73  \n",
       "13   7917.0     80  \n",
       "14   6594.5     81  \n",
       "15   6780.5     70  \n",
       "16   8749.0     99  \n",
       "17   8781.0     76  "
      ]
     },
     "execution_count": 9,
     "metadata": {},
     "output_type": "execute_result"
    }
   ],
   "source": [
    "# 원본 보관 \n",
    "data_raw = data\n",
    "\n",
    "# 불필요한 칼럼 삭제\n",
    "del data['소계']\n",
    "del data['year']\n",
    "del data['popu65']\n",
    "\n",
    "data"
   ]
  },
  {
   "cell_type": "code",
   "execution_count": 10,
   "metadata": {},
   "outputs": [
    {
     "data": {
      "text/plain": [
       "Index(['silver_hall', 'welfare_facil_w', 'jobforpay', 'ratio_old', 'stress',\n",
       "       'melancholy', 'poor_60', 'infra'],\n",
       "      dtype='object')"
      ]
     },
     "execution_count": 10,
     "metadata": {},
     "output_type": "execute_result"
    }
   ],
   "source": [
    "data.columns"
   ]
  },
  {
   "cell_type": "markdown",
   "metadata": {},
   "source": [
    "# 표준화"
   ]
  },
  {
   "cell_type": "code",
   "execution_count": 11,
   "metadata": {},
   "outputs": [
    {
     "data": {
      "text/html": [
       "<div>\n",
       "<style scoped>\n",
       "    .dataframe tbody tr th:only-of-type {\n",
       "        vertical-align: middle;\n",
       "    }\n",
       "\n",
       "    .dataframe tbody tr th {\n",
       "        vertical-align: top;\n",
       "    }\n",
       "\n",
       "    .dataframe thead th {\n",
       "        text-align: right;\n",
       "    }\n",
       "</style>\n",
       "<table border=\"1\" class=\"dataframe\">\n",
       "  <thead>\n",
       "    <tr style=\"text-align: right;\">\n",
       "      <th></th>\n",
       "      <th>silver_hall</th>\n",
       "      <th>welfare_facil_w</th>\n",
       "      <th>jobforpay</th>\n",
       "      <th>ratio_old</th>\n",
       "      <th>stress</th>\n",
       "      <th>melancholy</th>\n",
       "      <th>poor_60</th>\n",
       "      <th>infra</th>\n",
       "    </tr>\n",
       "  </thead>\n",
       "  <tbody>\n",
       "    <tr>\n",
       "      <th>0</th>\n",
       "      <td>1.223810</td>\n",
       "      <td>-0.875858</td>\n",
       "      <td>0.803647</td>\n",
       "      <td>-1.005957</td>\n",
       "      <td>1.136717</td>\n",
       "      <td>-0.104318</td>\n",
       "      <td>0.803667</td>\n",
       "      <td>0.948700</td>\n",
       "    </tr>\n",
       "    <tr>\n",
       "      <th>1</th>\n",
       "      <td>-0.325939</td>\n",
       "      <td>0.448339</td>\n",
       "      <td>-0.213013</td>\n",
       "      <td>-0.653354</td>\n",
       "      <td>1.152702</td>\n",
       "      <td>1.519661</td>\n",
       "      <td>-0.213001</td>\n",
       "      <td>-0.188740</td>\n",
       "    </tr>\n",
       "    <tr>\n",
       "      <th>2</th>\n",
       "      <td>0.006150</td>\n",
       "      <td>0.373385</td>\n",
       "      <td>-0.239657</td>\n",
       "      <td>-0.435569</td>\n",
       "      <td>-1.293016</td>\n",
       "      <td>0.276302</td>\n",
       "      <td>-0.239627</td>\n",
       "      <td>-0.284777</td>\n",
       "    </tr>\n",
       "    <tr>\n",
       "      <th>3</th>\n",
       "      <td>-0.436636</td>\n",
       "      <td>-1.975191</td>\n",
       "      <td>0.912164</td>\n",
       "      <td>-1.607458</td>\n",
       "      <td>1.648240</td>\n",
       "      <td>2.103278</td>\n",
       "      <td>0.912161</td>\n",
       "      <td>1.005722</td>\n",
       "    </tr>\n",
       "    <tr>\n",
       "      <th>4</th>\n",
       "      <td>-0.547332</td>\n",
       "      <td>0.323415</td>\n",
       "      <td>-0.081658</td>\n",
       "      <td>0.290379</td>\n",
       "      <td>0.289508</td>\n",
       "      <td>1.418162</td>\n",
       "      <td>-0.081627</td>\n",
       "      <td>-0.353803</td>\n",
       "    </tr>\n",
       "  </tbody>\n",
       "</table>\n",
       "</div>"
      ],
      "text/plain": [
       "   silver_hall  welfare_facil_w  jobforpay  ratio_old    stress  melancholy  \\\n",
       "0     1.223810        -0.875858   0.803647  -1.005957  1.136717   -0.104318   \n",
       "1    -0.325939         0.448339  -0.213013  -0.653354  1.152702    1.519661   \n",
       "2     0.006150         0.373385  -0.239657  -0.435569 -1.293016    0.276302   \n",
       "3    -0.436636        -1.975191   0.912164  -1.607458  1.648240    2.103278   \n",
       "4    -0.547332         0.323415  -0.081658   0.290379  0.289508    1.418162   \n",
       "\n",
       "    poor_60     infra  \n",
       "0  0.803667  0.948700  \n",
       "1 -0.213001 -0.188740  \n",
       "2 -0.239627 -0.284777  \n",
       "3  0.912161  1.005722  \n",
       "4 -0.081627 -0.353803  "
      ]
     },
     "execution_count": 11,
     "metadata": {},
     "output_type": "execute_result"
    }
   ],
   "source": [
    "from sklearn.preprocessing import StandardScaler\n",
    "\n",
    "x = data\n",
    "\n",
    "x = StandardScaler().fit_transform(x) # x객체에 x를 표준화한 데이터를 저장\n",
    "\n",
    "features = ['silver_hall', 'welfare_facil_w', 'jobforpay', 'ratio_old', 'stress',\n",
    "       'melancholy', 'poor_60', 'infra']\n",
    "\n",
    "pd.DataFrame(x, columns=features).head()"
   ]
  },
  {
   "cell_type": "markdown",
   "metadata": {},
   "source": [
    "# pca 실행"
   ]
  },
  {
   "cell_type": "code",
   "execution_count": 12,
   "metadata": {},
   "outputs": [],
   "source": [
    "from sklearn.decomposition import PCA\n",
    "pca = PCA(n_components=2)\n",
    "printcipalComponents = pca.fit_transform(x)\n",
    "principalDf = pd.DataFrame(data=printcipalComponents, columns = ['pc1', 'pc2'])"
   ]
  },
  {
   "cell_type": "code",
   "execution_count": 13,
   "metadata": {},
   "outputs": [
    {
     "data": {
      "text/html": [
       "<div>\n",
       "<style scoped>\n",
       "    .dataframe tbody tr th:only-of-type {\n",
       "        vertical-align: middle;\n",
       "    }\n",
       "\n",
       "    .dataframe tbody tr th {\n",
       "        vertical-align: top;\n",
       "    }\n",
       "\n",
       "    .dataframe thead th {\n",
       "        text-align: right;\n",
       "    }\n",
       "</style>\n",
       "<table border=\"1\" class=\"dataframe\">\n",
       "  <thead>\n",
       "    <tr style=\"text-align: right;\">\n",
       "      <th></th>\n",
       "      <th>pc1</th>\n",
       "      <th>pc2</th>\n",
       "    </tr>\n",
       "  </thead>\n",
       "  <tbody>\n",
       "    <tr>\n",
       "      <th>0</th>\n",
       "      <td>2.401146</td>\n",
       "      <td>-0.062308</td>\n",
       "    </tr>\n",
       "    <tr>\n",
       "      <th>1</th>\n",
       "      <td>0.098431</td>\n",
       "      <td>2.004162</td>\n",
       "    </tr>\n",
       "    <tr>\n",
       "      <th>2</th>\n",
       "      <td>-0.545406</td>\n",
       "      <td>-0.054942</td>\n",
       "    </tr>\n",
       "    <tr>\n",
       "      <th>3</th>\n",
       "      <td>3.004364</td>\n",
       "      <td>2.529686</td>\n",
       "    </tr>\n",
       "    <tr>\n",
       "      <th>4</th>\n",
       "      <td>-0.361147</td>\n",
       "      <td>1.324376</td>\n",
       "    </tr>\n",
       "  </tbody>\n",
       "</table>\n",
       "</div>"
      ],
      "text/plain": [
       "        pc1       pc2\n",
       "0  2.401146 -0.062308\n",
       "1  0.098431  2.004162\n",
       "2 -0.545406 -0.054942\n",
       "3  3.004364  2.529686\n",
       "4 -0.361147  1.324376"
      ]
     },
     "execution_count": 13,
     "metadata": {},
     "output_type": "execute_result"
    }
   ],
   "source": [
    "principalDf.head()"
   ]
  },
  {
   "cell_type": "code",
   "execution_count": 14,
   "metadata": {},
   "outputs": [
    {
     "data": {
      "text/plain": [
       "array([0.6664236 , 0.17202122])"
      ]
     },
     "execution_count": 14,
     "metadata": {},
     "output_type": "execute_result"
    }
   ],
   "source": [
    "pca.explained_variance_ratio_"
   ]
  },
  {
   "cell_type": "code",
   "execution_count": 15,
   "metadata": {},
   "outputs": [
    {
     "data": {
      "text/plain": [
       "0.8384448182890002"
      ]
     },
     "execution_count": 15,
     "metadata": {},
     "output_type": "execute_result"
    }
   ],
   "source": [
    "sum(pca.explained_variance_ratio_)"
   ]
  },
  {
   "cell_type": "markdown",
   "metadata": {},
   "source": [
    "두 개의 주성분이 전체 분산의 약 83% 설명"
   ]
  },
  {
   "cell_type": "markdown",
   "metadata": {},
   "source": [
    "# 두 개의 주성분을 이용한 2022 시각화"
   ]
  },
  {
   "cell_type": "code",
   "execution_count": 16,
   "metadata": {},
   "outputs": [
    {
     "data": {
      "image/png": "[encoded data removed]",
      "text/plain": [
       "<Figure size 576x576 with 1 Axes>"
      ]
     },
     "metadata": {
      "needs_background": "light"
     },
     "output_type": "display_data"
    }
   ],
   "source": [
    "fig = plt.figure(figsize = (8, 8))\n",
    "ax = fig.add_subplot(1, 1, 1)\n",
    "ax.set_xlabel('Principal Component 1', fontsize = 15)\n",
    "ax.set_ylabel('Principal Component 2', fontsize = 15)\n",
    "ax.set_title('2 component PCA', fontsize=20)\n",
    "plt.subplots_adjust(bottom=0.1)\n",
    "plt.scatter(principalDf.iloc[:,0], principalDf.iloc[:,1])\n",
    "\n",
    "plt.show()"
   ]
  },
  {
   "cell_type": "markdown",
   "metadata": {},
   "source": [
    "# fitting k-medoids"
   ]
  },
  {
   "cell_type": "code",
   "execution_count": 17,
   "metadata": {},
   "outputs": [],
   "source": [
    "kMedoids = KMedoids(n_clusters = 3, random_state = 0)\n",
    "kMedoids.fit(principalDf)\n",
    "y_kmed = kMedoids.fit_predict(principalDf)"
   ]
  },
  {
   "cell_type": "code",
   "execution_count": 18,
   "metadata": {},
   "outputs": [
    {
     "data": {
      "text/plain": [
       "array([0, 0, 2, 0, 2, 0, 0, 0, 2, 2, 1, 2, 1, 1, 1, 2, 2, 1], dtype=int64)"
      ]
     },
     "execution_count": 18,
     "metadata": {},
     "output_type": "execute_result"
    }
   ],
   "source": [
    "y_kmed"
   ]
  },
  {
   "cell_type": "code",
   "execution_count": 19,
   "metadata": {},
   "outputs": [
    {
     "data": {
      "text/plain": [
       "20.77191258846838"
      ]
     },
     "execution_count": 19,
     "metadata": {},
     "output_type": "execute_result"
    }
   ],
   "source": [
    "kMedoids.inertia_"
   ]
  },
  {
   "cell_type": "markdown",
   "metadata": {},
   "source": [
    "# silhouette to evaluate cluster"
   ]
  },
  {
   "cell_type": "code",
   "execution_count": 20,
   "metadata": {},
   "outputs": [
    {
     "name": "stdout",
     "output_type": "stream",
     "text": [
      "0.24345206494512922\n"
     ]
    }
   ],
   "source": [
    "from sklearn.metrics import silhouette_samples, silhouette_score\n",
    "kMedoids = KMedoids(n_clusters = 3, random_state = 0)\n",
    "kMedoids.fit(principalDf)\n",
    "y_kmed = kMedoids.fit_predict(principalDf)\n",
    "silhouette_avg = silhouette_score(principalDf, y_kmed)\n",
    "print(silhouette_avg)"
   ]
  },
  {
   "cell_type": "code",
   "execution_count": 21,
   "metadata": {},
   "outputs": [
    {
     "name": "stdout",
     "output_type": "stream",
     "text": [
      "-0.08785445329061775\n",
      "0.6134876990889065\n",
      "0.26311791333021434\n"
     ]
    }
   ],
   "source": [
    "sample_silhouette_values = silhouette_samples(principalDf, y_kmed)\n",
    "for i in range(3):\n",
    "    ith_cluster_silhouette_values = sample_silhouette_values[y_kmed == i]\n",
    "    print(np.mean(ith_cluster_silhouette_values))"
   ]
  },
  {
   "cell_type": "markdown",
   "metadata": {},
   "source": [
    "# use silhouette width to find number of cluster"
   ]
  },
  {
   "cell_type": "code",
   "execution_count": 22,
   "metadata": {},
   "outputs": [],
   "source": [
    "sw = []\n",
    "\n",
    "for i in range(2, 11):\n",
    "    kMedoids = KMedoids(n_clusters = i, random_state = 0)\n",
    "    kMedoids.fit(principalDf)\n",
    "    y_kmed = kMedoids.fit_predict(principalDf)\n",
    "    silhouette_avg = silhouette_score(principalDf, y_kmed)\n",
    "    sw.append(silhouette_avg)"
   ]
  },
  {
   "cell_type": "code",
   "execution_count": 23,
   "metadata": {},
   "outputs": [
    {
     "data": {
      "image/png": "[encoded data removed]",
      "text/plain": [
       "<Figure size 432x288 with 1 Axes>"
      ]
     },
     "metadata": {
      "needs_background": "light"
     },
     "output_type": "display_data"
    }
   ],
   "source": [
    "plt.plot(range(2, 11), sw)\n",
    "plt.title('Silhoute Score')\n",
    "plt.xlabel('Number of clusters')\n",
    "plt.ylabel('SW')      #within cluster sum of squares\n",
    "plt.show()"
   ]
  },
  {
   "cell_type": "code",
   "execution_count": 24,
   "metadata": {},
   "outputs": [
    {
     "name": "stderr",
     "output_type": "stream",
     "text": [
      "No handles with labels found to put in legend.\n"
     ]
    },
    {
     "data": {
      "image/png": "[encoded data removed]",
      "text/plain": [
       "<Figure size 432x288 with 1 Axes>"
      ]
     },
     "metadata": {
      "needs_background": "light"
     },
     "output_type": "display_data"
    }
   ],
   "source": [
    "kmedoids = KMedoids(n_clusters=3, metric='euclidean', init='heuristic', max_iter=300, random_state=None)\n",
    "kmedoids.fit(principalDf)\n",
    "y_kmedoids = kmedoids.predict(principalDf)\n",
    "plt.scatter(principalDf.pc1, principalDf.pc2, c = y_kmedoids, cmap = 'viridis', alpha = 0.7, edgecolors = 'b')\n",
    "plt.title(\"After using Kmedoids clustering\")\n",
    "plt.legend()\n",
    "plt.show()"
   ]
  }
 ],
 "metadata": {
  "interpreter": {
   "hash": "8c1eae21719a0790335dcb83aad72b63b602cfe5cdb2bda0f60bc11d4f154e4b"
  },
  "kernelspec": {
   "display_name": "Python 3.8.5 64-bit ('base': conda)",
   "name": "python3"
  },
  "language_info": {
   "codemirror_mode": {
    "name": "ipython",
    "version": 3
   },
   "file_extension": ".py",
   "mimetype": "text/x-python",
   "name": "python",
   "nbconvert_exporter": "python",
   "pygments_lexer": "ipython3",
   "version": "3.8.5"
  },
  "orig_nbformat": 4
 },
 "nbformat": 4,
 "nbformat_minor": 2
}
