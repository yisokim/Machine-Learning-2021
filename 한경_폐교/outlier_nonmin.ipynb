{
 "cells": [
  {
   "cell_type": "code",
   "execution_count": null,
   "source": [
    "#00. 패키지 호출\r\n",
    "import pandas as pd \r\n",
    "import numpy as np \r\n",
    "import warnings \r\n",
    "import datetime\r\n",
    "import matplotlib as mpl\r\n",
    "import matplotlib.pylab as plt\r\n",
    "from sklearn.linear_model import ElasticNet # 엘라스틱넷\r\n",
    "from sklearn.model_selection import GridSearchCV, cross_val_score\r\n",
    "from sklearn.metrics import r2_score, mean_squared_error,accuracy_score\r\n",
    "\r\n",
    "#00-1. warning message ignore \r\n",
    "warnings.filterwarnings(action='ignore')\r\n",
    "\r\n",
    "#00-2. 난수씨드값 지정하기.\r\n",
    "np.random.seed(2021)\r\n",
    "\r\n",
    "#00-3. 시각화 옵션 설정하기. \r\n",
    "%matplotlib inline"
   ],
   "outputs": [],
   "metadata": {}
  },
  {
   "cell_type": "code",
   "execution_count": null,
   "source": [
    "# load data\r\n",
    "df = pd.read_csv(\"C:/폐교/다중회귀_종사자수.csv\")\r\n",
    "df.head()"
   ],
   "outputs": [
    {
     "output_type": "execute_result",
     "data": {
      "text/html": [
       "<div>\n",
       "<style scoped>\n",
       "    .dataframe tbody tr th:only-of-type {\n",
       "        vertical-align: middle;\n",
       "    }\n",
       "\n",
       "    .dataframe tbody tr th {\n",
       "        vertical-align: top;\n",
       "    }\n",
       "\n",
       "    .dataframe thead th {\n",
       "        text-align: right;\n",
       "    }\n",
       "</style>\n",
       "<table border=\"1\" class=\"dataframe\">\n",
       "  <thead>\n",
       "    <tr style=\"text-align: right;\">\n",
       "      <th></th>\n",
       "      <th>city</th>\n",
       "      <th>silver_hall</th>\n",
       "      <th>year</th>\n",
       "      <th>stress</th>\n",
       "      <th>melancholy</th>\n",
       "      <th>고령인구비율</th>\n",
       "      <th>65세이상인구</th>\n",
       "      <th>전체인구</th>\n",
       "      <th>상대적빈곤율(중위소득60%이하)</th>\n",
       "      <th>생활비에 보탬이 되기위해 취업희망 노인수</th>\n",
       "      <th>welfare_facil_w</th>\n",
       "      <th>welfare_staff</th>\n",
       "    </tr>\n",
       "  </thead>\n",
       "  <tbody>\n",
       "    <tr>\n",
       "      <th>0</th>\n",
       "      <td>창원시</td>\n",
       "      <td>953</td>\n",
       "      <td>2013</td>\n",
       "      <td>14.8</td>\n",
       "      <td>3.4</td>\n",
       "      <td>9.4</td>\n",
       "      <td>101571</td>\n",
       "      <td>1083731</td>\n",
       "      <td>51394.926</td>\n",
       "      <td>37069.149020</td>\n",
       "      <td>0.003946</td>\n",
       "      <td>59</td>\n",
       "    </tr>\n",
       "    <tr>\n",
       "      <th>1</th>\n",
       "      <td>진주시</td>\n",
       "      <td>515</td>\n",
       "      <td>2013</td>\n",
       "      <td>26.0</td>\n",
       "      <td>11.5</td>\n",
       "      <td>13.1</td>\n",
       "      <td>44016</td>\n",
       "      <td>337071</td>\n",
       "      <td>22272.096</td>\n",
       "      <td>25661.328000</td>\n",
       "      <td>0.004881</td>\n",
       "      <td>13</td>\n",
       "    </tr>\n",
       "    <tr>\n",
       "      <th>2</th>\n",
       "      <td>통영시</td>\n",
       "      <td>207</td>\n",
       "      <td>2013</td>\n",
       "      <td>21.4</td>\n",
       "      <td>6.0</td>\n",
       "      <td>13.4</td>\n",
       "      <td>18685</td>\n",
       "      <td>139719</td>\n",
       "      <td>9454.610</td>\n",
       "      <td>6819.240230</td>\n",
       "      <td>0.005452</td>\n",
       "      <td>5</td>\n",
       "    </tr>\n",
       "    <tr>\n",
       "      <th>3</th>\n",
       "      <td>사천시</td>\n",
       "      <td>330</td>\n",
       "      <td>2013</td>\n",
       "      <td>19.7</td>\n",
       "      <td>2.7</td>\n",
       "      <td>16.9</td>\n",
       "      <td>19738</td>\n",
       "      <td>116851</td>\n",
       "      <td>9987.428</td>\n",
       "      <td>7203.541004</td>\n",
       "      <td>0.005348</td>\n",
       "      <td>1</td>\n",
       "    </tr>\n",
       "    <tr>\n",
       "      <th>4</th>\n",
       "      <td>김해시</td>\n",
       "      <td>532</td>\n",
       "      <td>2013</td>\n",
       "      <td>16.4</td>\n",
       "      <td>2.8</td>\n",
       "      <td>8.0</td>\n",
       "      <td>41790</td>\n",
       "      <td>522049</td>\n",
       "      <td>21145.740</td>\n",
       "      <td>15251.594820</td>\n",
       "      <td>0.005192</td>\n",
       "      <td>35</td>\n",
       "    </tr>\n",
       "  </tbody>\n",
       "</table>\n",
       "</div>"
      ],
      "text/plain": [
       "  city  silver_hall  year  stress  melancholy  고령인구비율  65세이상인구     전체인구  \\\n",
       "0  창원시          953  2013    14.8         3.4     9.4   101571  1083731   \n",
       "1  진주시          515  2013    26.0        11.5    13.1    44016   337071   \n",
       "2  통영시          207  2013    21.4         6.0    13.4    18685   139719   \n",
       "3  사천시          330  2013    19.7         2.7    16.9    19738   116851   \n",
       "4  김해시          532  2013    16.4         2.8     8.0    41790   522049   \n",
       "\n",
       "   상대적빈곤율(중위소득60%이하)  생활비에 보탬이 되기위해 취업희망 노인수  welfare_facil_w  welfare_staff  \n",
       "0          51394.926            37069.149020         0.003946             59  \n",
       "1          22272.096            25661.328000         0.004881             13  \n",
       "2           9454.610             6819.240230         0.005452              5  \n",
       "3           9987.428             7203.541004         0.005348              1  \n",
       "4          21145.740            15251.594820         0.005192             35  "
      ]
     },
     "metadata": {},
     "execution_count": 2
    }
   ],
   "metadata": {}
  },
  {
   "cell_type": "code",
   "execution_count": null,
   "source": [
    "# 칼럼 확인\r\n",
    "df.columns"
   ],
   "outputs": [
    {
     "output_type": "execute_result",
     "data": {
      "text/plain": [
       "Index(['city', 'silver_hall', 'year', 'stress', 'melancholy', '고령인구비율',\n",
       "       '65세이상인구', '전체인구', '상대적빈곤율(중위소득60%이하)', '생활비에 보탬이 되기위해 취업희망 노인수',\n",
       "       'welfare_facil_w', 'welfare_staff'],\n",
       "      dtype='object')"
      ]
     },
     "metadata": {},
     "execution_count": 3
    }
   ],
   "metadata": {}
  },
  {
   "cell_type": "code",
   "execution_count": null,
   "source": [
    "# 원본 보관 \r\n",
    "df_raw = df\r\n",
    "\r\n",
    "# 불필요한 칼럼 삭제\r\n",
    "del df['city']\r\n",
    "del df['year']\r\n",
    "del df['전체인구']\r\n",
    "\r\n",
    "df"
   ],
   "outputs": [
    {
     "output_type": "execute_result",
     "data": {
      "text/html": [
       "<div>\n",
       "<style scoped>\n",
       "    .dataframe tbody tr th:only-of-type {\n",
       "        vertical-align: middle;\n",
       "    }\n",
       "\n",
       "    .dataframe tbody tr th {\n",
       "        vertical-align: top;\n",
       "    }\n",
       "\n",
       "    .dataframe thead th {\n",
       "        text-align: right;\n",
       "    }\n",
       "</style>\n",
       "<table border=\"1\" class=\"dataframe\">\n",
       "  <thead>\n",
       "    <tr style=\"text-align: right;\">\n",
       "      <th></th>\n",
       "      <th>silver_hall</th>\n",
       "      <th>stress</th>\n",
       "      <th>melancholy</th>\n",
       "      <th>고령인구비율</th>\n",
       "      <th>65세이상인구</th>\n",
       "      <th>상대적빈곤율(중위소득60%이하)</th>\n",
       "      <th>생활비에 보탬이 되기위해 취업희망 노인수</th>\n",
       "      <th>welfare_facil_w</th>\n",
       "      <th>welfare_staff</th>\n",
       "    </tr>\n",
       "  </thead>\n",
       "  <tbody>\n",
       "    <tr>\n",
       "      <th>0</th>\n",
       "      <td>953</td>\n",
       "      <td>14.8</td>\n",
       "      <td>3.4</td>\n",
       "      <td>9.4</td>\n",
       "      <td>101571</td>\n",
       "      <td>51394.926</td>\n",
       "      <td>37069.149020</td>\n",
       "      <td>0.003946</td>\n",
       "      <td>59</td>\n",
       "    </tr>\n",
       "    <tr>\n",
       "      <th>1</th>\n",
       "      <td>515</td>\n",
       "      <td>26.0</td>\n",
       "      <td>11.5</td>\n",
       "      <td>13.1</td>\n",
       "      <td>44016</td>\n",
       "      <td>22272.096</td>\n",
       "      <td>25661.328000</td>\n",
       "      <td>0.004881</td>\n",
       "      <td>13</td>\n",
       "    </tr>\n",
       "    <tr>\n",
       "      <th>2</th>\n",
       "      <td>207</td>\n",
       "      <td>21.4</td>\n",
       "      <td>6.0</td>\n",
       "      <td>13.4</td>\n",
       "      <td>18685</td>\n",
       "      <td>9454.610</td>\n",
       "      <td>6819.240230</td>\n",
       "      <td>0.005452</td>\n",
       "      <td>5</td>\n",
       "    </tr>\n",
       "    <tr>\n",
       "      <th>3</th>\n",
       "      <td>330</td>\n",
       "      <td>19.7</td>\n",
       "      <td>2.7</td>\n",
       "      <td>16.9</td>\n",
       "      <td>19738</td>\n",
       "      <td>9987.428</td>\n",
       "      <td>7203.541004</td>\n",
       "      <td>0.005348</td>\n",
       "      <td>1</td>\n",
       "    </tr>\n",
       "    <tr>\n",
       "      <th>4</th>\n",
       "      <td>532</td>\n",
       "      <td>16.4</td>\n",
       "      <td>2.8</td>\n",
       "      <td>8.0</td>\n",
       "      <td>41790</td>\n",
       "      <td>21145.740</td>\n",
       "      <td>15251.594820</td>\n",
       "      <td>0.005192</td>\n",
       "      <td>35</td>\n",
       "    </tr>\n",
       "    <tr>\n",
       "      <th>...</th>\n",
       "      <td>...</td>\n",
       "      <td>...</td>\n",
       "      <td>...</td>\n",
       "      <td>...</td>\n",
       "      <td>...</td>\n",
       "      <td>...</td>\n",
       "      <td>...</td>\n",
       "      <td>...</td>\n",
       "      <td>...</td>\n",
       "    </tr>\n",
       "    <tr>\n",
       "      <th>139</th>\n",
       "      <td>382</td>\n",
       "      <td>17.2</td>\n",
       "      <td>3.1</td>\n",
       "      <td>34.6</td>\n",
       "      <td>15490</td>\n",
       "      <td>7837.940</td>\n",
       "      <td>5614.948416</td>\n",
       "      <td>0.005382</td>\n",
       "      <td>7</td>\n",
       "    </tr>\n",
       "    <tr>\n",
       "      <th>140</th>\n",
       "      <td>342</td>\n",
       "      <td>11.3</td>\n",
       "      <td>4.3</td>\n",
       "      <td>36.8</td>\n",
       "      <td>12833</td>\n",
       "      <td>6493.498</td>\n",
       "      <td>4679.652096</td>\n",
       "      <td>0.005425</td>\n",
       "      <td>0</td>\n",
       "    </tr>\n",
       "    <tr>\n",
       "      <th>141</th>\n",
       "      <td>408</td>\n",
       "      <td>17.4</td>\n",
       "      <td>5.1</td>\n",
       "      <td>33.8</td>\n",
       "      <td>13227</td>\n",
       "      <td>6692.862</td>\n",
       "      <td>4830.646968</td>\n",
       "      <td>0.005382</td>\n",
       "      <td>0</td>\n",
       "    </tr>\n",
       "    <tr>\n",
       "      <th>142</th>\n",
       "      <td>438</td>\n",
       "      <td>13.7</td>\n",
       "      <td>4.0</td>\n",
       "      <td>27.7</td>\n",
       "      <td>17026</td>\n",
       "      <td>8615.156</td>\n",
       "      <td>6327.517392</td>\n",
       "      <td>0.005469</td>\n",
       "      <td>14</td>\n",
       "    </tr>\n",
       "    <tr>\n",
       "      <th>143</th>\n",
       "      <td>525</td>\n",
       "      <td>9.8</td>\n",
       "      <td>1.5</td>\n",
       "      <td>39.6</td>\n",
       "      <td>17431</td>\n",
       "      <td>8820.086</td>\n",
       "      <td>6432.540072</td>\n",
       "      <td>0.005512</td>\n",
       "      <td>0</td>\n",
       "    </tr>\n",
       "  </tbody>\n",
       "</table>\n",
       "<p>144 rows × 9 columns</p>\n",
       "</div>"
      ],
      "text/plain": [
       "     silver_hall  stress  melancholy  고령인구비율  65세이상인구  상대적빈곤율(중위소득60%이하)  \\\n",
       "0            953    14.8         3.4     9.4   101571          51394.926   \n",
       "1            515    26.0        11.5    13.1    44016          22272.096   \n",
       "2            207    21.4         6.0    13.4    18685           9454.610   \n",
       "3            330    19.7         2.7    16.9    19738           9987.428   \n",
       "4            532    16.4         2.8     8.0    41790          21145.740   \n",
       "..           ...     ...         ...     ...      ...                ...   \n",
       "139          382    17.2         3.1    34.6    15490           7837.940   \n",
       "140          342    11.3         4.3    36.8    12833           6493.498   \n",
       "141          408    17.4         5.1    33.8    13227           6692.862   \n",
       "142          438    13.7         4.0    27.7    17026           8615.156   \n",
       "143          525     9.8         1.5    39.6    17431           8820.086   \n",
       "\n",
       "     생활비에 보탬이 되기위해 취업희망 노인수  welfare_facil_w  welfare_staff  \n",
       "0              37069.149020         0.003946             59  \n",
       "1              25661.328000         0.004881             13  \n",
       "2               6819.240230         0.005452              5  \n",
       "3               7203.541004         0.005348              1  \n",
       "4              15251.594820         0.005192             35  \n",
       "..                      ...              ...            ...  \n",
       "139             5614.948416         0.005382              7  \n",
       "140             4679.652096         0.005425              0  \n",
       "141             4830.646968         0.005382              0  \n",
       "142             6327.517392         0.005469             14  \n",
       "143             6432.540072         0.005512              0  \n",
       "\n",
       "[144 rows x 9 columns]"
      ]
     },
     "metadata": {},
     "execution_count": 4
    }
   ],
   "metadata": {}
  },
  {
   "cell_type": "markdown",
   "source": [
    "# EDA"
   ],
   "metadata": {}
  },
  {
   "cell_type": "code",
   "execution_count": null,
   "source": [
    "corr_matrix = df.corr()\r\n",
    "\r\n",
    "# 타겟값을 기준으로 관계가 높은 다른 특성들을 정렬해서 역순으로 나열해봅시다.\r\n",
    "\r\n",
    "corr_matrix[\"welfare_staff\"].sort_values(ascending=False)"
   ],
   "outputs": [
    {
     "output_type": "execute_result",
     "data": {
      "text/plain": [
       "welfare_staff             1.000000\n",
       "65세이상인구                   0.923427\n",
       "상대적빈곤율(중위소득60%이하)         0.923427\n",
       "생활비에 보탬이 되기위해 취업희망 노인수    0.904260\n",
       "silver_hall               0.808441\n",
       "melancholy               -0.040442\n",
       "stress                   -0.128504\n",
       "고령인구비율                   -0.511882\n",
       "welfare_facil_w          -0.753313\n",
       "Name: welfare_staff, dtype: float64"
      ]
     },
     "metadata": {},
     "execution_count": 5
    }
   ],
   "metadata": {}
  },
  {
   "cell_type": "markdown",
   "source": [
    "가장 높은 양의 상관관계를 갖는 특성은 복지시설 필요도가 높은 시군구이다. 그 다음으로 고령인구비율, stress 등의 특성이 나열되어 있다."
   ],
   "metadata": {}
  },
  {
   "cell_type": "code",
   "execution_count": null,
   "source": [
    "import seaborn as sns\r\n",
    "from mpl_toolkits.mplot3d import Axes3D\r\n",
    "from mpl_toolkits.mplot3d import proj3d\r\n",
    "import matplotlib as mpl\r\n",
    "import matplotlib.font_manager as fm\r\n",
    "plt.rcParams['font.family'] = 'Malgun Gothic'\r\n",
    "plt.rcParams['font.size'] = 10"
   ],
   "outputs": [],
   "metadata": {}
  },
  {
   "cell_type": "code",
   "execution_count": null,
   "source": [
    "corr_df = pd.DataFrame(corr_matrix[\"welfare_staff\"].sort_values(ascending=False))\r\n",
    "\r\n",
    "plt.figure(figsize=(12,8))\r\n",
    "plt.bar(corr_df.index, corr_df[\"welfare_staff\"])\r\n",
    "plt.xticks(rotation=45)"
   ],
   "outputs": [
    {
     "output_type": "execute_result",
     "data": {
      "text/plain": [
       "([0, 1, 2, 3, 4, 5, 6, 7, 8],\n",
       " [Text(0, 0, ''),\n",
       "  Text(0, 0, ''),\n",
       "  Text(0, 0, ''),\n",
       "  Text(0, 0, ''),\n",
       "  Text(0, 0, ''),\n",
       "  Text(0, 0, ''),\n",
       "  Text(0, 0, ''),\n",
       "  Text(0, 0, ''),\n",
       "  Text(0, 0, '')])"
      ]
     },
     "metadata": {},
     "execution_count": 7
    },
    {
     "output_type": "display_data",
     "data": {
      "image/png": "[encoded data removed]",
      "text/plain": [
       "<Figure size 864x576 with 1 Axes>"
      ]
     },
     "metadata": {
      "needs_background": "light"
     }
    }
   ],
   "metadata": {}
  },
  {
   "cell_type": "code",
   "execution_count": 8,
   "source": [
    "from pandas.plotting import scatter_matrix\r\n",
    "\r\n",
    "attributes = ['65세이상인구','상대적빈곤율(중위소득60%이하)','생활비에 보탬이 되기위해 취업희망 노인수','silver_hall']\r\n",
    "scatter_matrix(df[attributes], figsize=(12, 8))"
   ],
   "outputs": [
    {
     "output_type": "execute_result",
     "data": {
      "text/plain": [
       "array([[<AxesSubplot:xlabel='65세이상인구', ylabel='65세이상인구'>,\n",
       "        <AxesSubplot:xlabel='상대적빈곤율(중위소득60%이하)', ylabel='65세이상인구'>,\n",
       "        <AxesSubplot:xlabel='생활비에 보탬이 되기위해 취업희망 노인수', ylabel='65세이상인구'>,\n",
       "        <AxesSubplot:xlabel='silver_hall', ylabel='65세이상인구'>],\n",
       "       [<AxesSubplot:xlabel='65세이상인구', ylabel='상대적빈곤율(중위소득60%이하)'>,\n",
       "        <AxesSubplot:xlabel='상대적빈곤율(중위소득60%이하)', ylabel='상대적빈곤율(중위소득60%이하)'>,\n",
       "        <AxesSubplot:xlabel='생활비에 보탬이 되기위해 취업희망 노인수', ylabel='상대적빈곤율(중위소득60%이하)'>,\n",
       "        <AxesSubplot:xlabel='silver_hall', ylabel='상대적빈곤율(중위소득60%이하)'>],\n",
       "       [<AxesSubplot:xlabel='65세이상인구', ylabel='생활비에 보탬이 되기위해 취업희망 노인수'>,\n",
       "        <AxesSubplot:xlabel='상대적빈곤율(중위소득60%이하)', ylabel='생활비에 보탬이 되기위해 취업희망 노인수'>,\n",
       "        <AxesSubplot:xlabel='생활비에 보탬이 되기위해 취업희망 노인수', ylabel='생활비에 보탬이 되기위해 취업희망 노인수'>,\n",
       "        <AxesSubplot:xlabel='silver_hall', ylabel='생활비에 보탬이 되기위해 취업희망 노인수'>],\n",
       "       [<AxesSubplot:xlabel='65세이상인구', ylabel='silver_hall'>,\n",
       "        <AxesSubplot:xlabel='상대적빈곤율(중위소득60%이하)', ylabel='silver_hall'>,\n",
       "        <AxesSubplot:xlabel='생활비에 보탬이 되기위해 취업희망 노인수', ylabel='silver_hall'>,\n",
       "        <AxesSubplot:xlabel='silver_hall', ylabel='silver_hall'>]],\n",
       "      dtype=object)"
      ]
     },
     "metadata": {},
     "execution_count": 8
    },
    {
     "output_type": "display_data",
     "data": {
      "image/png": "[encoded data removed]",
      "text/plain": [
       "<Figure size 864x576 with 16 Axes>"
      ]
     },
     "metadata": {
      "needs_background": "light"
     }
    }
   ],
   "metadata": {}
  },
  {
   "cell_type": "markdown",
   "source": [
    "# 모델링 데이터 준비"
   ],
   "metadata": {}
  },
  {
   "cell_type": "code",
   "execution_count": 9,
   "source": [
    "from sklearn.model_selection import train_test_split\r\n",
    "\r\n",
    "x = df[['65세이상인구','상대적빈곤율(중위소득60%이하)','생활비에 보탬이 되기위해 취업희망 노인수','silver_hall','melancholy','stress','고령인구비율','welfare_facil_w']]\r\n",
    "y = df[['welfare_staff']]\r\n",
    "\r\n",
    "x_train, x_test, y_train, y_test = train_test_split(x,y, train_size = 0.7, test_size = 0.3)\r\n",
    "\r\n",
    "x_train.shape, x_test.shape, y_train.shape, y_test.shape"
   ],
   "outputs": [
    {
     "output_type": "execute_result",
     "data": {
      "text/plain": [
       "((100, 8), (44, 8), (100, 1), (44, 1))"
      ]
     },
     "metadata": {},
     "execution_count": 9
    }
   ],
   "metadata": {}
  },
  {
   "cell_type": "markdown",
   "source": [
    "# 엘라스틱넷 모델링"
   ],
   "metadata": {}
  },
  {
   "cell_type": "code",
   "execution_count": 10,
   "source": [
    "# 모형 생성\r\n",
    "model_elastic = ElasticNet()\r\n",
    "model_elastic.fit(x_train, y_train)"
   ],
   "outputs": [
    {
     "output_type": "execute_result",
     "data": {
      "text/plain": [
       "ElasticNet()"
      ]
     },
     "metadata": {},
     "execution_count": 10
    }
   ],
   "metadata": {}
  },
  {
   "cell_type": "markdown",
   "source": [
    "# 모델 테스트"
   ],
   "metadata": {}
  },
  {
   "cell_type": "code",
   "execution_count": 11,
   "source": [
    "plt.plot(model_elastic.predict(x_test[:30]), label=\"predict\")\r\n",
    "plt.plot(y_test[:30].values.reshape(-1, 1), label=\"real value\")\r\n",
    "plt.legend()"
   ],
   "outputs": [
    {
     "output_type": "execute_result",
     "data": {
      "text/plain": [
       "<matplotlib.legend.Legend at 0x25f686d0b20>"
      ]
     },
     "metadata": {},
     "execution_count": 11
    },
    {
     "output_type": "display_data",
     "data": {
      "image/png": "[encoded data removed]",
      "text/plain": [
       "<Figure size 432x288 with 1 Axes>"
      ]
     },
     "metadata": {
      "needs_background": "light"
     }
    }
   ],
   "metadata": {}
  },
  {
   "cell_type": "markdown",
   "source": [
    "테스트셋의 x 데이터 30개를 이용해 rent 비용을 예측하고 실제 테스트셋의 y데이터를 확인한 결과 대체적으로 비슷한 결과\r\n",
    "\r\n",
    "전체 test 데이터를 이용해 값을 예측하고 실제 값과 비교하여 산점도를 그려 선형적인 모습인지 확인"
   ],
   "metadata": {}
  },
  {
   "cell_type": "code",
   "execution_count": 12,
   "source": [
    "y_predict = model_elastic.predict(x_test)\r\n",
    "\r\n",
    "plt.scatter(y_test, y_predict, alpha = 0.4)\r\n",
    "plt.show()"
   ],
   "outputs": [
    {
     "output_type": "display_data",
     "data": {
      "image/png": "[encoded data removed]",
      "text/plain": [
       "<Figure size 432x288 with 1 Axes>"
      ]
     },
     "metadata": {
      "needs_background": "light"
     }
    }
   ],
   "metadata": {}
  },
  {
   "cell_type": "code",
   "execution_count": 13,
   "source": [
    "print(model_elastic.score(x_train, y_train))"
   ],
   "outputs": [
    {
     "output_type": "stream",
     "name": "stdout",
     "text": [
      "0.8172134007528823\n"
     ]
    }
   ],
   "metadata": {}
  },
  {
   "cell_type": "code",
   "execution_count": 14,
   "source": [
    "# 데이터셋 스케일링\r\n",
    "from sklearn.preprocessing import MinMaxScaler\r\n",
    "\r\n",
    "scaler = MinMaxScaler()\r\n",
    "df_scaling = scaler.fit_transform(df.iloc[:,:-1])\r\n",
    "df_scaling = pd.DataFrame(df_scaling, columns=['65세이상인구','상대적빈곤율(중위소득60%이하)','생활비에 보탬이 되기위해 취업희망 노인수','silver_hall','melancholy','stress','고령인구비율','welfare_facil_w'])\r\n",
    "df_scaling['welfare_staff'] = df.iloc[:,-1].astype('int')\r\n",
    "df_scaling"
   ],
   "outputs": [
    {
     "output_type": "execute_result",
     "data": {
      "text/html": [
       "<div>\n",
       "<style scoped>\n",
       "    .dataframe tbody tr th:only-of-type {\n",
       "        vertical-align: middle;\n",
       "    }\n",
       "\n",
       "    .dataframe tbody tr th {\n",
       "        vertical-align: top;\n",
       "    }\n",
       "\n",
       "    .dataframe thead th {\n",
       "        text-align: right;\n",
       "    }\n",
       "</style>\n",
       "<table border=\"1\" class=\"dataframe\">\n",
       "  <thead>\n",
       "    <tr style=\"text-align: right;\">\n",
       "      <th></th>\n",
       "      <th>65세이상인구</th>\n",
       "      <th>상대적빈곤율(중위소득60%이하)</th>\n",
       "      <th>생활비에 보탬이 되기위해 취업희망 노인수</th>\n",
       "      <th>silver_hall</th>\n",
       "      <th>melancholy</th>\n",
       "      <th>stress</th>\n",
       "      <th>고령인구비율</th>\n",
       "      <th>welfare_facil_w</th>\n",
       "      <th>welfare_staff</th>\n",
       "    </tr>\n",
       "  </thead>\n",
       "  <tbody>\n",
       "    <tr>\n",
       "      <th>0</th>\n",
       "      <td>0.923267</td>\n",
       "      <td>0.374172</td>\n",
       "      <td>0.131707</td>\n",
       "      <td>0.056250</td>\n",
       "      <td>0.651675</td>\n",
       "      <td>0.651675</td>\n",
       "      <td>0.660215</td>\n",
       "      <td>0.115984</td>\n",
       "      <td>59</td>\n",
       "    </tr>\n",
       "    <tr>\n",
       "      <th>1</th>\n",
       "      <td>0.381188</td>\n",
       "      <td>0.745033</td>\n",
       "      <td>0.526829</td>\n",
       "      <td>0.171875</td>\n",
       "      <td>0.245305</td>\n",
       "      <td>0.245305</td>\n",
       "      <td>0.436625</td>\n",
       "      <td>0.629284</td>\n",
       "      <td>13</td>\n",
       "    </tr>\n",
       "    <tr>\n",
       "      <th>2</th>\n",
       "      <td>0.000000</td>\n",
       "      <td>0.592715</td>\n",
       "      <td>0.258537</td>\n",
       "      <td>0.181250</td>\n",
       "      <td>0.066454</td>\n",
       "      <td>0.066454</td>\n",
       "      <td>0.067325</td>\n",
       "      <td>0.942966</td>\n",
       "      <td>5</td>\n",
       "    </tr>\n",
       "    <tr>\n",
       "      <th>3</th>\n",
       "      <td>0.152228</td>\n",
       "      <td>0.536424</td>\n",
       "      <td>0.097561</td>\n",
       "      <td>0.290625</td>\n",
       "      <td>0.073889</td>\n",
       "      <td>0.073889</td>\n",
       "      <td>0.074857</td>\n",
       "      <td>0.885933</td>\n",
       "      <td>1</td>\n",
       "    </tr>\n",
       "    <tr>\n",
       "      <th>4</th>\n",
       "      <td>0.402228</td>\n",
       "      <td>0.427152</td>\n",
       "      <td>0.102439</td>\n",
       "      <td>0.012500</td>\n",
       "      <td>0.229588</td>\n",
       "      <td>0.229588</td>\n",
       "      <td>0.232597</td>\n",
       "      <td>0.800383</td>\n",
       "      <td>35</td>\n",
       "    </tr>\n",
       "    <tr>\n",
       "      <th>...</th>\n",
       "      <td>...</td>\n",
       "      <td>...</td>\n",
       "      <td>...</td>\n",
       "      <td>...</td>\n",
       "      <td>...</td>\n",
       "      <td>...</td>\n",
       "      <td>...</td>\n",
       "      <td>...</td>\n",
       "      <td>...</td>\n",
       "    </tr>\n",
       "    <tr>\n",
       "      <th>139</th>\n",
       "      <td>0.216584</td>\n",
       "      <td>0.453642</td>\n",
       "      <td>0.117073</td>\n",
       "      <td>0.843750</td>\n",
       "      <td>0.043895</td>\n",
       "      <td>0.043895</td>\n",
       "      <td>0.043721</td>\n",
       "      <td>0.904647</td>\n",
       "      <td>7</td>\n",
       "    </tr>\n",
       "    <tr>\n",
       "      <th>140</th>\n",
       "      <td>0.167079</td>\n",
       "      <td>0.258278</td>\n",
       "      <td>0.175610</td>\n",
       "      <td>0.912500</td>\n",
       "      <td>0.025136</td>\n",
       "      <td>0.025136</td>\n",
       "      <td>0.025389</td>\n",
       "      <td>0.928485</td>\n",
       "      <td>0</td>\n",
       "    </tr>\n",
       "    <tr>\n",
       "      <th>141</th>\n",
       "      <td>0.248762</td>\n",
       "      <td>0.460265</td>\n",
       "      <td>0.214634</td>\n",
       "      <td>0.818750</td>\n",
       "      <td>0.027917</td>\n",
       "      <td>0.027917</td>\n",
       "      <td>0.028349</td>\n",
       "      <td>0.904647</td>\n",
       "      <td>0</td>\n",
       "    </tr>\n",
       "    <tr>\n",
       "      <th>142</th>\n",
       "      <td>0.285891</td>\n",
       "      <td>0.337748</td>\n",
       "      <td>0.160976</td>\n",
       "      <td>0.628125</td>\n",
       "      <td>0.054740</td>\n",
       "      <td>0.054740</td>\n",
       "      <td>0.057687</td>\n",
       "      <td>0.952323</td>\n",
       "      <td>14</td>\n",
       "    </tr>\n",
       "    <tr>\n",
       "      <th>143</th>\n",
       "      <td>0.393564</td>\n",
       "      <td>0.208609</td>\n",
       "      <td>0.039024</td>\n",
       "      <td>1.000000</td>\n",
       "      <td>0.057600</td>\n",
       "      <td>0.057600</td>\n",
       "      <td>0.059746</td>\n",
       "      <td>0.976162</td>\n",
       "      <td>0</td>\n",
       "    </tr>\n",
       "  </tbody>\n",
       "</table>\n",
       "<p>144 rows × 9 columns</p>\n",
       "</div>"
      ],
      "text/plain": [
       "      65세이상인구  상대적빈곤율(중위소득60%이하)  생활비에 보탬이 되기위해 취업희망 노인수  silver_hall  \\\n",
       "0    0.923267           0.374172                0.131707     0.056250   \n",
       "1    0.381188           0.745033                0.526829     0.171875   \n",
       "2    0.000000           0.592715                0.258537     0.181250   \n",
       "3    0.152228           0.536424                0.097561     0.290625   \n",
       "4    0.402228           0.427152                0.102439     0.012500   \n",
       "..        ...                ...                     ...          ...   \n",
       "139  0.216584           0.453642                0.117073     0.843750   \n",
       "140  0.167079           0.258278                0.175610     0.912500   \n",
       "141  0.248762           0.460265                0.214634     0.818750   \n",
       "142  0.285891           0.337748                0.160976     0.628125   \n",
       "143  0.393564           0.208609                0.039024     1.000000   \n",
       "\n",
       "     melancholy    stress    고령인구비율  welfare_facil_w  welfare_staff  \n",
       "0      0.651675  0.651675  0.660215         0.115984             59  \n",
       "1      0.245305  0.245305  0.436625         0.629284             13  \n",
       "2      0.066454  0.066454  0.067325         0.942966              5  \n",
       "3      0.073889  0.073889  0.074857         0.885933              1  \n",
       "4      0.229588  0.229588  0.232597         0.800383             35  \n",
       "..          ...       ...       ...              ...            ...  \n",
       "139    0.043895  0.043895  0.043721         0.904647              7  \n",
       "140    0.025136  0.025136  0.025389         0.928485              0  \n",
       "141    0.027917  0.027917  0.028349         0.904647              0  \n",
       "142    0.054740  0.054740  0.057687         0.952323             14  \n",
       "143    0.057600  0.057600  0.059746         0.976162              0  \n",
       "\n",
       "[144 rows x 9 columns]"
      ]
     },
     "metadata": {},
     "execution_count": 14
    }
   ],
   "metadata": {}
  },
  {
   "cell_type": "code",
   "execution_count": 15,
   "source": [
    "# 결측값 확인\r\n",
    "df_scaling.isna().sum()"
   ],
   "outputs": [
    {
     "output_type": "execute_result",
     "data": {
      "text/plain": [
       "65세이상인구                   0\n",
       "상대적빈곤율(중위소득60%이하)         0\n",
       "생활비에 보탬이 되기위해 취업희망 노인수    0\n",
       "silver_hall               0\n",
       "melancholy                0\n",
       "stress                    0\n",
       "고령인구비율                    0\n",
       "welfare_facil_w           0\n",
       "welfare_staff             0\n",
       "dtype: int64"
      ]
     },
     "metadata": {},
     "execution_count": 15
    }
   ],
   "metadata": {}
  },
  {
   "cell_type": "code",
   "execution_count": 16,
   "source": [
    "# 데이터셋 탐색\r\n",
    "df_scaling.info()"
   ],
   "outputs": [
    {
     "output_type": "stream",
     "name": "stdout",
     "text": [
      "<class 'pandas.core.frame.DataFrame'>\n",
      "RangeIndex: 144 entries, 0 to 143\n",
      "Data columns (total 9 columns):\n",
      " #   Column                  Non-Null Count  Dtype  \n",
      "---  ------                  --------------  -----  \n",
      " 0   65세이상인구                 144 non-null    float64\n",
      " 1   상대적빈곤율(중위소득60%이하)       144 non-null    float64\n",
      " 2   생활비에 보탬이 되기위해 취업희망 노인수  144 non-null    float64\n",
      " 3   silver_hall             144 non-null    float64\n",
      " 4   melancholy              144 non-null    float64\n",
      " 5   stress                  144 non-null    float64\n",
      " 6   고령인구비율                  144 non-null    float64\n",
      " 7   welfare_facil_w         144 non-null    float64\n",
      " 8   welfare_staff           144 non-null    int32  \n",
      "dtypes: float64(8), int32(1)\n",
      "memory usage: 9.7 KB\n"
     ]
    }
   ],
   "metadata": {}
  },
  {
   "cell_type": "code",
   "execution_count": 17,
   "source": [
    "df_scaling.describe()"
   ],
   "outputs": [
    {
     "output_type": "execute_result",
     "data": {
      "text/html": [
       "<div>\n",
       "<style scoped>\n",
       "    .dataframe tbody tr th:only-of-type {\n",
       "        vertical-align: middle;\n",
       "    }\n",
       "\n",
       "    .dataframe tbody tr th {\n",
       "        vertical-align: top;\n",
       "    }\n",
       "\n",
       "    .dataframe thead th {\n",
       "        text-align: right;\n",
       "    }\n",
       "</style>\n",
       "<table border=\"1\" class=\"dataframe\">\n",
       "  <thead>\n",
       "    <tr style=\"text-align: right;\">\n",
       "      <th></th>\n",
       "      <th>65세이상인구</th>\n",
       "      <th>상대적빈곤율(중위소득60%이하)</th>\n",
       "      <th>생활비에 보탬이 되기위해 취업희망 노인수</th>\n",
       "      <th>silver_hall</th>\n",
       "      <th>melancholy</th>\n",
       "      <th>stress</th>\n",
       "      <th>고령인구비율</th>\n",
       "      <th>welfare_facil_w</th>\n",
       "      <th>welfare_staff</th>\n",
       "    </tr>\n",
       "  </thead>\n",
       "  <tbody>\n",
       "    <tr>\n",
       "      <th>count</th>\n",
       "      <td>144.000000</td>\n",
       "      <td>144.000000</td>\n",
       "      <td>144.000000</td>\n",
       "      <td>144.000000</td>\n",
       "      <td>144.000000</td>\n",
       "      <td>144.000000</td>\n",
       "      <td>144.000000</td>\n",
       "      <td>144.000000</td>\n",
       "      <td>144.000000</td>\n",
       "    </tr>\n",
       "    <tr>\n",
       "      <th>mean</th>\n",
       "      <td>0.245514</td>\n",
       "      <td>0.492228</td>\n",
       "      <td>0.274932</td>\n",
       "      <td>0.486892</td>\n",
       "      <td>0.129727</td>\n",
       "      <td>0.129727</td>\n",
       "      <td>0.141424</td>\n",
       "      <td>0.830484</td>\n",
       "      <td>11.736111</td>\n",
       "    </tr>\n",
       "    <tr>\n",
       "      <th>std</th>\n",
       "      <td>0.207272</td>\n",
       "      <td>0.196188</td>\n",
       "      <td>0.173152</td>\n",
       "      <td>0.289904</td>\n",
       "      <td>0.187291</td>\n",
       "      <td>0.187291</td>\n",
       "      <td>0.203322</td>\n",
       "      <td>0.204178</td>\n",
       "      <td>22.029855</td>\n",
       "    </tr>\n",
       "    <tr>\n",
       "      <th>min</th>\n",
       "      <td>0.000000</td>\n",
       "      <td>0.000000</td>\n",
       "      <td>0.000000</td>\n",
       "      <td>0.000000</td>\n",
       "      <td>0.000000</td>\n",
       "      <td>0.000000</td>\n",
       "      <td>0.000000</td>\n",
       "      <td>0.000000</td>\n",
       "      <td>0.000000</td>\n",
       "    </tr>\n",
       "    <tr>\n",
       "      <th>25%</th>\n",
       "      <td>0.125619</td>\n",
       "      <td>0.367550</td>\n",
       "      <td>0.151220</td>\n",
       "      <td>0.204687</td>\n",
       "      <td>0.036913</td>\n",
       "      <td>0.036913</td>\n",
       "      <td>0.037396</td>\n",
       "      <td>0.806268</td>\n",
       "      <td>0.000000</td>\n",
       "    </tr>\n",
       "    <tr>\n",
       "      <th>50%</th>\n",
       "      <td>0.182550</td>\n",
       "      <td>0.496689</td>\n",
       "      <td>0.243902</td>\n",
       "      <td>0.534375</td>\n",
       "      <td>0.055394</td>\n",
       "      <td>0.055394</td>\n",
       "      <td>0.056427</td>\n",
       "      <td>0.904647</td>\n",
       "      <td>1.000000</td>\n",
       "    </tr>\n",
       "    <tr>\n",
       "      <th>75%</th>\n",
       "      <td>0.281869</td>\n",
       "      <td>0.628311</td>\n",
       "      <td>0.365854</td>\n",
       "      <td>0.742188</td>\n",
       "      <td>0.123443</td>\n",
       "      <td>0.123443</td>\n",
       "      <td>0.120469</td>\n",
       "      <td>0.951567</td>\n",
       "      <td>12.250000</td>\n",
       "    </tr>\n",
       "    <tr>\n",
       "      <th>max</th>\n",
       "      <td>1.000000</td>\n",
       "      <td>1.000000</td>\n",
       "      <td>1.000000</td>\n",
       "      <td>1.000000</td>\n",
       "      <td>1.000000</td>\n",
       "      <td>1.000000</td>\n",
       "      <td>1.000000</td>\n",
       "      <td>1.000000</td>\n",
       "      <td>111.000000</td>\n",
       "    </tr>\n",
       "  </tbody>\n",
       "</table>\n",
       "</div>"
      ],
      "text/plain": [
       "          65세이상인구  상대적빈곤율(중위소득60%이하)  생활비에 보탬이 되기위해 취업희망 노인수  silver_hall  \\\n",
       "count  144.000000         144.000000              144.000000   144.000000   \n",
       "mean     0.245514           0.492228                0.274932     0.486892   \n",
       "std      0.207272           0.196188                0.173152     0.289904   \n",
       "min      0.000000           0.000000                0.000000     0.000000   \n",
       "25%      0.125619           0.367550                0.151220     0.204687   \n",
       "50%      0.182550           0.496689                0.243902     0.534375   \n",
       "75%      0.281869           0.628311                0.365854     0.742188   \n",
       "max      1.000000           1.000000                1.000000     1.000000   \n",
       "\n",
       "       melancholy      stress      고령인구비율  welfare_facil_w  welfare_staff  \n",
       "count  144.000000  144.000000  144.000000       144.000000     144.000000  \n",
       "mean     0.129727    0.129727    0.141424         0.830484      11.736111  \n",
       "std      0.187291    0.187291    0.203322         0.204178      22.029855  \n",
       "min      0.000000    0.000000    0.000000         0.000000       0.000000  \n",
       "25%      0.036913    0.036913    0.037396         0.806268       0.000000  \n",
       "50%      0.055394    0.055394    0.056427         0.904647       1.000000  \n",
       "75%      0.123443    0.123443    0.120469         0.951567      12.250000  \n",
       "max      1.000000    1.000000    1.000000         1.000000     111.000000  "
      ]
     },
     "metadata": {},
     "execution_count": 17
    }
   ],
   "metadata": {}
  },
  {
   "cell_type": "code",
   "execution_count": 18,
   "source": [
    "# 파라미터 확인\r\n",
    "model_elastic.get_params()"
   ],
   "outputs": [
    {
     "output_type": "execute_result",
     "data": {
      "text/plain": [
       "{'alpha': 1.0,\n",
       " 'copy_X': True,\n",
       " 'fit_intercept': True,\n",
       " 'l1_ratio': 0.5,\n",
       " 'max_iter': 1000,\n",
       " 'normalize': False,\n",
       " 'positive': False,\n",
       " 'precompute': False,\n",
       " 'random_state': None,\n",
       " 'selection': 'cyclic',\n",
       " 'tol': 0.0001,\n",
       " 'warm_start': False}"
      ]
     },
     "metadata": {},
     "execution_count": 18
    }
   ],
   "metadata": {}
  },
  {
   "cell_type": "code",
   "execution_count": 20,
   "source": [
    "# GridSearch를 위한 하이퍼파라미터 값 지정하기\r\n",
    "params = {\r\n",
    "    'alpha' : [0.0001,0.01,1,2,3,4],\r\n",
    "    'l1_ratio' : [0.5, 0.7]\r\n",
    "}\r\n",
    "\r\n",
    "# GridsearchCV() 메서드를 이용해 훈련 모델 할당하기. \r\n",
    "gscv_model_elastic = GridSearchCV(model_elastic, param_grid=params, cv=10)\r\n",
    "\r\n",
    "# 모형 학습하기. \r\n",
    "gscv_model_elastic.fit(x_train,y_train)"
   ],
   "outputs": [
    {
     "output_type": "execute_result",
     "data": {
      "text/plain": [
       "GridSearchCV(cv=10, estimator=ElasticNet(),\n",
       "             param_grid={'alpha': [0.0001, 0.01, 1, 2, 3, 4],\n",
       "                         'l1_ratio': [0.5, 0.7]})"
      ]
     },
     "metadata": {},
     "execution_count": 20
    }
   ],
   "metadata": {}
  },
  {
   "cell_type": "code",
   "execution_count": 21,
   "source": [
    "# 최적 하이퍼 파라미터 확인하기. \r\n",
    "gscv_model_elastic.best_params_"
   ],
   "outputs": [
    {
     "output_type": "execute_result",
     "data": {
      "text/plain": [
       "{'alpha': 4, 'l1_ratio': 0.7}"
      ]
     },
     "metadata": {},
     "execution_count": 21
    }
   ],
   "metadata": {}
  },
  {
   "cell_type": "code",
   "execution_count": 22,
   "source": [
    "gscv_model_elastic.best_score_"
   ],
   "outputs": [
    {
     "output_type": "execute_result",
     "data": {
      "text/plain": [
       "0.5784611362031697"
      ]
     },
     "metadata": {},
     "execution_count": 22
    }
   ],
   "metadata": {}
  },
  {
   "cell_type": "code",
   "execution_count": 24,
   "source": [
    "# test 데이터셋으로 모형 예측 및 평가하기. \r\n",
    "#① R-squared\r\n",
    "gscv_model_elastic_fit = gscv_model_elastic.best_estimator_\r\n",
    "gscv_model_elastic_pred = gscv_model_elastic_fit.predict(x_test)\r\n",
    "r2_score(y_test,gscv_model_elastic_pred)"
   ],
   "outputs": [
    {
     "output_type": "execute_result",
     "data": {
      "text/plain": [
       "0.8879152465589333"
      ]
     },
     "metadata": {},
     "execution_count": 24
    }
   ],
   "metadata": {}
  },
  {
   "cell_type": "code",
   "execution_count": 25,
   "source": [
    "#② RMSE \r\n",
    "mse = mean_squared_error(y_test,gscv_model_elastic_pred)\r\n",
    "rmse = np.sqrt(mse)\r\n",
    "rmse"
   ],
   "outputs": [
    {
     "output_type": "execute_result",
     "data": {
      "text/plain": [
       "8.815517574775773"
      ]
     },
     "metadata": {},
     "execution_count": 25
    }
   ],
   "metadata": {}
  },
  {
   "cell_type": "code",
   "execution_count": 29,
   "source": [
    "# 예측값 시각화\r\n",
    "fig = plt.figure(figsize=(12,4))\r\n",
    "graph = fig.add_subplot(1,1,1)\r\n",
    "graph.plot(y_test, label='real_value')\r\n",
    "graph.plot(gscv_model_elastic_pred, label='predict_value')\r\n",
    "graph.set_title('다중회귀분석 예측 결과', size=30)\r\n",
    "plt.legend(loc='upper left')\r\n",
    "plt.show()"
   ],
   "outputs": [
    {
     "output_type": "display_data",
     "data": {
      "image/png": "[encoded data removed]",
      "text/plain": [
       "<Figure size 864x288 with 1 Axes>"
      ]
     },
     "metadata": {
      "needs_background": "light"
     }
    }
   ],
   "metadata": {}
  }
 ],
 "metadata": {
  "orig_nbformat": 4,
  "language_info": {
   "name": "python",
   "version": "3.8.5",
   "mimetype": "text/x-python",
   "codemirror_mode": {
    "name": "ipython",
    "version": 3
   },
   "pygments_lexer": "ipython3",
   "nbconvert_exporter": "python",
   "file_extension": ".py"
  },
  "kernelspec": {
   "name": "python3",
   "display_name": "Python 3.8.5 64-bit ('base': conda)"
  },
  "interpreter": {
   "hash": "8c1eae21719a0790335dcb83aad72b63b602cfe5cdb2bda0f60bc11d4f154e4b"
  }
 },
 "nbformat": 4,
 "nbformat_minor": 2
}